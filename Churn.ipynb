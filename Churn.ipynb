{
 "cells": [
  {
   "cell_type": "code",
   "execution_count": 1,
   "metadata": {},
   "outputs": [],
   "source": [
    "import numpy as np\n",
    "import pandas as pd\n",
    "import matplotlib.pyplot as plt\n",
    "import seaborn as sns\n",
    "%matplotlib inline\n",
    "import dabl\n",
    "import warnings\n",
    "warnings.filterwarnings(\"ignore\")"
   ]
  },
  {
   "cell_type": "code",
   "execution_count": 2,
   "metadata": {},
   "outputs": [],
   "source": [
    "df_sem_cancel = pd.read_csv('CartaoCredito_semtarget.csv')\n",
    "df_cancel = pd.read_csv('CartaoCredito_cancelamento.csv')"
   ]
  },
  {
   "cell_type": "code",
   "execution_count": 3,
   "metadata": {},
   "outputs": [
    {
     "data": {
      "text/plain": [
       "((891, 14), (300, 14))"
      ]
     },
     "execution_count": 3,
     "metadata": {},
     "output_type": "execute_result"
    }
   ],
   "source": [
    "df_sem_cancel.shape, df_cancel.shape"
   ]
  },
  {
   "cell_type": "code",
   "execution_count": 4,
   "metadata": {},
   "outputs": [],
   "source": [
    "# Adicionar os Targets\n",
    "df_sem_cancel['Target'] = 0\n",
    "df_cancel['Target'] = 1"
   ]
  },
  {
   "cell_type": "code",
   "execution_count": 5,
   "metadata": {},
   "outputs": [
    {
     "data": {
      "text/html": [
       "<div>\n",
       "<style scoped>\n",
       "    .dataframe tbody tr th:only-of-type {\n",
       "        vertical-align: middle;\n",
       "    }\n",
       "\n",
       "    .dataframe tbody tr th {\n",
       "        vertical-align: top;\n",
       "    }\n",
       "\n",
       "    .dataframe thead th {\n",
       "        text-align: right;\n",
       "    }\n",
       "</style>\n",
       "<table border=\"1\" class=\"dataframe\">\n",
       "  <thead>\n",
       "    <tr style=\"text-align: right;\">\n",
       "      <th></th>\n",
       "      <th>ID</th>\n",
       "      <th>PerfilEconomico</th>\n",
       "      <th>Sexo</th>\n",
       "      <th>Idade</th>\n",
       "      <th>PerfilCompra</th>\n",
       "      <th>ValorCompraAnual</th>\n",
       "      <th>GastoMax</th>\n",
       "      <th>GastoMedio</th>\n",
       "      <th>UF</th>\n",
       "      <th>CidadeResidencia</th>\n",
       "      <th>RegiaodoPais</th>\n",
       "      <th>NumeroComprasOnline</th>\n",
       "      <th>MesesDesempregado</th>\n",
       "      <th>Anuidade</th>\n",
       "      <th>Target</th>\n",
       "    </tr>\n",
       "  </thead>\n",
       "  <tbody>\n",
       "    <tr>\n",
       "      <th>0</th>\n",
       "      <td>1</td>\n",
       "      <td>3</td>\n",
       "      <td>homem</td>\n",
       "      <td>22</td>\n",
       "      <td>1</td>\n",
       "      <td>7250.0</td>\n",
       "      <td>517.857143</td>\n",
       "      <td>604.166667</td>\n",
       "      <td>MG</td>\n",
       "      <td>Morada Nova de Minas</td>\n",
       "      <td>Região Sudeste</td>\n",
       "      <td>54.924242</td>\n",
       "      <td>5</td>\n",
       "      <td>62,9304011407</td>\n",
       "      <td>0</td>\n",
       "    </tr>\n",
       "    <tr>\n",
       "      <th>1</th>\n",
       "      <td>2</td>\n",
       "      <td>1</td>\n",
       "      <td>mulher</td>\n",
       "      <td>38</td>\n",
       "      <td>1</td>\n",
       "      <td>71283.0</td>\n",
       "      <td>5091.642857</td>\n",
       "      <td>5940.250000</td>\n",
       "      <td>RN</td>\n",
       "      <td>Marcelino Vieira</td>\n",
       "      <td>Região Nordeste</td>\n",
       "      <td>312.644737</td>\n",
       "      <td>7</td>\n",
       "      <td>37,9153459043</td>\n",
       "      <td>0</td>\n",
       "    </tr>\n",
       "    <tr>\n",
       "      <th>2</th>\n",
       "      <td>3</td>\n",
       "      <td>3</td>\n",
       "      <td>mulher</td>\n",
       "      <td>26</td>\n",
       "      <td>0</td>\n",
       "      <td>7925.0</td>\n",
       "      <td>566.071429</td>\n",
       "      <td>660.416667</td>\n",
       "      <td>PR</td>\n",
       "      <td>Agudos do Sul</td>\n",
       "      <td>Região Sul</td>\n",
       "      <td>50.801282</td>\n",
       "      <td>6</td>\n",
       "      <td>60,9993188527</td>\n",
       "      <td>0</td>\n",
       "    </tr>\n",
       "    <tr>\n",
       "      <th>3</th>\n",
       "      <td>4</td>\n",
       "      <td>1</td>\n",
       "      <td>mulher</td>\n",
       "      <td>35</td>\n",
       "      <td>1</td>\n",
       "      <td>531.0</td>\n",
       "      <td>37.928571</td>\n",
       "      <td>44.250000</td>\n",
       "      <td>PR</td>\n",
       "      <td>Congonhinhas</td>\n",
       "      <td>Região Sul</td>\n",
       "      <td>2.528571</td>\n",
       "      <td>7</td>\n",
       "      <td>5,3944383134</td>\n",
       "      <td>0</td>\n",
       "    </tr>\n",
       "    <tr>\n",
       "      <th>4</th>\n",
       "      <td>5</td>\n",
       "      <td>3</td>\n",
       "      <td>homem</td>\n",
       "      <td>35</td>\n",
       "      <td>0</td>\n",
       "      <td>805.0</td>\n",
       "      <td>57.500000</td>\n",
       "      <td>67.083333</td>\n",
       "      <td>BA</td>\n",
       "      <td>Morpará</td>\n",
       "      <td>Região Nordeste</td>\n",
       "      <td>3.833333</td>\n",
       "      <td>0</td>\n",
       "      <td>40,9964747337</td>\n",
       "      <td>0</td>\n",
       "    </tr>\n",
       "  </tbody>\n",
       "</table>\n",
       "</div>"
      ],
      "text/plain": [
       "   ID  PerfilEconomico    Sexo  Idade  PerfilCompra  ValorCompraAnual  \\\n",
       "0   1                3   homem     22             1            7250.0   \n",
       "1   2                1  mulher     38             1           71283.0   \n",
       "2   3                3  mulher     26             0            7925.0   \n",
       "3   4                1  mulher     35             1             531.0   \n",
       "4   5                3   homem     35             0             805.0   \n",
       "\n",
       "      GastoMax   GastoMedio  UF      CidadeResidencia     RegiaodoPais  \\\n",
       "0   517.857143   604.166667  MG  Morada Nova de Minas   Região Sudeste   \n",
       "1  5091.642857  5940.250000  RN      Marcelino Vieira  Região Nordeste   \n",
       "2   566.071429   660.416667  PR         Agudos do Sul       Região Sul   \n",
       "3    37.928571    44.250000  PR          Congonhinhas       Região Sul   \n",
       "4    57.500000    67.083333  BA               Morpará  Região Nordeste   \n",
       "\n",
       "   NumeroComprasOnline  MesesDesempregado       Anuidade  Target  \n",
       "0            54.924242                  5  62,9304011407       0  \n",
       "1           312.644737                  7  37,9153459043       0  \n",
       "2            50.801282                  6  60,9993188527       0  \n",
       "3             2.528571                  7   5,3944383134       0  \n",
       "4             3.833333                  0  40,9964747337       0  "
      ]
     },
     "execution_count": 5,
     "metadata": {},
     "output_type": "execute_result"
    }
   ],
   "source": [
    "df_sem_cancel.head()"
   ]
  },
  {
   "cell_type": "code",
   "execution_count": 6,
   "metadata": {},
   "outputs": [
    {
     "data": {
      "text/html": [
       "<div>\n",
       "<style scoped>\n",
       "    .dataframe tbody tr th:only-of-type {\n",
       "        vertical-align: middle;\n",
       "    }\n",
       "\n",
       "    .dataframe tbody tr th {\n",
       "        vertical-align: top;\n",
       "    }\n",
       "\n",
       "    .dataframe thead th {\n",
       "        text-align: right;\n",
       "    }\n",
       "</style>\n",
       "<table border=\"1\" class=\"dataframe\">\n",
       "  <thead>\n",
       "    <tr style=\"text-align: right;\">\n",
       "      <th></th>\n",
       "      <th>ID</th>\n",
       "      <th>PerfilEconomico</th>\n",
       "      <th>Sexo</th>\n",
       "      <th>Idade</th>\n",
       "      <th>PerfilCompra</th>\n",
       "      <th>ValorCompraAnual</th>\n",
       "      <th>GastoMax</th>\n",
       "      <th>GastoMedio</th>\n",
       "      <th>UF</th>\n",
       "      <th>CidadeResidencia</th>\n",
       "      <th>RegiaodoPais</th>\n",
       "      <th>NumeroComprasOnline</th>\n",
       "      <th>MesesDesempregado</th>\n",
       "      <th>Anuidade</th>\n",
       "      <th>Target</th>\n",
       "    </tr>\n",
       "  </thead>\n",
       "  <tbody>\n",
       "    <tr>\n",
       "      <th>0</th>\n",
       "      <td>180</td>\n",
       "      <td>2</td>\n",
       "      <td>mulher</td>\n",
       "      <td>24</td>\n",
       "      <td>2</td>\n",
       "      <td>1875</td>\n",
       "      <td>133.928571</td>\n",
       "      <td>156.250000</td>\n",
       "      <td>MA</td>\n",
       "      <td>Centro Novo do Maranhão</td>\n",
       "      <td>Região Nordeste</td>\n",
       "      <td>13.020833</td>\n",
       "      <td>2</td>\n",
       "      <td>251,1938708281</td>\n",
       "      <td>1</td>\n",
       "    </tr>\n",
       "    <tr>\n",
       "      <th>1</th>\n",
       "      <td>119</td>\n",
       "      <td>3</td>\n",
       "      <td>mulher</td>\n",
       "      <td>22</td>\n",
       "      <td>0</td>\n",
       "      <td>725</td>\n",
       "      <td>51.785714</td>\n",
       "      <td>60.416667</td>\n",
       "      <td>PI</td>\n",
       "      <td>Amarante</td>\n",
       "      <td>Região Nordeste</td>\n",
       "      <td>5.492424</td>\n",
       "      <td>13</td>\n",
       "      <td>233,5439410115</td>\n",
       "      <td>1</td>\n",
       "    </tr>\n",
       "    <tr>\n",
       "      <th>2</th>\n",
       "      <td>274</td>\n",
       "      <td>3</td>\n",
       "      <td>homem</td>\n",
       "      <td>22</td>\n",
       "      <td>0</td>\n",
       "      <td>72292</td>\n",
       "      <td>5163.714286</td>\n",
       "      <td>6024.333333</td>\n",
       "      <td>MT</td>\n",
       "      <td>Santo Antônio do Leverger</td>\n",
       "      <td>Região Centro-Oeste</td>\n",
       "      <td>547.666667</td>\n",
       "      <td>2</td>\n",
       "      <td>275,4369442974</td>\n",
       "      <td>1</td>\n",
       "    </tr>\n",
       "    <tr>\n",
       "      <th>3</th>\n",
       "      <td>107</td>\n",
       "      <td>3</td>\n",
       "      <td>homem</td>\n",
       "      <td>22</td>\n",
       "      <td>1</td>\n",
       "      <td>155</td>\n",
       "      <td>11.071429</td>\n",
       "      <td>12.916667</td>\n",
       "      <td>PR</td>\n",
       "      <td>Quitandinha</td>\n",
       "      <td>Região Sul</td>\n",
       "      <td>1.174242</td>\n",
       "      <td>13</td>\n",
       "      <td>2,0031106899</td>\n",
       "      <td>1</td>\n",
       "    </tr>\n",
       "    <tr>\n",
       "      <th>4</th>\n",
       "      <td>37</td>\n",
       "      <td>2</td>\n",
       "      <td>mulher</td>\n",
       "      <td>15</td>\n",
       "      <td>1</td>\n",
       "      <td>26</td>\n",
       "      <td>1.857143</td>\n",
       "      <td>2.166667</td>\n",
       "      <td>SP</td>\n",
       "      <td>Nova Campina</td>\n",
       "      <td>Região Sudeste</td>\n",
       "      <td>0.288889</td>\n",
       "      <td>7</td>\n",
       "      <td>249,3346886075</td>\n",
       "      <td>1</td>\n",
       "    </tr>\n",
       "  </tbody>\n",
       "</table>\n",
       "</div>"
      ],
      "text/plain": [
       "    ID  PerfilEconomico    Sexo  Idade  PerfilCompra  ValorCompraAnual  \\\n",
       "0  180                2  mulher     24             2              1875   \n",
       "1  119                3  mulher     22             0               725   \n",
       "2  274                3   homem     22             0             72292   \n",
       "3  107                3   homem     22             1               155   \n",
       "4   37                2  mulher     15             1                26   \n",
       "\n",
       "      GastoMax   GastoMedio  UF           CidadeResidencia  \\\n",
       "0   133.928571   156.250000  MA    Centro Novo do Maranhão   \n",
       "1    51.785714    60.416667  PI                   Amarante   \n",
       "2  5163.714286  6024.333333  MT  Santo Antônio do Leverger   \n",
       "3    11.071429    12.916667  PR                Quitandinha   \n",
       "4     1.857143     2.166667  SP               Nova Campina   \n",
       "\n",
       "          RegiaodoPais  NumeroComprasOnline  MesesDesempregado  \\\n",
       "0      Região Nordeste            13.020833                  2   \n",
       "1      Região Nordeste             5.492424                 13   \n",
       "2  Região Centro-Oeste           547.666667                  2   \n",
       "3           Região Sul             1.174242                 13   \n",
       "4       Região Sudeste             0.288889                  7   \n",
       "\n",
       "         Anuidade  Target  \n",
       "0  251,1938708281       1  \n",
       "1  233,5439410115       1  \n",
       "2  275,4369442974       1  \n",
       "3    2,0031106899       1  \n",
       "4  249,3346886075       1  "
      ]
     },
     "execution_count": 6,
     "metadata": {},
     "output_type": "execute_result"
    }
   ],
   "source": [
    "df_cancel.head()"
   ]
  },
  {
   "cell_type": "code",
   "execution_count": 7,
   "metadata": {},
   "outputs": [],
   "source": [
    "# Concatenar as bases\n",
    "df = pd.concat([df_cancel, df_sem_cancel])"
   ]
  },
  {
   "cell_type": "code",
   "execution_count": 8,
   "metadata": {},
   "outputs": [
    {
     "data": {
      "text/plain": [
       "(1191, 15)"
      ]
     },
     "execution_count": 8,
     "metadata": {},
     "output_type": "execute_result"
    }
   ],
   "source": [
    "df.shape"
   ]
  },
  {
   "cell_type": "code",
   "execution_count": 9,
   "metadata": {},
   "outputs": [
    {
     "data": {
      "text/html": [
       "<div>\n",
       "<style scoped>\n",
       "    .dataframe tbody tr th:only-of-type {\n",
       "        vertical-align: middle;\n",
       "    }\n",
       "\n",
       "    .dataframe tbody tr th {\n",
       "        vertical-align: top;\n",
       "    }\n",
       "\n",
       "    .dataframe thead th {\n",
       "        text-align: right;\n",
       "    }\n",
       "</style>\n",
       "<table border=\"1\" class=\"dataframe\">\n",
       "  <thead>\n",
       "    <tr style=\"text-align: right;\">\n",
       "      <th></th>\n",
       "      <th>ID</th>\n",
       "      <th>PerfilEconomico</th>\n",
       "      <th>Idade</th>\n",
       "      <th>PerfilCompra</th>\n",
       "      <th>ValorCompraAnual</th>\n",
       "      <th>GastoMax</th>\n",
       "      <th>GastoMedio</th>\n",
       "      <th>NumeroComprasOnline</th>\n",
       "      <th>MesesDesempregado</th>\n",
       "      <th>Target</th>\n",
       "    </tr>\n",
       "  </thead>\n",
       "  <tbody>\n",
       "    <tr>\n",
       "      <th>count</th>\n",
       "      <td>1191.000000</td>\n",
       "      <td>1191.000000</td>\n",
       "      <td>1191.000000</td>\n",
       "      <td>1191.000000</td>\n",
       "      <td>1.163000e+03</td>\n",
       "      <td>1191.000000</td>\n",
       "      <td>1191.000000</td>\n",
       "      <td>1.191000e+03</td>\n",
       "      <td>1191.000000</td>\n",
       "      <td>1191.000000</td>\n",
       "    </tr>\n",
       "    <tr>\n",
       "      <th>mean</th>\n",
       "      <td>371.566751</td>\n",
       "      <td>2.294710</td>\n",
       "      <td>30.273720</td>\n",
       "      <td>0.527288</td>\n",
       "      <td>1.080341e+05</td>\n",
       "      <td>7834.604654</td>\n",
       "      <td>9140.372096</td>\n",
       "      <td>6.680638e+04</td>\n",
       "      <td>5.094878</td>\n",
       "      <td>0.251889</td>\n",
       "    </tr>\n",
       "    <tr>\n",
       "      <th>std</th>\n",
       "      <td>260.563598</td>\n",
       "      <td>0.840946</td>\n",
       "      <td>12.360032</td>\n",
       "      <td>1.078773</td>\n",
       "      <td>3.667945e+05</td>\n",
       "      <td>26481.770183</td>\n",
       "      <td>30895.398547</td>\n",
       "      <td>1.404381e+06</td>\n",
       "      <td>3.484935</td>\n",
       "      <td>0.434280</td>\n",
       "    </tr>\n",
       "    <tr>\n",
       "      <th>min</th>\n",
       "      <td>1.000000</td>\n",
       "      <td>1.000000</td>\n",
       "      <td>10.000000</td>\n",
       "      <td>0.000000</td>\n",
       "      <td>0.000000e+00</td>\n",
       "      <td>0.000000</td>\n",
       "      <td>0.000000</td>\n",
       "      <td>0.000000e+00</td>\n",
       "      <td>0.000000</td>\n",
       "      <td>0.000000</td>\n",
       "    </tr>\n",
       "    <tr>\n",
       "      <th>25%</th>\n",
       "      <td>149.500000</td>\n",
       "      <td>2.000000</td>\n",
       "      <td>22.000000</td>\n",
       "      <td>0.000000</td>\n",
       "      <td>1.670000e+02</td>\n",
       "      <td>11.714286</td>\n",
       "      <td>13.666667</td>\n",
       "      <td>1.159722e+00</td>\n",
       "      <td>2.000000</td>\n",
       "      <td>0.000000</td>\n",
       "    </tr>\n",
       "    <tr>\n",
       "      <th>50%</th>\n",
       "      <td>298.000000</td>\n",
       "      <td>3.000000</td>\n",
       "      <td>26.000000</td>\n",
       "      <td>0.000000</td>\n",
       "      <td>2.625000e+03</td>\n",
       "      <td>187.500000</td>\n",
       "      <td>218.750000</td>\n",
       "      <td>1.321429e+01</td>\n",
       "      <td>5.000000</td>\n",
       "      <td>0.000000</td>\n",
       "    </tr>\n",
       "    <tr>\n",
       "      <th>75%</th>\n",
       "      <td>593.500000</td>\n",
       "      <td>3.000000</td>\n",
       "      <td>36.000000</td>\n",
       "      <td>1.000000</td>\n",
       "      <td>7.866700e+04</td>\n",
       "      <td>5610.142857</td>\n",
       "      <td>6545.166667</td>\n",
       "      <td>5.599739e+02</td>\n",
       "      <td>8.000000</td>\n",
       "      <td>1.000000</td>\n",
       "    </tr>\n",
       "    <tr>\n",
       "      <th>max</th>\n",
       "      <td>891.000000</td>\n",
       "      <td>3.000000</td>\n",
       "      <td>92.000000</td>\n",
       "      <td>8.000000</td>\n",
       "      <td>5.123292e+06</td>\n",
       "      <td>365949.428571</td>\n",
       "      <td>426941.000000</td>\n",
       "      <td>3.410762e+07</td>\n",
       "      <td>14.000000</td>\n",
       "      <td>1.000000</td>\n",
       "    </tr>\n",
       "  </tbody>\n",
       "</table>\n",
       "</div>"
      ],
      "text/plain": [
       "                ID  PerfilEconomico        Idade  PerfilCompra  \\\n",
       "count  1191.000000      1191.000000  1191.000000   1191.000000   \n",
       "mean    371.566751         2.294710    30.273720      0.527288   \n",
       "std     260.563598         0.840946    12.360032      1.078773   \n",
       "min       1.000000         1.000000    10.000000      0.000000   \n",
       "25%     149.500000         2.000000    22.000000      0.000000   \n",
       "50%     298.000000         3.000000    26.000000      0.000000   \n",
       "75%     593.500000         3.000000    36.000000      1.000000   \n",
       "max     891.000000         3.000000    92.000000      8.000000   \n",
       "\n",
       "       ValorCompraAnual       GastoMax     GastoMedio  NumeroComprasOnline  \\\n",
       "count      1.163000e+03    1191.000000    1191.000000         1.191000e+03   \n",
       "mean       1.080341e+05    7834.604654    9140.372096         6.680638e+04   \n",
       "std        3.667945e+05   26481.770183   30895.398547         1.404381e+06   \n",
       "min        0.000000e+00       0.000000       0.000000         0.000000e+00   \n",
       "25%        1.670000e+02      11.714286      13.666667         1.159722e+00   \n",
       "50%        2.625000e+03     187.500000     218.750000         1.321429e+01   \n",
       "75%        7.866700e+04    5610.142857    6545.166667         5.599739e+02   \n",
       "max        5.123292e+06  365949.428571  426941.000000         3.410762e+07   \n",
       "\n",
       "       MesesDesempregado       Target  \n",
       "count        1191.000000  1191.000000  \n",
       "mean            5.094878     0.251889  \n",
       "std             3.484935     0.434280  \n",
       "min             0.000000     0.000000  \n",
       "25%             2.000000     0.000000  \n",
       "50%             5.000000     0.000000  \n",
       "75%             8.000000     1.000000  \n",
       "max            14.000000     1.000000  "
      ]
     },
     "execution_count": 9,
     "metadata": {},
     "output_type": "execute_result"
    }
   ],
   "source": [
    "df.describe()"
   ]
  },
  {
   "cell_type": "code",
   "execution_count": 10,
   "metadata": {},
   "outputs": [
    {
     "data": {
      "text/plain": [
       "ID                      0\n",
       "PerfilEconomico         0\n",
       "Sexo                    0\n",
       "Idade                   0\n",
       "PerfilCompra            0\n",
       "ValorCompraAnual       28\n",
       "GastoMax                0\n",
       "GastoMedio              0\n",
       "UF                      0\n",
       "CidadeResidencia        0\n",
       "RegiaodoPais            0\n",
       "NumeroComprasOnline     0\n",
       "MesesDesempregado       0\n",
       "Anuidade                0\n",
       "Target                  0\n",
       "dtype: int64"
      ]
     },
     "execution_count": 10,
     "metadata": {},
     "output_type": "execute_result"
    }
   ],
   "source": [
    "df.isnull().sum()"
   ]
  },
  {
   "cell_type": "code",
   "execution_count": 11,
   "metadata": {},
   "outputs": [],
   "source": [
    "# Substituir valores nan pela média da respectiva coluna\n",
    "df.ValorCompraAnual.fillna(df.ValorCompraAnual.mean(), inplace=True)"
   ]
  },
  {
   "cell_type": "code",
   "execution_count": 12,
   "metadata": {},
   "outputs": [
    {
     "name": "stdout",
     "output_type": "stream",
     "text": [
      "<class 'pandas.core.frame.DataFrame'>\n",
      "Int64Index: 1191 entries, 0 to 890\n",
      "Data columns (total 15 columns):\n",
      "ID                     1191 non-null int64\n",
      "PerfilEconomico        1191 non-null int64\n",
      "Sexo                   1191 non-null object\n",
      "Idade                  1191 non-null int64\n",
      "PerfilCompra           1191 non-null int64\n",
      "ValorCompraAnual       1191 non-null float64\n",
      "GastoMax               1191 non-null float64\n",
      "GastoMedio             1191 non-null float64\n",
      "UF                     1191 non-null object\n",
      "CidadeResidencia       1191 non-null object\n",
      "RegiaodoPais           1191 non-null object\n",
      "NumeroComprasOnline    1191 non-null float64\n",
      "MesesDesempregado      1191 non-null int64\n",
      "Anuidade               1191 non-null object\n",
      "Target                 1191 non-null int64\n",
      "dtypes: float64(4), int64(6), object(5)\n",
      "memory usage: 148.9+ KB\n"
     ]
    }
   ],
   "source": [
    "df.info()"
   ]
  },
  {
   "cell_type": "code",
   "execution_count": 13,
   "metadata": {},
   "outputs": [],
   "source": [
    "df.drop(columns=['ID'], inplace=True)"
   ]
  },
  {
   "cell_type": "code",
   "execution_count": 14,
   "metadata": {},
   "outputs": [],
   "source": [
    "# Para transformar o formato da coluna 'Anuidade', é necessário primeiro trocar a vírgula pelo ponto.\n",
    "import re\n",
    "df.Anuidade = df.Anuidade.map(lambda x: re.sub(',', '.', x))\n",
    "df.Anuidade = pd.to_numeric(df.Anuidade).astype(float)"
   ]
  },
  {
   "cell_type": "code",
   "execution_count": 15,
   "metadata": {},
   "outputs": [
    {
     "name": "stdout",
     "output_type": "stream",
     "text": [
      "Target looks like classification\n",
      "Linear Discriminant Analysis training set score: 0.792\n"
     ]
    },
    {
     "data": {
      "image/png": "[encoded data removed]",
      "text/plain": [
       "<Figure size 432x288 with 1 Axes>"
      ]
     },
     "metadata": {
      "needs_background": "light"
     },
     "output_type": "display_data"
    },
    {
     "data": {
      "image/png": "[encoded data removed]",
      "text/plain": [
       "<Figure size 1152x288 with 8 Axes>"
      ]
     },
     "metadata": {
      "needs_background": "light"
     },
     "output_type": "display_data"
    },
    {
     "data": {
      "image/png": "[encoded data removed]",
      "text/plain": [
       "<Figure size 1152x288 with 4 Axes>"
      ]
     },
     "metadata": {
      "needs_background": "light"
     },
     "output_type": "display_data"
    },
    {
     "data": {
      "image/png": "[encoded data removed]",
      "text/plain": [
       "<Figure size 1152x288 with 4 Axes>"
      ]
     },
     "metadata": {
      "needs_background": "light"
     },
     "output_type": "display_data"
    },
    {
     "data": {
      "image/png": "[encoded data removed]",
      "text/plain": [
       "<Figure size 432x288 with 1 Axes>"
      ]
     },
     "metadata": {
      "needs_background": "light"
     },
     "output_type": "display_data"
    },
    {
     "data": {
      "image/png": "[encoded data removed]",
      "text/plain": [
       "<Figure size 1152x360 with 4 Axes>"
      ]
     },
     "metadata": {
      "needs_background": "light"
     },
     "output_type": "display_data"
    }
   ],
   "source": [
    "dabl.plot(df, 'Target')"
   ]
  },
  {
   "cell_type": "code",
   "execution_count": 16,
   "metadata": {},
   "outputs": [
    {
     "data": {
      "text/plain": [
       "<matplotlib.axes._subplots.AxesSubplot at 0x1bf09cd7cc0>"
      ]
     },
     "execution_count": 16,
     "metadata": {},
     "output_type": "execute_result"
    },
    {
     "data": {
      "image/png": "[encoded data removed]",
      "text/plain": [
       "<Figure size 432x288 with 1 Axes>"
      ]
     },
     "metadata": {
      "needs_background": "light"
     },
     "output_type": "display_data"
    }
   ],
   "source": [
    "df.RegiaodoPais.value_counts().plot(kind='barh')"
   ]
  },
  {
   "cell_type": "code",
   "execution_count": 17,
   "metadata": {},
   "outputs": [
    {
     "data": {
      "text/plain": [
       "<matplotlib.axes._subplots.AxesSubplot at 0x1bf09cd7048>"
      ]
     },
     "execution_count": 17,
     "metadata": {},
     "output_type": "execute_result"
    },
    {
     "data": {
      "image/png": "[encoded data removed]",
      "text/plain": [
       "<Figure size 432x288 with 1 Axes>"
      ]
     },
     "metadata": {
      "needs_background": "light"
     },
     "output_type": "display_data"
    }
   ],
   "source": [
    "sns.scatterplot(y='GastoMedio', x='MesesDesempregado', data=df, hue='Target')"
   ]
  },
  {
   "cell_type": "code",
   "execution_count": 18,
   "metadata": {},
   "outputs": [
    {
     "data": {
      "text/plain": [
       "<seaborn.axisgrid.JointGrid at 0x1bf09c4a5f8>"
      ]
     },
     "execution_count": 18,
     "metadata": {},
     "output_type": "execute_result"
    },
    {
     "data": {
      "image/png": "[encoded data removed]",
      "text/plain": [
       "<Figure size 432x432 with 3 Axes>"
      ]
     },
     "metadata": {
      "needs_background": "light"
     },
     "output_type": "display_data"
    }
   ],
   "source": [
    "sns.jointplot(x='Idade', y='ValorCompraAnual', data=df)"
   ]
  },
  {
   "cell_type": "code",
   "execution_count": 19,
   "metadata": {},
   "outputs": [
    {
     "data": {
      "text/plain": [
       "<matplotlib.axes._subplots.AxesSubplot at 0x1bf09cbba90>"
      ]
     },
     "execution_count": 19,
     "metadata": {},
     "output_type": "execute_result"
    },
    {
     "data": {
      "image/png": "[encoded data removed]",
      "text/plain": [
       "<Figure size 432x288 with 1 Axes>"
      ]
     },
     "metadata": {
      "needs_background": "light"
     },
     "output_type": "display_data"
    }
   ],
   "source": [
    "sns.distplot(df.Anuidade)"
   ]
  },
  {
   "cell_type": "code",
   "execution_count": 20,
   "metadata": {},
   "outputs": [
    {
     "data": {
      "text/plain": [
       "Index(['PerfilEconomico', 'Sexo', 'Idade', 'PerfilCompra', 'ValorCompraAnual',\n",
       "       'GastoMax', 'GastoMedio', 'UF', 'CidadeResidencia', 'RegiaodoPais',\n",
       "       'NumeroComprasOnline', 'MesesDesempregado', 'Anuidade', 'Target'],\n",
       "      dtype='object')"
      ]
     },
     "execution_count": 20,
     "metadata": {},
     "output_type": "execute_result"
    }
   ],
   "source": [
    "df.columns"
   ]
  },
  {
   "cell_type": "code",
   "execution_count": 21,
   "metadata": {},
   "outputs": [],
   "source": [
    "# Faremos dummies para variáveis com granularidade menor que 10\n",
    "df = pd.get_dummies(df, columns=['PerfilEconomico', 'Sexo', 'RegiaodoPais'], drop_first=True)"
   ]
  },
  {
   "cell_type": "code",
   "execution_count": 22,
   "metadata": {},
   "outputs": [],
   "source": [
    "# Faremos label encoder para variáveis com granularidade maior que 10\n",
    "from sklearn.preprocessing import LabelEncoder"
   ]
  },
  {
   "cell_type": "code",
   "execution_count": 23,
   "metadata": {},
   "outputs": [],
   "source": [
    "label = LabelEncoder()"
   ]
  },
  {
   "cell_type": "code",
   "execution_count": 24,
   "metadata": {},
   "outputs": [],
   "source": [
    "label_1 = label.fit_transform(df.UF)\n",
    "df.UF = pd.DataFrame(label_1)\n",
    "\n",
    "label_2 = label.fit_transform(df.CidadeResidencia)\n",
    "df.CidadeResidencia = pd.DataFrame(label_2)"
   ]
  },
  {
   "cell_type": "code",
   "execution_count": 25,
   "metadata": {},
   "outputs": [
    {
     "data": {
      "text/html": [
       "<div>\n",
       "<style scoped>\n",
       "    .dataframe tbody tr th:only-of-type {\n",
       "        vertical-align: middle;\n",
       "    }\n",
       "\n",
       "    .dataframe tbody tr th {\n",
       "        vertical-align: top;\n",
       "    }\n",
       "\n",
       "    .dataframe thead th {\n",
       "        text-align: right;\n",
       "    }\n",
       "</style>\n",
       "<table border=\"1\" class=\"dataframe\">\n",
       "  <thead>\n",
       "    <tr style=\"text-align: right;\">\n",
       "      <th></th>\n",
       "      <th>Idade</th>\n",
       "      <th>PerfilCompra</th>\n",
       "      <th>ValorCompraAnual</th>\n",
       "      <th>GastoMax</th>\n",
       "      <th>GastoMedio</th>\n",
       "      <th>UF</th>\n",
       "      <th>CidadeResidencia</th>\n",
       "      <th>NumeroComprasOnline</th>\n",
       "      <th>MesesDesempregado</th>\n",
       "      <th>Anuidade</th>\n",
       "      <th>Target</th>\n",
       "      <th>PerfilEconomico_2</th>\n",
       "      <th>PerfilEconomico_3</th>\n",
       "      <th>Sexo_mulher</th>\n",
       "      <th>RegiaodoPais_Região Nordeste</th>\n",
       "      <th>RegiaodoPais_Região Norte</th>\n",
       "      <th>RegiaodoPais_Região Sudeste</th>\n",
       "      <th>RegiaodoPais_Região Sul</th>\n",
       "    </tr>\n",
       "  </thead>\n",
       "  <tbody>\n",
       "    <tr>\n",
       "      <th>0</th>\n",
       "      <td>24</td>\n",
       "      <td>2</td>\n",
       "      <td>1875.0</td>\n",
       "      <td>133.928571</td>\n",
       "      <td>156.250000</td>\n",
       "      <td>8</td>\n",
       "      <td>193</td>\n",
       "      <td>13.020833</td>\n",
       "      <td>2</td>\n",
       "      <td>251.193871</td>\n",
       "      <td>1</td>\n",
       "      <td>1</td>\n",
       "      <td>0</td>\n",
       "      <td>1</td>\n",
       "      <td>1</td>\n",
       "      <td>0</td>\n",
       "      <td>0</td>\n",
       "      <td>0</td>\n",
       "    </tr>\n",
       "    <tr>\n",
       "      <th>1</th>\n",
       "      <td>22</td>\n",
       "      <td>0</td>\n",
       "      <td>725.0</td>\n",
       "      <td>51.785714</td>\n",
       "      <td>60.416667</td>\n",
       "      <td>15</td>\n",
       "      <td>26</td>\n",
       "      <td>5.492424</td>\n",
       "      <td>13</td>\n",
       "      <td>233.543941</td>\n",
       "      <td>1</td>\n",
       "      <td>0</td>\n",
       "      <td>1</td>\n",
       "      <td>1</td>\n",
       "      <td>1</td>\n",
       "      <td>0</td>\n",
       "      <td>0</td>\n",
       "      <td>0</td>\n",
       "    </tr>\n",
       "    <tr>\n",
       "      <th>2</th>\n",
       "      <td>22</td>\n",
       "      <td>0</td>\n",
       "      <td>72292.0</td>\n",
       "      <td>5163.714286</td>\n",
       "      <td>6024.333333</td>\n",
       "      <td>11</td>\n",
       "      <td>694</td>\n",
       "      <td>547.666667</td>\n",
       "      <td>2</td>\n",
       "      <td>275.436944</td>\n",
       "      <td>1</td>\n",
       "      <td>0</td>\n",
       "      <td>1</td>\n",
       "      <td>0</td>\n",
       "      <td>0</td>\n",
       "      <td>0</td>\n",
       "      <td>0</td>\n",
       "      <td>0</td>\n",
       "    </tr>\n",
       "    <tr>\n",
       "      <th>3</th>\n",
       "      <td>22</td>\n",
       "      <td>1</td>\n",
       "      <td>155.0</td>\n",
       "      <td>11.071429</td>\n",
       "      <td>12.916667</td>\n",
       "      <td>16</td>\n",
       "      <td>620</td>\n",
       "      <td>1.174242</td>\n",
       "      <td>13</td>\n",
       "      <td>2.003111</td>\n",
       "      <td>1</td>\n",
       "      <td>0</td>\n",
       "      <td>1</td>\n",
       "      <td>0</td>\n",
       "      <td>0</td>\n",
       "      <td>0</td>\n",
       "      <td>0</td>\n",
       "      <td>1</td>\n",
       "    </tr>\n",
       "    <tr>\n",
       "      <th>4</th>\n",
       "      <td>15</td>\n",
       "      <td>1</td>\n",
       "      <td>26.0</td>\n",
       "      <td>1.857143</td>\n",
       "      <td>2.166667</td>\n",
       "      <td>24</td>\n",
       "      <td>505</td>\n",
       "      <td>0.288889</td>\n",
       "      <td>7</td>\n",
       "      <td>249.334689</td>\n",
       "      <td>1</td>\n",
       "      <td>1</td>\n",
       "      <td>0</td>\n",
       "      <td>1</td>\n",
       "      <td>0</td>\n",
       "      <td>0</td>\n",
       "      <td>1</td>\n",
       "      <td>0</td>\n",
       "    </tr>\n",
       "  </tbody>\n",
       "</table>\n",
       "</div>"
      ],
      "text/plain": [
       "   Idade  PerfilCompra  ValorCompraAnual     GastoMax   GastoMedio  UF  \\\n",
       "0     24             2            1875.0   133.928571   156.250000   8   \n",
       "1     22             0             725.0    51.785714    60.416667  15   \n",
       "2     22             0           72292.0  5163.714286  6024.333333  11   \n",
       "3     22             1             155.0    11.071429    12.916667  16   \n",
       "4     15             1              26.0     1.857143     2.166667  24   \n",
       "\n",
       "   CidadeResidencia  NumeroComprasOnline  MesesDesempregado    Anuidade  \\\n",
       "0               193            13.020833                  2  251.193871   \n",
       "1                26             5.492424                 13  233.543941   \n",
       "2               694           547.666667                  2  275.436944   \n",
       "3               620             1.174242                 13    2.003111   \n",
       "4               505             0.288889                  7  249.334689   \n",
       "\n",
       "   Target  PerfilEconomico_2  PerfilEconomico_3  Sexo_mulher  \\\n",
       "0       1                  1                  0            1   \n",
       "1       1                  0                  1            1   \n",
       "2       1                  0                  1            0   \n",
       "3       1                  0                  1            0   \n",
       "4       1                  1                  0            1   \n",
       "\n",
       "   RegiaodoPais_Região Nordeste  RegiaodoPais_Região Norte  \\\n",
       "0                             1                          0   \n",
       "1                             1                          0   \n",
       "2                             0                          0   \n",
       "3                             0                          0   \n",
       "4                             0                          0   \n",
       "\n",
       "   RegiaodoPais_Região Sudeste  RegiaodoPais_Região Sul  \n",
       "0                            0                        0  \n",
       "1                            0                        0  \n",
       "2                            0                        0  \n",
       "3                            0                        1  \n",
       "4                            1                        0  "
      ]
     },
     "execution_count": 25,
     "metadata": {},
     "output_type": "execute_result"
    }
   ],
   "source": [
    "df.head()"
   ]
  },
  {
   "cell_type": "code",
   "execution_count": 26,
   "metadata": {},
   "outputs": [
    {
     "data": {
      "text/plain": [
       "(1191, 18)"
      ]
     },
     "execution_count": 26,
     "metadata": {},
     "output_type": "execute_result"
    }
   ],
   "source": [
    "df.shape"
   ]
  },
  {
   "cell_type": "markdown",
   "metadata": {},
   "source": [
    "# Seleção de Variáveis"
   ]
  },
  {
   "cell_type": "code",
   "execution_count": 27,
   "metadata": {},
   "outputs": [],
   "source": [
    "# Dividimos a base em duas. Em X temos as variáveis explicativas e em y o target.\n",
    "X = df.drop(columns=['Target'])\n",
    "y = df.Target"
   ]
  },
  {
   "cell_type": "markdown",
   "metadata": {},
   "source": [
    "### Chi2"
   ]
  },
  {
   "cell_type": "code",
   "execution_count": 28,
   "metadata": {},
   "outputs": [],
   "source": [
    "from sklearn.feature_selection import SelectKBest, chi2\n",
    "from sklearn.preprocessing import MinMaxScaler"
   ]
  },
  {
   "cell_type": "code",
   "execution_count": 29,
   "metadata": {},
   "outputs": [],
   "source": [
    "X_norm = MinMaxScaler().fit_transform(X)"
   ]
  },
  {
   "cell_type": "code",
   "execution_count": 30,
   "metadata": {},
   "outputs": [
    {
     "name": "stdout",
     "output_type": "stream",
     "text": [
      "10 variáveis selecionadas:\n",
      "['GastoMax', 'GastoMedio', 'NumeroComprasOnline', 'MesesDesempregado', 'Anuidade', 'PerfilEconomico_3', 'Sexo_mulher', 'RegiaodoPais_Região Nordeste', 'RegiaodoPais_Região Sudeste', 'RegiaodoPais_Região Sul']\n"
     ]
    }
   ],
   "source": [
    "chi2_selector = SelectKBest(chi2, k=10)\n",
    "chi2_selector.fit(X_norm, y)\n",
    "\n",
    "chi2_support = chi2_selector.get_support()\n",
    "\n",
    "chi2_feature = X.loc[: ,chi2_support].columns.tolist()\n",
    "print(str(len(chi2_feature)), 'variáveis selecionadas:')\n",
    "print(str(chi2_feature))"
   ]
  },
  {
   "cell_type": "markdown",
   "metadata": {},
   "source": [
    "### RFE"
   ]
  },
  {
   "cell_type": "code",
   "execution_count": 31,
   "metadata": {},
   "outputs": [],
   "source": [
    "from sklearn.feature_selection import RFE\n",
    "from sklearn.linear_model import LogisticRegression"
   ]
  },
  {
   "cell_type": "code",
   "execution_count": 32,
   "metadata": {},
   "outputs": [
    {
     "name": "stdout",
     "output_type": "stream",
     "text": [
      "8 variáveis selecionadas:\n",
      "['MesesDesempregado', 'PerfilEconomico_2', 'PerfilEconomico_3', 'Sexo_mulher', 'RegiaodoPais_Região Nordeste', 'RegiaodoPais_Região Norte', 'RegiaodoPais_Região Sudeste', 'RegiaodoPais_Região Sul']\n"
     ]
    }
   ],
   "source": [
    "rfe_selector = RFE(estimator=LogisticRegression(), step=2)\n",
    "rfe_selector.fit(X, y)\n",
    "\n",
    "rfe_support = rfe_selector.get_support()\n",
    "\n",
    "rfe_feature = X.loc[: ,rfe_support].columns.tolist()\n",
    "print(str(len(rfe_feature)), 'variáveis selecionadas:')\n",
    "print(str(rfe_feature))"
   ]
  },
  {
   "cell_type": "markdown",
   "metadata": {},
   "source": [
    "### Random Forest"
   ]
  },
  {
   "cell_type": "code",
   "execution_count": 33,
   "metadata": {},
   "outputs": [],
   "source": [
    "from sklearn.ensemble import RandomForestClassifier\n",
    "from sklearn.feature_selection import SelectFromModel"
   ]
  },
  {
   "cell_type": "code",
   "execution_count": 34,
   "metadata": {},
   "outputs": [
    {
     "name": "stdout",
     "output_type": "stream",
     "text": [
      "3 variáveis selecionadas:\n",
      "['CidadeResidencia', 'MesesDesempregado', 'Anuidade']\n"
     ]
    }
   ],
   "source": [
    "rf_selector = SelectFromModel(RandomForestClassifier(n_estimators=10, criterion='entropy'))\n",
    "rf_selector.fit(X, y)\n",
    "\n",
    "rf_support = rf_selector.get_support()\n",
    "\n",
    "rf_feature = X.loc[: ,rf_support].columns.tolist()\n",
    "print(str(len(rf_feature)), 'variáveis selecionadas:')\n",
    "print(str(rf_feature))"
   ]
  },
  {
   "cell_type": "code",
   "execution_count": 35,
   "metadata": {},
   "outputs": [
    {
     "data": {
      "text/html": [
       "<div>\n",
       "<style scoped>\n",
       "    .dataframe tbody tr th:only-of-type {\n",
       "        vertical-align: middle;\n",
       "    }\n",
       "\n",
       "    .dataframe tbody tr th {\n",
       "        vertical-align: top;\n",
       "    }\n",
       "\n",
       "    .dataframe thead th {\n",
       "        text-align: right;\n",
       "    }\n",
       "</style>\n",
       "<table border=\"1\" class=\"dataframe\">\n",
       "  <thead>\n",
       "    <tr style=\"text-align: right;\">\n",
       "      <th></th>\n",
       "      <th>Variáveis</th>\n",
       "      <th>chi2</th>\n",
       "      <th>RFE</th>\n",
       "      <th>Random Forest</th>\n",
       "      <th>Total</th>\n",
       "    </tr>\n",
       "  </thead>\n",
       "  <tbody>\n",
       "    <tr>\n",
       "      <th>8</th>\n",
       "      <td>MesesDesempregado</td>\n",
       "      <td>True</td>\n",
       "      <td>True</td>\n",
       "      <td>True</td>\n",
       "      <td>3</td>\n",
       "    </tr>\n",
       "    <tr>\n",
       "      <th>12</th>\n",
       "      <td>Sexo_mulher</td>\n",
       "      <td>True</td>\n",
       "      <td>True</td>\n",
       "      <td>False</td>\n",
       "      <td>2</td>\n",
       "    </tr>\n",
       "    <tr>\n",
       "      <th>16</th>\n",
       "      <td>RegiaodoPais_Região Sul</td>\n",
       "      <td>True</td>\n",
       "      <td>True</td>\n",
       "      <td>False</td>\n",
       "      <td>2</td>\n",
       "    </tr>\n",
       "    <tr>\n",
       "      <th>15</th>\n",
       "      <td>RegiaodoPais_Região Sudeste</td>\n",
       "      <td>True</td>\n",
       "      <td>True</td>\n",
       "      <td>False</td>\n",
       "      <td>2</td>\n",
       "    </tr>\n",
       "    <tr>\n",
       "      <th>13</th>\n",
       "      <td>RegiaodoPais_Região Nordeste</td>\n",
       "      <td>True</td>\n",
       "      <td>True</td>\n",
       "      <td>False</td>\n",
       "      <td>2</td>\n",
       "    </tr>\n",
       "    <tr>\n",
       "      <th>11</th>\n",
       "      <td>PerfilEconomico_3</td>\n",
       "      <td>True</td>\n",
       "      <td>True</td>\n",
       "      <td>False</td>\n",
       "      <td>2</td>\n",
       "    </tr>\n",
       "    <tr>\n",
       "      <th>9</th>\n",
       "      <td>Anuidade</td>\n",
       "      <td>True</td>\n",
       "      <td>False</td>\n",
       "      <td>True</td>\n",
       "      <td>2</td>\n",
       "    </tr>\n",
       "    <tr>\n",
       "      <th>14</th>\n",
       "      <td>RegiaodoPais_Região Norte</td>\n",
       "      <td>False</td>\n",
       "      <td>True</td>\n",
       "      <td>False</td>\n",
       "      <td>1</td>\n",
       "    </tr>\n",
       "    <tr>\n",
       "      <th>10</th>\n",
       "      <td>PerfilEconomico_2</td>\n",
       "      <td>False</td>\n",
       "      <td>True</td>\n",
       "      <td>False</td>\n",
       "      <td>1</td>\n",
       "    </tr>\n",
       "    <tr>\n",
       "      <th>7</th>\n",
       "      <td>NumeroComprasOnline</td>\n",
       "      <td>True</td>\n",
       "      <td>False</td>\n",
       "      <td>False</td>\n",
       "      <td>1</td>\n",
       "    </tr>\n",
       "    <tr>\n",
       "      <th>4</th>\n",
       "      <td>GastoMedio</td>\n",
       "      <td>True</td>\n",
       "      <td>False</td>\n",
       "      <td>False</td>\n",
       "      <td>1</td>\n",
       "    </tr>\n",
       "    <tr>\n",
       "      <th>3</th>\n",
       "      <td>GastoMax</td>\n",
       "      <td>True</td>\n",
       "      <td>False</td>\n",
       "      <td>False</td>\n",
       "      <td>1</td>\n",
       "    </tr>\n",
       "    <tr>\n",
       "      <th>6</th>\n",
       "      <td>CidadeResidencia</td>\n",
       "      <td>False</td>\n",
       "      <td>False</td>\n",
       "      <td>True</td>\n",
       "      <td>1</td>\n",
       "    </tr>\n",
       "    <tr>\n",
       "      <th>2</th>\n",
       "      <td>ValorCompraAnual</td>\n",
       "      <td>False</td>\n",
       "      <td>False</td>\n",
       "      <td>False</td>\n",
       "      <td>0</td>\n",
       "    </tr>\n",
       "    <tr>\n",
       "      <th>5</th>\n",
       "      <td>UF</td>\n",
       "      <td>False</td>\n",
       "      <td>False</td>\n",
       "      <td>False</td>\n",
       "      <td>0</td>\n",
       "    </tr>\n",
       "  </tbody>\n",
       "</table>\n",
       "</div>"
      ],
      "text/plain": [
       "                       Variáveis   chi2    RFE  Random Forest  Total\n",
       "8              MesesDesempregado   True   True           True      3\n",
       "12                   Sexo_mulher   True   True          False      2\n",
       "16       RegiaodoPais_Região Sul   True   True          False      2\n",
       "15   RegiaodoPais_Região Sudeste   True   True          False      2\n",
       "13  RegiaodoPais_Região Nordeste   True   True          False      2\n",
       "11             PerfilEconomico_3   True   True          False      2\n",
       "9                       Anuidade   True  False           True      2\n",
       "14     RegiaodoPais_Região Norte  False   True          False      1\n",
       "10             PerfilEconomico_2  False   True          False      1\n",
       "7            NumeroComprasOnline   True  False          False      1\n",
       "4                     GastoMedio   True  False          False      1\n",
       "3                       GastoMax   True  False          False      1\n",
       "6               CidadeResidencia  False  False           True      1\n",
       "2               ValorCompraAnual  False  False          False      0\n",
       "5                             UF  False  False          False      0"
      ]
     },
     "execution_count": 35,
     "metadata": {},
     "output_type": "execute_result"
    }
   ],
   "source": [
    "feature_selection_df = pd.DataFrame({'Variáveis': X.columns,\n",
    "                                 'chi2': chi2_support,\n",
    "                                 'RFE': rfe_support,\n",
    "                                 'Random Forest': rf_support})\n",
    "\n",
    "feature_selection_df['Total'] = np.sum(feature_selection_df, axis=1)\n",
    "feature_selection_df = feature_selection_df.sort_values(['Total', 'Variáveis'], ascending=False)\n",
    "feature_selection_df.head(15)"
   ]
  },
  {
   "cell_type": "code",
   "execution_count": 36,
   "metadata": {},
   "outputs": [
    {
     "data": {
      "text/plain": [
       "7"
      ]
     },
     "execution_count": 36,
     "metadata": {},
     "output_type": "execute_result"
    }
   ],
   "source": [
    "# Tomaremos as colunas que aparecem 2 ou 3 vezes de acordo com os algoritmos acima\n",
    "my_features = feature_selection_df[(feature_selection_df.Total == 3) | (feature_selection_df.Total == 2)]['Variáveis'].to_list()\n",
    "len(my_features)"
   ]
  },
  {
   "cell_type": "code",
   "execution_count": 37,
   "metadata": {},
   "outputs": [
    {
     "name": "stdout",
     "output_type": "stream",
     "text": [
      "['MesesDesempregado', 'Sexo_mulher', 'RegiaodoPais_Região Sul', 'RegiaodoPais_Região Sudeste', 'RegiaodoPais_Região Nordeste', 'PerfilEconomico_3', 'Anuidade']\n"
     ]
    }
   ],
   "source": [
    "print(my_features)"
   ]
  },
  {
   "cell_type": "code",
   "execution_count": 38,
   "metadata": {},
   "outputs": [],
   "source": [
    "expl = df[my_features]"
   ]
  },
  {
   "cell_type": "code",
   "execution_count": 39,
   "metadata": {},
   "outputs": [],
   "source": [
    "# Dividimos aleatoriamente as bases em treino e teste. Com a base de treino fazemos modelos e com as base de teste verificamos qual teve o melhor desempenho de acordo com a métrica demandada.\n",
    "from sklearn.model_selection import train_test_split"
   ]
  },
  {
   "cell_type": "code",
   "execution_count": 40,
   "metadata": {},
   "outputs": [],
   "source": [
    "X_train, X_test, y_train, y_test = train_test_split(expl, y, random_state=34)"
   ]
  },
  {
   "cell_type": "code",
   "execution_count": 41,
   "metadata": {},
   "outputs": [
    {
     "data": {
      "text/plain": [
       "((893, 7), (298, 7), (893,), (298,))"
      ]
     },
     "execution_count": 41,
     "metadata": {},
     "output_type": "execute_result"
    }
   ],
   "source": [
    "X_train.shape, X_test.shape, y_train.shape, y_test.shape"
   ]
  },
  {
   "cell_type": "markdown",
   "metadata": {},
   "source": [
    "# Análise"
   ]
  },
  {
   "cell_type": "markdown",
   "metadata": {},
   "source": [
    "Esse trabalho quer prever quais clientes irão cancelar o cartão (Target == 1)\n",
    "\n",
    "Precisamos então saber quais clientes podem ser potenciais alvos em campanhas de retenção\n",
    "\n",
    "A métrica Recall vê quais realmente calcelaram em relação ao predito. Quanto maior o Recall maior será o potencial de retenção"
   ]
  },
  {
   "cell_type": "code",
   "execution_count": 42,
   "metadata": {},
   "outputs": [],
   "source": [
    "# Com o GridSearchCV podemos testar qual a melhor combinação de Hyperparâmetros para os respectivos algoritmos\n",
    "from sklearn.model_selection import GridSearchCV"
   ]
  },
  {
   "cell_type": "markdown",
   "metadata": {},
   "source": [
    "### Regressão Logística"
   ]
  },
  {
   "cell_type": "code",
   "execution_count": 43,
   "metadata": {},
   "outputs": [],
   "source": [
    "rl = LogisticRegression()"
   ]
  },
  {
   "cell_type": "code",
   "execution_count": 44,
   "metadata": {},
   "outputs": [],
   "source": [
    "param_grid_rl = {'penalty': ['l1', 'l2'], 'C': [0.001 ,0.01 ,1,5,10,25]}"
   ]
  },
  {
   "cell_type": "code",
   "execution_count": 45,
   "metadata": {},
   "outputs": [
    {
     "data": {
      "text/plain": [
       "GridSearchCV(cv=5, error_score=nan,\n",
       "             estimator=LogisticRegression(C=1.0, class_weight=None, dual=False,\n",
       "                                          fit_intercept=True,\n",
       "                                          intercept_scaling=1, l1_ratio=None,\n",
       "                                          max_iter=100, multi_class='auto',\n",
       "                                          n_jobs=None, penalty='l2',\n",
       "                                          random_state=None, solver='lbfgs',\n",
       "                                          tol=0.0001, verbose=0,\n",
       "                                          warm_start=False),\n",
       "             iid='deprecated', n_jobs=None,\n",
       "             param_grid={'C': [0.001, 0.01, 1, 5, 10, 25],\n",
       "                         'penalty': ['l1', 'l2']},\n",
       "             pre_dispatch='2*n_jobs', refit=True, return_train_score=False,\n",
       "             scoring='recall', verbose=0)"
      ]
     },
     "execution_count": 45,
     "metadata": {},
     "output_type": "execute_result"
    }
   ],
   "source": [
    "grid_rl = GridSearchCV(estimator=rl, param_grid=param_grid_rl, scoring='recall', cv=5)\n",
    "\n",
    "grid_rl.fit(X_train, y_train)"
   ]
  },
  {
   "cell_type": "code",
   "execution_count": 46,
   "metadata": {},
   "outputs": [
    {
     "data": {
      "text/plain": [
       "{'C': 5, 'penalty': 'l2'}"
      ]
     },
     "execution_count": 46,
     "metadata": {},
     "output_type": "execute_result"
    }
   ],
   "source": [
    "grid_rl.best_params_"
   ]
  },
  {
   "cell_type": "markdown",
   "metadata": {},
   "source": [
    "### Random Forest"
   ]
  },
  {
   "cell_type": "code",
   "execution_count": 47,
   "metadata": {},
   "outputs": [],
   "source": [
    "rf = RandomForestClassifier()"
   ]
  },
  {
   "cell_type": "code",
   "execution_count": 48,
   "metadata": {},
   "outputs": [],
   "source": [
    "param_grid_rf = {'n_estimators': [10, 20, 50, 100, 200, 500],\n",
    "             'criterion': ['gini', 'entropy'],\n",
    "             'bootstrap': [True, False]}"
   ]
  },
  {
   "cell_type": "code",
   "execution_count": 49,
   "metadata": {},
   "outputs": [
    {
     "data": {
      "text/plain": [
       "GridSearchCV(cv=5, error_score=nan,\n",
       "             estimator=RandomForestClassifier(bootstrap=True, ccp_alpha=0.0,\n",
       "                                              class_weight=None,\n",
       "                                              criterion='gini', max_depth=None,\n",
       "                                              max_features='auto',\n",
       "                                              max_leaf_nodes=None,\n",
       "                                              max_samples=None,\n",
       "                                              min_impurity_decrease=0.0,\n",
       "                                              min_impurity_split=None,\n",
       "                                              min_samples_leaf=1,\n",
       "                                              min_samples_split=2,\n",
       "                                              min_weight_fraction_leaf=0.0,\n",
       "                                              n_estimators=100, n_jobs=None,\n",
       "                                              oob_score=False,\n",
       "                                              random_state=None, verbose=0,\n",
       "                                              warm_start=False),\n",
       "             iid='deprecated', n_jobs=None,\n",
       "             param_grid={'bootstrap': [True, False],\n",
       "                         'criterion': ['gini', 'entropy'],\n",
       "                         'n_estimators': [10, 20, 50, 100, 200, 500]},\n",
       "             pre_dispatch='2*n_jobs', refit=True, return_train_score=False,\n",
       "             scoring='recall', verbose=0)"
      ]
     },
     "execution_count": 49,
     "metadata": {},
     "output_type": "execute_result"
    }
   ],
   "source": [
    "grid_rf = GridSearchCV(estimator=rf, param_grid=param_grid_rf, scoring='recall', cv=5)\n",
    "\n",
    "grid_rf.fit(X_train, y_train)"
   ]
  },
  {
   "cell_type": "code",
   "execution_count": 50,
   "metadata": {},
   "outputs": [
    {
     "data": {
      "text/plain": [
       "{'bootstrap': False, 'criterion': 'gini', 'n_estimators': 50}"
      ]
     },
     "execution_count": 50,
     "metadata": {},
     "output_type": "execute_result"
    }
   ],
   "source": [
    "grid_rf.best_params_"
   ]
  },
  {
   "cell_type": "markdown",
   "metadata": {},
   "source": [
    "### Gradient Boost Classifier"
   ]
  },
  {
   "cell_type": "code",
   "execution_count": 51,
   "metadata": {},
   "outputs": [],
   "source": [
    "from sklearn.ensemble import GradientBoostingClassifier"
   ]
  },
  {
   "cell_type": "code",
   "execution_count": 52,
   "metadata": {},
   "outputs": [],
   "source": [
    "gbc = GradientBoostingClassifier()"
   ]
  },
  {
   "cell_type": "code",
   "execution_count": 53,
   "metadata": {},
   "outputs": [],
   "source": [
    "param_grid_gbc = {\n",
    "    'min_samples_split': [0.1, 0.5, 1.0, 3, 5],\n",
    "    'min_samples_leaf': [0.1, 0.5],\n",
    "    'max_depth': [2, 5,10, 50, 100],\n",
    "    'n_estimators':[5, 10, 30]}"
   ]
  },
  {
   "cell_type": "code",
   "execution_count": 54,
   "metadata": {},
   "outputs": [
    {
     "data": {
      "text/plain": [
       "GridSearchCV(cv=5, error_score=nan,\n",
       "             estimator=GradientBoostingClassifier(ccp_alpha=0.0,\n",
       "                                                  criterion='friedman_mse',\n",
       "                                                  init=None, learning_rate=0.1,\n",
       "                                                  loss='deviance', max_depth=3,\n",
       "                                                  max_features=None,\n",
       "                                                  max_leaf_nodes=None,\n",
       "                                                  min_impurity_decrease=0.0,\n",
       "                                                  min_impurity_split=None,\n",
       "                                                  min_samples_leaf=1,\n",
       "                                                  min_samples_split=2,\n",
       "                                                  min_weight_fraction_leaf=0.0,\n",
       "                                                  n_estimators=100,\n",
       "                                                  n_iter_no_c...\n",
       "                                                  presort='deprecated',\n",
       "                                                  random_state=None,\n",
       "                                                  subsample=1.0, tol=0.0001,\n",
       "                                                  validation_fraction=0.1,\n",
       "                                                  verbose=0, warm_start=False),\n",
       "             iid='deprecated', n_jobs=None,\n",
       "             param_grid={'max_depth': [2, 5, 10, 50, 100],\n",
       "                         'min_samples_leaf': [0.1, 0.5],\n",
       "                         'min_samples_split': [0.1, 0.5, 1.0, 3, 5],\n",
       "                         'n_estimators': [5, 10, 30]},\n",
       "             pre_dispatch='2*n_jobs', refit=True, return_train_score=False,\n",
       "             scoring='recall', verbose=0)"
      ]
     },
     "execution_count": 54,
     "metadata": {},
     "output_type": "execute_result"
    }
   ],
   "source": [
    "grid_gbc = GridSearchCV(estimator=gbc, param_grid=param_grid_gbc, scoring='recall', cv=5)\n",
    "\n",
    "grid_gbc.fit(X_train, y_train)"
   ]
  },
  {
   "cell_type": "code",
   "execution_count": 55,
   "metadata": {},
   "outputs": [
    {
     "data": {
      "text/plain": [
       "{'max_depth': 2,\n",
       " 'min_samples_leaf': 0.1,\n",
       " 'min_samples_split': 0.1,\n",
       " 'n_estimators': 5}"
      ]
     },
     "execution_count": 55,
     "metadata": {},
     "output_type": "execute_result"
    }
   ],
   "source": [
    "grid_gbc.best_params_"
   ]
  },
  {
   "cell_type": "markdown",
   "metadata": {},
   "source": [
    "# Resultados"
   ]
  },
  {
   "cell_type": "markdown",
   "metadata": {},
   "source": [
    "O Recall que queremos é o do Target igual a 1"
   ]
  },
  {
   "cell_type": "code",
   "execution_count": 56,
   "metadata": {},
   "outputs": [],
   "source": [
    "from sklearn.metrics import confusion_matrix, classification_report, accuracy_score"
   ]
  },
  {
   "cell_type": "markdown",
   "metadata": {},
   "source": [
    "### Regressão Logística"
   ]
  },
  {
   "cell_type": "code",
   "execution_count": 57,
   "metadata": {},
   "outputs": [],
   "source": [
    "y_pred_rl_test = grid_rl.predict(X_test)\n",
    "y_pred_rl_train = grid_rl.predict(X_train)"
   ]
  },
  {
   "cell_type": "code",
   "execution_count": 58,
   "metadata": {},
   "outputs": [
    {
     "name": "stdout",
     "output_type": "stream",
     "text": [
      "              precision    recall  f1-score   support\n",
      "\n",
      "           0       0.88      0.99      0.93       224\n",
      "           1       0.96      0.59      0.73        74\n",
      "\n",
      "    accuracy                           0.89       298\n",
      "   macro avg       0.92      0.79      0.83       298\n",
      "weighted avg       0.90      0.89      0.88       298\n",
      "\n",
      "[[222   2]\n",
      " [ 30  44]]\n"
     ]
    }
   ],
   "source": [
    "print(classification_report(y_test, y_pred_rl_test))\n",
    "print(confusion_matrix(y_test, y_pred_rl_test))"
   ]
  },
  {
   "cell_type": "code",
   "execution_count": 59,
   "metadata": {},
   "outputs": [
    {
     "name": "stdout",
     "output_type": "stream",
     "text": [
      "0.89\n",
      "0.89\n"
     ]
    }
   ],
   "source": [
    "print(round(accuracy_score(y_test, y_pred_rl_test), 2))\n",
    "print(round(accuracy_score(y_train, y_pred_rl_train), 2))"
   ]
  },
  {
   "cell_type": "markdown",
   "metadata": {},
   "source": [
    "### Random Forest"
   ]
  },
  {
   "cell_type": "code",
   "execution_count": 60,
   "metadata": {},
   "outputs": [],
   "source": [
    "y_pred_rf_test = grid_rf.predict(X_test)\n",
    "y_pred_rf_train = grid_rf.predict(X_train)"
   ]
  },
  {
   "cell_type": "code",
   "execution_count": 61,
   "metadata": {},
   "outputs": [
    {
     "name": "stdout",
     "output_type": "stream",
     "text": [
      "              precision    recall  f1-score   support\n",
      "\n",
      "           0       0.92      0.96      0.94       224\n",
      "           1       0.87      0.73      0.79        74\n",
      "\n",
      "    accuracy                           0.91       298\n",
      "   macro avg       0.89      0.85      0.87       298\n",
      "weighted avg       0.90      0.91      0.90       298\n",
      "\n",
      "[[216   8]\n",
      " [ 20  54]]\n"
     ]
    }
   ],
   "source": [
    "print(classification_report(y_test, y_pred_rf_test))\n",
    "print(confusion_matrix(y_test, y_pred_rf_test))"
   ]
  },
  {
   "cell_type": "code",
   "execution_count": 62,
   "metadata": {},
   "outputs": [
    {
     "name": "stdout",
     "output_type": "stream",
     "text": [
      "0.9060402684563759\n",
      "1.0\n"
     ]
    }
   ],
   "source": [
    "print(accuracy_score(y_test, y_pred_rf_test))\n",
    "print(accuracy_score(y_train, y_pred_rf_train))"
   ]
  },
  {
   "cell_type": "markdown",
   "metadata": {},
   "source": [
    "### Gradient Boost"
   ]
  },
  {
   "cell_type": "code",
   "execution_count": 63,
   "metadata": {},
   "outputs": [],
   "source": [
    "y_pred_gbc_test = grid_gbc.predict(X_test)\n",
    "y_pred_gbc_train = grid_gbc.predict(X_train)"
   ]
  },
  {
   "cell_type": "code",
   "execution_count": 64,
   "metadata": {},
   "outputs": [
    {
     "name": "stdout",
     "output_type": "stream",
     "text": [
      "              precision    recall  f1-score   support\n",
      "\n",
      "           0       0.89      1.00      0.94       224\n",
      "           1       1.00      0.61      0.76        74\n",
      "\n",
      "    accuracy                           0.90       298\n",
      "   macro avg       0.94      0.80      0.85       298\n",
      "weighted avg       0.91      0.90      0.89       298\n",
      "\n",
      "[[224   0]\n",
      " [ 29  45]]\n"
     ]
    }
   ],
   "source": [
    "print(classification_report(y_test, y_pred_gbc_test))\n",
    "print(confusion_matrix(y_test, y_pred_gbc_test))"
   ]
  },
  {
   "cell_type": "code",
   "execution_count": 65,
   "metadata": {},
   "outputs": [
    {
     "name": "stdout",
     "output_type": "stream",
     "text": [
      "0.9026845637583892\n",
      "0.9036954087346024\n"
     ]
    }
   ],
   "source": [
    "print(accuracy_score(y_test, y_pred_gbc_test))\n",
    "print(accuracy_score(y_train, y_pred_gbc_train))"
   ]
  },
  {
   "cell_type": "code",
   "execution_count": 66,
   "metadata": {},
   "outputs": [
    {
     "data": {
      "text/plain": [
       "['modelo_gbc_cancelamento.pkl']"
      ]
     },
     "execution_count": 66,
     "metadata": {},
     "output_type": "execute_result"
    }
   ],
   "source": [
    "from sklearn.externals import joblib\n",
    "\n",
    "joblib.dump(grid_gbc.best_estimator_, 'modelo_gbc_cancelamento.pkl', compress=1)"
   ]
  },
  {
   "cell_type": "code",
   "execution_count": null,
   "metadata": {},
   "outputs": [],
   "source": []
  }
 ],
 "metadata": {
  "kernelspec": {
   "display_name": "Python 3",
   "language": "python",
   "name": "python3"
  },
  "language_info": {
   "codemirror_mode": {
    "name": "ipython",
    "version": 3
   },
   "file_extension": ".py",
   "mimetype": "text/x-python",
   "name": "python",
   "nbconvert_exporter": "python",
   "pygments_lexer": "ipython3",
   "version": "3.7.3"
  }
 },
 "nbformat": 4,
 "nbformat_minor": 2
}
