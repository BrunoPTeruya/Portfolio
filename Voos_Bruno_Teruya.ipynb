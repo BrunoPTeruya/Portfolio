{
  "nbformat": 4,
  "nbformat_minor": 0,
  "metadata": {
    "kernelspec": {
      "display_name": "Python 3",
      "language": "python",
      "name": "python3"
    },
    "language_info": {
      "codemirror_mode": {
        "name": "ipython",
        "version": 3
      },
      "file_extension": ".py",
      "mimetype": "text/x-python",
      "name": "python",
      "nbconvert_exporter": "python",
      "pygments_lexer": "ipython3",
      "version": "3.7.3"
    },
    "colab": {
      "name": "Voos_Bruno_Teruya.ipynb",
      "provenance": [],
      "collapsed_sections": [
        "kPild5pN7gvM",
        "1Q7zpwvS7gw3",
        "gRsd43_V7gxV",
        "OB_HcKbg7gxi",
        "CWcAnJk_7gyN",
        "v9Xs2mR_7gyU",
        "uEnTIrUh7gyn",
        "yyuxq6lH7gy4",
        "38_FpeRC7gzO",
        "5wzVT1F37gza",
        "CUMVQBt37gzh",
        "MrYEUW-U7gzl"
      ],
      "include_colab_link": true
    }
  },
  "cells": [
    {
      "cell_type": "markdown",
      "metadata": {
        "id": "view-in-github",
        "colab_type": "text"
      },
      "source": [
        "<a href=\"https://colab.research.google.com/github/BrunoPTeruya/Portfolio/blob/master/Voos_Bruno_Teruya.ipynb\" target=\"_parent\"><img src=\"https://colab.research.google.com/assets/colab-badge.svg\" alt=\"Open In Colab\"/></a>"
      ]
    },
    {
      "cell_type": "markdown",
      "metadata": {
        "id": "ZBQ4v_9u7gvA",
        "colab_type": "text"
      },
      "source": [
        "**Objetivo**\n",
        "Queremos prever se os voos da base irão atrasar. Nosso alvo é então a coluna ARR_DEL15. No Kaggle essa coluna é descrita como: Arrival Delay Indicator, 15 Minutes or More (1=Yes, 0=No)\n",
        "\n",
        "https://www.kaggle.com/divyansh22/flight-delay-prediction"
      ]
    },
    {
      "cell_type": "markdown",
      "metadata": {
        "id": "DOYHw3SG7gvC",
        "colab_type": "text"
      },
      "source": [
        "Usaremos a base de 2019 para fazer o modelo. Ao final vamos ver como ele se comporta com a base de 2020"
      ]
    },
    {
      "cell_type": "code",
      "metadata": {
        "id": "VMHjr2_u7gvD",
        "colab_type": "code",
        "colab": {}
      },
      "source": [
        "import numpy as np\n",
        "import pandas as pd\n",
        "import matplotlib.pyplot as plt\n",
        "import seaborn as sns\n",
        "%matplotlib inline\n",
        "import warnings\n",
        "warnings.filterwarnings(\"ignore\")\n",
        "\n",
        "pd.set_option('display.max_columns', None)"
      ],
      "execution_count": 60,
      "outputs": []
    },
    {
      "cell_type": "code",
      "metadata": {
        "id": "8C0MREc37gvI",
        "colab_type": "code",
        "colab": {}
      },
      "source": [
        "df = pd.read_csv('Jan_2019_ontime.csv')"
      ],
      "execution_count": 61,
      "outputs": []
    },
    {
      "cell_type": "markdown",
      "metadata": {
        "id": "kPild5pN7gvM",
        "colab_type": "text"
      },
      "source": [
        "# Análise da base"
      ]
    },
    {
      "cell_type": "code",
      "metadata": {
        "id": "4wggVFZ87gvO",
        "colab_type": "code",
        "colab": {
          "base_uri": "https://localhost:8080/",
          "height": 0
        },
        "outputId": "988e11c4-1ba5-45a6-846f-55b7e3052880"
      },
      "source": [
        "df.head(10)"
      ],
      "execution_count": 62,
      "outputs": [
        {
          "output_type": "execute_result",
          "data": {
            "text/html": [
              "<div>\n",
              "<style scoped>\n",
              "    .dataframe tbody tr th:only-of-type {\n",
              "        vertical-align: middle;\n",
              "    }\n",
              "\n",
              "    .dataframe tbody tr th {\n",
              "        vertical-align: top;\n",
              "    }\n",
              "\n",
              "    .dataframe thead th {\n",
              "        text-align: right;\n",
              "    }\n",
              "</style>\n",
              "<table border=\"1\" class=\"dataframe\">\n",
              "  <thead>\n",
              "    <tr style=\"text-align: right;\">\n",
              "      <th></th>\n",
              "      <th>DAY_OF_MONTH</th>\n",
              "      <th>DAY_OF_WEEK</th>\n",
              "      <th>OP_UNIQUE_CARRIER</th>\n",
              "      <th>OP_CARRIER_AIRLINE_ID</th>\n",
              "      <th>OP_CARRIER</th>\n",
              "      <th>TAIL_NUM</th>\n",
              "      <th>OP_CARRIER_FL_NUM</th>\n",
              "      <th>ORIGIN_AIRPORT_ID</th>\n",
              "      <th>ORIGIN_AIRPORT_SEQ_ID</th>\n",
              "      <th>ORIGIN</th>\n",
              "      <th>DEST_AIRPORT_ID</th>\n",
              "      <th>DEST_AIRPORT_SEQ_ID</th>\n",
              "      <th>DEST</th>\n",
              "      <th>DEP_TIME</th>\n",
              "      <th>DEP_DEL15</th>\n",
              "      <th>DEP_TIME_BLK</th>\n",
              "      <th>ARR_TIME</th>\n",
              "      <th>ARR_DEL15</th>\n",
              "      <th>CANCELLED</th>\n",
              "      <th>DIVERTED</th>\n",
              "      <th>DISTANCE</th>\n",
              "      <th>Unnamed: 21</th>\n",
              "    </tr>\n",
              "  </thead>\n",
              "  <tbody>\n",
              "    <tr>\n",
              "      <th>0</th>\n",
              "      <td>1</td>\n",
              "      <td>2</td>\n",
              "      <td>9E</td>\n",
              "      <td>20363</td>\n",
              "      <td>9E</td>\n",
              "      <td>N8688C</td>\n",
              "      <td>3280</td>\n",
              "      <td>11953</td>\n",
              "      <td>1195302</td>\n",
              "      <td>GNV</td>\n",
              "      <td>10397</td>\n",
              "      <td>1039707</td>\n",
              "      <td>ATL</td>\n",
              "      <td>601.0</td>\n",
              "      <td>0.0</td>\n",
              "      <td>0600-0659</td>\n",
              "      <td>722.0</td>\n",
              "      <td>0.0</td>\n",
              "      <td>0.0</td>\n",
              "      <td>0.0</td>\n",
              "      <td>300.0</td>\n",
              "      <td>NaN</td>\n",
              "    </tr>\n",
              "    <tr>\n",
              "      <th>1</th>\n",
              "      <td>1</td>\n",
              "      <td>2</td>\n",
              "      <td>9E</td>\n",
              "      <td>20363</td>\n",
              "      <td>9E</td>\n",
              "      <td>N348PQ</td>\n",
              "      <td>3281</td>\n",
              "      <td>13487</td>\n",
              "      <td>1348702</td>\n",
              "      <td>MSP</td>\n",
              "      <td>11193</td>\n",
              "      <td>1119302</td>\n",
              "      <td>CVG</td>\n",
              "      <td>1359.0</td>\n",
              "      <td>0.0</td>\n",
              "      <td>1400-1459</td>\n",
              "      <td>1633.0</td>\n",
              "      <td>0.0</td>\n",
              "      <td>0.0</td>\n",
              "      <td>0.0</td>\n",
              "      <td>596.0</td>\n",
              "      <td>NaN</td>\n",
              "    </tr>\n",
              "    <tr>\n",
              "      <th>2</th>\n",
              "      <td>1</td>\n",
              "      <td>2</td>\n",
              "      <td>9E</td>\n",
              "      <td>20363</td>\n",
              "      <td>9E</td>\n",
              "      <td>N8896A</td>\n",
              "      <td>3282</td>\n",
              "      <td>11433</td>\n",
              "      <td>1143302</td>\n",
              "      <td>DTW</td>\n",
              "      <td>11193</td>\n",
              "      <td>1119302</td>\n",
              "      <td>CVG</td>\n",
              "      <td>1215.0</td>\n",
              "      <td>0.0</td>\n",
              "      <td>1200-1259</td>\n",
              "      <td>1329.0</td>\n",
              "      <td>0.0</td>\n",
              "      <td>0.0</td>\n",
              "      <td>0.0</td>\n",
              "      <td>229.0</td>\n",
              "      <td>NaN</td>\n",
              "    </tr>\n",
              "    <tr>\n",
              "      <th>3</th>\n",
              "      <td>1</td>\n",
              "      <td>2</td>\n",
              "      <td>9E</td>\n",
              "      <td>20363</td>\n",
              "      <td>9E</td>\n",
              "      <td>N8886A</td>\n",
              "      <td>3283</td>\n",
              "      <td>15249</td>\n",
              "      <td>1524906</td>\n",
              "      <td>TLH</td>\n",
              "      <td>10397</td>\n",
              "      <td>1039707</td>\n",
              "      <td>ATL</td>\n",
              "      <td>1521.0</td>\n",
              "      <td>0.0</td>\n",
              "      <td>1500-1559</td>\n",
              "      <td>1625.0</td>\n",
              "      <td>0.0</td>\n",
              "      <td>0.0</td>\n",
              "      <td>0.0</td>\n",
              "      <td>223.0</td>\n",
              "      <td>NaN</td>\n",
              "    </tr>\n",
              "    <tr>\n",
              "      <th>4</th>\n",
              "      <td>1</td>\n",
              "      <td>2</td>\n",
              "      <td>9E</td>\n",
              "      <td>20363</td>\n",
              "      <td>9E</td>\n",
              "      <td>N8974C</td>\n",
              "      <td>3284</td>\n",
              "      <td>10397</td>\n",
              "      <td>1039707</td>\n",
              "      <td>ATL</td>\n",
              "      <td>11778</td>\n",
              "      <td>1177801</td>\n",
              "      <td>FSM</td>\n",
              "      <td>1847.0</td>\n",
              "      <td>0.0</td>\n",
              "      <td>1900-1959</td>\n",
              "      <td>1940.0</td>\n",
              "      <td>0.0</td>\n",
              "      <td>0.0</td>\n",
              "      <td>0.0</td>\n",
              "      <td>579.0</td>\n",
              "      <td>NaN</td>\n",
              "    </tr>\n",
              "    <tr>\n",
              "      <th>5</th>\n",
              "      <td>1</td>\n",
              "      <td>2</td>\n",
              "      <td>9E</td>\n",
              "      <td>20363</td>\n",
              "      <td>9E</td>\n",
              "      <td>N927EV</td>\n",
              "      <td>3285</td>\n",
              "      <td>11267</td>\n",
              "      <td>1126702</td>\n",
              "      <td>DAY</td>\n",
              "      <td>13487</td>\n",
              "      <td>1348702</td>\n",
              "      <td>MSP</td>\n",
              "      <td>853.0</td>\n",
              "      <td>0.0</td>\n",
              "      <td>0900-0959</td>\n",
              "      <td>953.0</td>\n",
              "      <td>0.0</td>\n",
              "      <td>0.0</td>\n",
              "      <td>0.0</td>\n",
              "      <td>574.0</td>\n",
              "      <td>NaN</td>\n",
              "    </tr>\n",
              "    <tr>\n",
              "      <th>6</th>\n",
              "      <td>1</td>\n",
              "      <td>2</td>\n",
              "      <td>9E</td>\n",
              "      <td>20363</td>\n",
              "      <td>9E</td>\n",
              "      <td>N915XJ</td>\n",
              "      <td>3286</td>\n",
              "      <td>12448</td>\n",
              "      <td>1244807</td>\n",
              "      <td>JAN</td>\n",
              "      <td>10397</td>\n",
              "      <td>1039707</td>\n",
              "      <td>ATL</td>\n",
              "      <td>1553.0</td>\n",
              "      <td>0.0</td>\n",
              "      <td>1500-1559</td>\n",
              "      <td>1832.0</td>\n",
              "      <td>0.0</td>\n",
              "      <td>0.0</td>\n",
              "      <td>0.0</td>\n",
              "      <td>341.0</td>\n",
              "      <td>NaN</td>\n",
              "    </tr>\n",
              "    <tr>\n",
              "      <th>7</th>\n",
              "      <td>1</td>\n",
              "      <td>2</td>\n",
              "      <td>9E</td>\n",
              "      <td>20363</td>\n",
              "      <td>9E</td>\n",
              "      <td>N295PQ</td>\n",
              "      <td>3287</td>\n",
              "      <td>12953</td>\n",
              "      <td>1295304</td>\n",
              "      <td>LGA</td>\n",
              "      <td>11193</td>\n",
              "      <td>1119302</td>\n",
              "      <td>CVG</td>\n",
              "      <td>1551.0</td>\n",
              "      <td>0.0</td>\n",
              "      <td>1500-1559</td>\n",
              "      <td>1824.0</td>\n",
              "      <td>0.0</td>\n",
              "      <td>0.0</td>\n",
              "      <td>0.0</td>\n",
              "      <td>585.0</td>\n",
              "      <td>NaN</td>\n",
              "    </tr>\n",
              "    <tr>\n",
              "      <th>8</th>\n",
              "      <td>1</td>\n",
              "      <td>2</td>\n",
              "      <td>9E</td>\n",
              "      <td>20363</td>\n",
              "      <td>9E</td>\n",
              "      <td>N337PQ</td>\n",
              "      <td>3288</td>\n",
              "      <td>12451</td>\n",
              "      <td>1245102</td>\n",
              "      <td>JAX</td>\n",
              "      <td>12953</td>\n",
              "      <td>1295304</td>\n",
              "      <td>LGA</td>\n",
              "      <td>1037.0</td>\n",
              "      <td>0.0</td>\n",
              "      <td>1000-1059</td>\n",
              "      <td>1239.0</td>\n",
              "      <td>0.0</td>\n",
              "      <td>0.0</td>\n",
              "      <td>0.0</td>\n",
              "      <td>833.0</td>\n",
              "      <td>NaN</td>\n",
              "    </tr>\n",
              "    <tr>\n",
              "      <th>9</th>\n",
              "      <td>1</td>\n",
              "      <td>2</td>\n",
              "      <td>9E</td>\n",
              "      <td>20363</td>\n",
              "      <td>9E</td>\n",
              "      <td>N311PQ</td>\n",
              "      <td>3289</td>\n",
              "      <td>10397</td>\n",
              "      <td>1039707</td>\n",
              "      <td>ATL</td>\n",
              "      <td>10685</td>\n",
              "      <td>1068502</td>\n",
              "      <td>BMI</td>\n",
              "      <td>1245.0</td>\n",
              "      <td>0.0</td>\n",
              "      <td>1200-1259</td>\n",
              "      <td>1318.0</td>\n",
              "      <td>0.0</td>\n",
              "      <td>0.0</td>\n",
              "      <td>0.0</td>\n",
              "      <td>533.0</td>\n",
              "      <td>NaN</td>\n",
              "    </tr>\n",
              "  </tbody>\n",
              "</table>\n",
              "</div>"
            ],
            "text/plain": [
              "   DAY_OF_MONTH  DAY_OF_WEEK OP_UNIQUE_CARRIER  OP_CARRIER_AIRLINE_ID  \\\n",
              "0             1            2                9E                  20363   \n",
              "1             1            2                9E                  20363   \n",
              "2             1            2                9E                  20363   \n",
              "3             1            2                9E                  20363   \n",
              "4             1            2                9E                  20363   \n",
              "5             1            2                9E                  20363   \n",
              "6             1            2                9E                  20363   \n",
              "7             1            2                9E                  20363   \n",
              "8             1            2                9E                  20363   \n",
              "9             1            2                9E                  20363   \n",
              "\n",
              "  OP_CARRIER TAIL_NUM  OP_CARRIER_FL_NUM  ORIGIN_AIRPORT_ID  \\\n",
              "0         9E   N8688C               3280              11953   \n",
              "1         9E   N348PQ               3281              13487   \n",
              "2         9E   N8896A               3282              11433   \n",
              "3         9E   N8886A               3283              15249   \n",
              "4         9E   N8974C               3284              10397   \n",
              "5         9E   N927EV               3285              11267   \n",
              "6         9E   N915XJ               3286              12448   \n",
              "7         9E   N295PQ               3287              12953   \n",
              "8         9E   N337PQ               3288              12451   \n",
              "9         9E   N311PQ               3289              10397   \n",
              "\n",
              "   ORIGIN_AIRPORT_SEQ_ID ORIGIN  DEST_AIRPORT_ID  DEST_AIRPORT_SEQ_ID DEST  \\\n",
              "0                1195302    GNV            10397              1039707  ATL   \n",
              "1                1348702    MSP            11193              1119302  CVG   \n",
              "2                1143302    DTW            11193              1119302  CVG   \n",
              "3                1524906    TLH            10397              1039707  ATL   \n",
              "4                1039707    ATL            11778              1177801  FSM   \n",
              "5                1126702    DAY            13487              1348702  MSP   \n",
              "6                1244807    JAN            10397              1039707  ATL   \n",
              "7                1295304    LGA            11193              1119302  CVG   \n",
              "8                1245102    JAX            12953              1295304  LGA   \n",
              "9                1039707    ATL            10685              1068502  BMI   \n",
              "\n",
              "   DEP_TIME  DEP_DEL15 DEP_TIME_BLK  ARR_TIME  ARR_DEL15  CANCELLED  DIVERTED  \\\n",
              "0     601.0        0.0    0600-0659     722.0        0.0        0.0       0.0   \n",
              "1    1359.0        0.0    1400-1459    1633.0        0.0        0.0       0.0   \n",
              "2    1215.0        0.0    1200-1259    1329.0        0.0        0.0       0.0   \n",
              "3    1521.0        0.0    1500-1559    1625.0        0.0        0.0       0.0   \n",
              "4    1847.0        0.0    1900-1959    1940.0        0.0        0.0       0.0   \n",
              "5     853.0        0.0    0900-0959     953.0        0.0        0.0       0.0   \n",
              "6    1553.0        0.0    1500-1559    1832.0        0.0        0.0       0.0   \n",
              "7    1551.0        0.0    1500-1559    1824.0        0.0        0.0       0.0   \n",
              "8    1037.0        0.0    1000-1059    1239.0        0.0        0.0       0.0   \n",
              "9    1245.0        0.0    1200-1259    1318.0        0.0        0.0       0.0   \n",
              "\n",
              "   DISTANCE  Unnamed: 21  \n",
              "0     300.0          NaN  \n",
              "1     596.0          NaN  \n",
              "2     229.0          NaN  \n",
              "3     223.0          NaN  \n",
              "4     579.0          NaN  \n",
              "5     574.0          NaN  \n",
              "6     341.0          NaN  \n",
              "7     585.0          NaN  \n",
              "8     833.0          NaN  \n",
              "9     533.0          NaN  "
            ]
          },
          "metadata": {
            "tags": []
          },
          "execution_count": 62
        }
      ]
    },
    {
      "cell_type": "code",
      "metadata": {
        "id": "nTmbt5wH7gvS",
        "colab_type": "code",
        "colab": {
          "base_uri": "https://localhost:8080/",
          "height": 0
        },
        "outputId": "f319668b-9d34-4149-ff11-132c80001a45"
      },
      "source": [
        "df.tail()"
      ],
      "execution_count": 63,
      "outputs": [
        {
          "output_type": "execute_result",
          "data": {
            "text/html": [
              "<div>\n",
              "<style scoped>\n",
              "    .dataframe tbody tr th:only-of-type {\n",
              "        vertical-align: middle;\n",
              "    }\n",
              "\n",
              "    .dataframe tbody tr th {\n",
              "        vertical-align: top;\n",
              "    }\n",
              "\n",
              "    .dataframe thead th {\n",
              "        text-align: right;\n",
              "    }\n",
              "</style>\n",
              "<table border=\"1\" class=\"dataframe\">\n",
              "  <thead>\n",
              "    <tr style=\"text-align: right;\">\n",
              "      <th></th>\n",
              "      <th>DAY_OF_MONTH</th>\n",
              "      <th>DAY_OF_WEEK</th>\n",
              "      <th>OP_UNIQUE_CARRIER</th>\n",
              "      <th>OP_CARRIER_AIRLINE_ID</th>\n",
              "      <th>OP_CARRIER</th>\n",
              "      <th>TAIL_NUM</th>\n",
              "      <th>OP_CARRIER_FL_NUM</th>\n",
              "      <th>ORIGIN_AIRPORT_ID</th>\n",
              "      <th>ORIGIN_AIRPORT_SEQ_ID</th>\n",
              "      <th>ORIGIN</th>\n",
              "      <th>DEST_AIRPORT_ID</th>\n",
              "      <th>DEST_AIRPORT_SEQ_ID</th>\n",
              "      <th>DEST</th>\n",
              "      <th>DEP_TIME</th>\n",
              "      <th>DEP_DEL15</th>\n",
              "      <th>DEP_TIME_BLK</th>\n",
              "      <th>ARR_TIME</th>\n",
              "      <th>ARR_DEL15</th>\n",
              "      <th>CANCELLED</th>\n",
              "      <th>DIVERTED</th>\n",
              "      <th>DISTANCE</th>\n",
              "      <th>Unnamed: 21</th>\n",
              "    </tr>\n",
              "  </thead>\n",
              "  <tbody>\n",
              "    <tr>\n",
              "      <th>583980</th>\n",
              "      <td>31</td>\n",
              "      <td>4</td>\n",
              "      <td>UA</td>\n",
              "      <td>19977</td>\n",
              "      <td>UA</td>\n",
              "      <td>N776UA</td>\n",
              "      <td>200</td>\n",
              "      <td>12016</td>\n",
              "      <td>1201602</td>\n",
              "      <td>GUM</td>\n",
              "      <td>12173</td>\n",
              "      <td>1217305</td>\n",
              "      <td>HNL</td>\n",
              "      <td>749.0</td>\n",
              "      <td>0.0</td>\n",
              "      <td>0700-0759</td>\n",
              "      <td>1832.0</td>\n",
              "      <td>0.0</td>\n",
              "      <td>0.0</td>\n",
              "      <td>0.0</td>\n",
              "      <td>3801.0</td>\n",
              "      <td>NaN</td>\n",
              "    </tr>\n",
              "    <tr>\n",
              "      <th>583981</th>\n",
              "      <td>31</td>\n",
              "      <td>4</td>\n",
              "      <td>UA</td>\n",
              "      <td>19977</td>\n",
              "      <td>UA</td>\n",
              "      <td>N36280</td>\n",
              "      <td>174</td>\n",
              "      <td>12016</td>\n",
              "      <td>1201602</td>\n",
              "      <td>GUM</td>\n",
              "      <td>14955</td>\n",
              "      <td>1495503</td>\n",
              "      <td>SPN</td>\n",
              "      <td>717.0</td>\n",
              "      <td>0.0</td>\n",
              "      <td>0700-0759</td>\n",
              "      <td>759.0</td>\n",
              "      <td>0.0</td>\n",
              "      <td>0.0</td>\n",
              "      <td>0.0</td>\n",
              "      <td>129.0</td>\n",
              "      <td>NaN</td>\n",
              "    </tr>\n",
              "    <tr>\n",
              "      <th>583982</th>\n",
              "      <td>31</td>\n",
              "      <td>4</td>\n",
              "      <td>UA</td>\n",
              "      <td>19977</td>\n",
              "      <td>UA</td>\n",
              "      <td>N36280</td>\n",
              "      <td>117</td>\n",
              "      <td>14955</td>\n",
              "      <td>1495503</td>\n",
              "      <td>SPN</td>\n",
              "      <td>12016</td>\n",
              "      <td>1201602</td>\n",
              "      <td>GUM</td>\n",
              "      <td>857.0</td>\n",
              "      <td>0.0</td>\n",
              "      <td>0900-0959</td>\n",
              "      <td>933.0</td>\n",
              "      <td>0.0</td>\n",
              "      <td>0.0</td>\n",
              "      <td>0.0</td>\n",
              "      <td>129.0</td>\n",
              "      <td>NaN</td>\n",
              "    </tr>\n",
              "    <tr>\n",
              "      <th>583983</th>\n",
              "      <td>31</td>\n",
              "      <td>4</td>\n",
              "      <td>UA</td>\n",
              "      <td>19977</td>\n",
              "      <td>UA</td>\n",
              "      <td>N39726</td>\n",
              "      <td>105</td>\n",
              "      <td>14955</td>\n",
              "      <td>1495503</td>\n",
              "      <td>SPN</td>\n",
              "      <td>12016</td>\n",
              "      <td>1201602</td>\n",
              "      <td>GUM</td>\n",
              "      <td>1820.0</td>\n",
              "      <td>0.0</td>\n",
              "      <td>1800-1859</td>\n",
              "      <td>1854.0</td>\n",
              "      <td>0.0</td>\n",
              "      <td>0.0</td>\n",
              "      <td>0.0</td>\n",
              "      <td>129.0</td>\n",
              "      <td>NaN</td>\n",
              "    </tr>\n",
              "    <tr>\n",
              "      <th>583984</th>\n",
              "      <td>31</td>\n",
              "      <td>4</td>\n",
              "      <td>UA</td>\n",
              "      <td>19977</td>\n",
              "      <td>UA</td>\n",
              "      <td>N39726</td>\n",
              "      <td>104</td>\n",
              "      <td>12016</td>\n",
              "      <td>1201602</td>\n",
              "      <td>GUM</td>\n",
              "      <td>14955</td>\n",
              "      <td>1495503</td>\n",
              "      <td>SPN</td>\n",
              "      <td>1636.0</td>\n",
              "      <td>0.0</td>\n",
              "      <td>1600-1659</td>\n",
              "      <td>1719.0</td>\n",
              "      <td>0.0</td>\n",
              "      <td>0.0</td>\n",
              "      <td>0.0</td>\n",
              "      <td>129.0</td>\n",
              "      <td>NaN</td>\n",
              "    </tr>\n",
              "  </tbody>\n",
              "</table>\n",
              "</div>"
            ],
            "text/plain": [
              "        DAY_OF_MONTH  DAY_OF_WEEK OP_UNIQUE_CARRIER  OP_CARRIER_AIRLINE_ID  \\\n",
              "583980            31            4                UA                  19977   \n",
              "583981            31            4                UA                  19977   \n",
              "583982            31            4                UA                  19977   \n",
              "583983            31            4                UA                  19977   \n",
              "583984            31            4                UA                  19977   \n",
              "\n",
              "       OP_CARRIER TAIL_NUM  OP_CARRIER_FL_NUM  ORIGIN_AIRPORT_ID  \\\n",
              "583980         UA   N776UA                200              12016   \n",
              "583981         UA   N36280                174              12016   \n",
              "583982         UA   N36280                117              14955   \n",
              "583983         UA   N39726                105              14955   \n",
              "583984         UA   N39726                104              12016   \n",
              "\n",
              "        ORIGIN_AIRPORT_SEQ_ID ORIGIN  DEST_AIRPORT_ID  DEST_AIRPORT_SEQ_ID  \\\n",
              "583980                1201602    GUM            12173              1217305   \n",
              "583981                1201602    GUM            14955              1495503   \n",
              "583982                1495503    SPN            12016              1201602   \n",
              "583983                1495503    SPN            12016              1201602   \n",
              "583984                1201602    GUM            14955              1495503   \n",
              "\n",
              "       DEST  DEP_TIME  DEP_DEL15 DEP_TIME_BLK  ARR_TIME  ARR_DEL15  CANCELLED  \\\n",
              "583980  HNL     749.0        0.0    0700-0759    1832.0        0.0        0.0   \n",
              "583981  SPN     717.0        0.0    0700-0759     759.0        0.0        0.0   \n",
              "583982  GUM     857.0        0.0    0900-0959     933.0        0.0        0.0   \n",
              "583983  GUM    1820.0        0.0    1800-1859    1854.0        0.0        0.0   \n",
              "583984  SPN    1636.0        0.0    1600-1659    1719.0        0.0        0.0   \n",
              "\n",
              "        DIVERTED  DISTANCE  Unnamed: 21  \n",
              "583980       0.0    3801.0          NaN  \n",
              "583981       0.0     129.0          NaN  \n",
              "583982       0.0     129.0          NaN  \n",
              "583983       0.0     129.0          NaN  \n",
              "583984       0.0     129.0          NaN  "
            ]
          },
          "metadata": {
            "tags": []
          },
          "execution_count": 63
        }
      ]
    },
    {
      "cell_type": "code",
      "metadata": {
        "id": "GL0h1MMV7gvW",
        "colab_type": "code",
        "colab": {
          "base_uri": "https://localhost:8080/",
          "height": 0
        },
        "outputId": "81869a6f-4983-4b1b-84c1-573688126a99"
      },
      "source": [
        "df.describe()"
      ],
      "execution_count": 64,
      "outputs": [
        {
          "output_type": "execute_result",
          "data": {
            "text/html": [
              "<div>\n",
              "<style scoped>\n",
              "    .dataframe tbody tr th:only-of-type {\n",
              "        vertical-align: middle;\n",
              "    }\n",
              "\n",
              "    .dataframe tbody tr th {\n",
              "        vertical-align: top;\n",
              "    }\n",
              "\n",
              "    .dataframe thead th {\n",
              "        text-align: right;\n",
              "    }\n",
              "</style>\n",
              "<table border=\"1\" class=\"dataframe\">\n",
              "  <thead>\n",
              "    <tr style=\"text-align: right;\">\n",
              "      <th></th>\n",
              "      <th>DAY_OF_MONTH</th>\n",
              "      <th>DAY_OF_WEEK</th>\n",
              "      <th>OP_CARRIER_AIRLINE_ID</th>\n",
              "      <th>OP_CARRIER_FL_NUM</th>\n",
              "      <th>ORIGIN_AIRPORT_ID</th>\n",
              "      <th>ORIGIN_AIRPORT_SEQ_ID</th>\n",
              "      <th>DEST_AIRPORT_ID</th>\n",
              "      <th>DEST_AIRPORT_SEQ_ID</th>\n",
              "      <th>DEP_TIME</th>\n",
              "      <th>DEP_DEL15</th>\n",
              "      <th>ARR_TIME</th>\n",
              "      <th>ARR_DEL15</th>\n",
              "      <th>CANCELLED</th>\n",
              "      <th>DIVERTED</th>\n",
              "      <th>DISTANCE</th>\n",
              "      <th>Unnamed: 21</th>\n",
              "    </tr>\n",
              "  </thead>\n",
              "  <tbody>\n",
              "    <tr>\n",
              "      <th>count</th>\n",
              "      <td>583985.000000</td>\n",
              "      <td>583985.000000</td>\n",
              "      <td>583985.000000</td>\n",
              "      <td>583985.000000</td>\n",
              "      <td>583985.000000</td>\n",
              "      <td>5.839850e+05</td>\n",
              "      <td>583985.000000</td>\n",
              "      <td>5.839850e+05</td>\n",
              "      <td>567633.000000</td>\n",
              "      <td>567630.000000</td>\n",
              "      <td>566924.000000</td>\n",
              "      <td>565963.000000</td>\n",
              "      <td>583985.000000</td>\n",
              "      <td>583985.000000</td>\n",
              "      <td>583985.000000</td>\n",
              "      <td>0.0</td>\n",
              "    </tr>\n",
              "    <tr>\n",
              "      <th>mean</th>\n",
              "      <td>15.960088</td>\n",
              "      <td>3.835626</td>\n",
              "      <td>19983.213168</td>\n",
              "      <td>2537.869334</td>\n",
              "      <td>12659.701982</td>\n",
              "      <td>1.265974e+06</td>\n",
              "      <td>12659.470015</td>\n",
              "      <td>1.265951e+06</td>\n",
              "      <td>1331.957814</td>\n",
              "      <td>0.174281</td>\n",
              "      <td>1484.315921</td>\n",
              "      <td>0.185917</td>\n",
              "      <td>0.028641</td>\n",
              "      <td>0.002219</td>\n",
              "      <td>797.742767</td>\n",
              "      <td>NaN</td>\n",
              "    </tr>\n",
              "    <tr>\n",
              "      <th>std</th>\n",
              "      <td>8.987942</td>\n",
              "      <td>1.921899</td>\n",
              "      <td>377.724638</td>\n",
              "      <td>1821.736145</td>\n",
              "      <td>1519.405493</td>\n",
              "      <td>1.519403e+05</td>\n",
              "      <td>1519.336466</td>\n",
              "      <td>1.519334e+05</td>\n",
              "      <td>495.404020</td>\n",
              "      <td>0.379351</td>\n",
              "      <td>523.162855</td>\n",
              "      <td>0.389040</td>\n",
              "      <td>0.166796</td>\n",
              "      <td>0.047056</td>\n",
              "      <td>589.999261</td>\n",
              "      <td>NaN</td>\n",
              "    </tr>\n",
              "    <tr>\n",
              "      <th>min</th>\n",
              "      <td>1.000000</td>\n",
              "      <td>1.000000</td>\n",
              "      <td>19393.000000</td>\n",
              "      <td>1.000000</td>\n",
              "      <td>10135.000000</td>\n",
              "      <td>1.013505e+06</td>\n",
              "      <td>10135.000000</td>\n",
              "      <td>1.013505e+06</td>\n",
              "      <td>1.000000</td>\n",
              "      <td>0.000000</td>\n",
              "      <td>1.000000</td>\n",
              "      <td>0.000000</td>\n",
              "      <td>0.000000</td>\n",
              "      <td>0.000000</td>\n",
              "      <td>31.000000</td>\n",
              "      <td>NaN</td>\n",
              "    </tr>\n",
              "    <tr>\n",
              "      <th>25%</th>\n",
              "      <td>8.000000</td>\n",
              "      <td>2.000000</td>\n",
              "      <td>19790.000000</td>\n",
              "      <td>979.000000</td>\n",
              "      <td>11292.000000</td>\n",
              "      <td>1.129202e+06</td>\n",
              "      <td>11292.000000</td>\n",
              "      <td>1.129202e+06</td>\n",
              "      <td>921.000000</td>\n",
              "      <td>0.000000</td>\n",
              "      <td>1104.000000</td>\n",
              "      <td>0.000000</td>\n",
              "      <td>0.000000</td>\n",
              "      <td>0.000000</td>\n",
              "      <td>363.000000</td>\n",
              "      <td>NaN</td>\n",
              "    </tr>\n",
              "    <tr>\n",
              "      <th>50%</th>\n",
              "      <td>16.000000</td>\n",
              "      <td>4.000000</td>\n",
              "      <td>19977.000000</td>\n",
              "      <td>2114.000000</td>\n",
              "      <td>12889.000000</td>\n",
              "      <td>1.288903e+06</td>\n",
              "      <td>12889.000000</td>\n",
              "      <td>1.288903e+06</td>\n",
              "      <td>1328.000000</td>\n",
              "      <td>0.000000</td>\n",
              "      <td>1517.000000</td>\n",
              "      <td>0.000000</td>\n",
              "      <td>0.000000</td>\n",
              "      <td>0.000000</td>\n",
              "      <td>640.000000</td>\n",
              "      <td>NaN</td>\n",
              "    </tr>\n",
              "    <tr>\n",
              "      <th>75%</th>\n",
              "      <td>24.000000</td>\n",
              "      <td>5.000000</td>\n",
              "      <td>20368.000000</td>\n",
              "      <td>3902.000000</td>\n",
              "      <td>13931.000000</td>\n",
              "      <td>1.393102e+06</td>\n",
              "      <td>13931.000000</td>\n",
              "      <td>1.393102e+06</td>\n",
              "      <td>1738.000000</td>\n",
              "      <td>0.000000</td>\n",
              "      <td>1919.000000</td>\n",
              "      <td>0.000000</td>\n",
              "      <td>0.000000</td>\n",
              "      <td>0.000000</td>\n",
              "      <td>1037.000000</td>\n",
              "      <td>NaN</td>\n",
              "    </tr>\n",
              "    <tr>\n",
              "      <th>max</th>\n",
              "      <td>31.000000</td>\n",
              "      <td>7.000000</td>\n",
              "      <td>20452.000000</td>\n",
              "      <td>7439.000000</td>\n",
              "      <td>16218.000000</td>\n",
              "      <td>1.621802e+06</td>\n",
              "      <td>16218.000000</td>\n",
              "      <td>1.621802e+06</td>\n",
              "      <td>2400.000000</td>\n",
              "      <td>1.000000</td>\n",
              "      <td>2400.000000</td>\n",
              "      <td>1.000000</td>\n",
              "      <td>1.000000</td>\n",
              "      <td>1.000000</td>\n",
              "      <td>4983.000000</td>\n",
              "      <td>NaN</td>\n",
              "    </tr>\n",
              "  </tbody>\n",
              "</table>\n",
              "</div>"
            ],
            "text/plain": [
              "        DAY_OF_MONTH    DAY_OF_WEEK  OP_CARRIER_AIRLINE_ID  OP_CARRIER_FL_NUM  \\\n",
              "count  583985.000000  583985.000000          583985.000000      583985.000000   \n",
              "mean       15.960088       3.835626           19983.213168        2537.869334   \n",
              "std         8.987942       1.921899             377.724638        1821.736145   \n",
              "min         1.000000       1.000000           19393.000000           1.000000   \n",
              "25%         8.000000       2.000000           19790.000000         979.000000   \n",
              "50%        16.000000       4.000000           19977.000000        2114.000000   \n",
              "75%        24.000000       5.000000           20368.000000        3902.000000   \n",
              "max        31.000000       7.000000           20452.000000        7439.000000   \n",
              "\n",
              "       ORIGIN_AIRPORT_ID  ORIGIN_AIRPORT_SEQ_ID  DEST_AIRPORT_ID  \\\n",
              "count      583985.000000           5.839850e+05    583985.000000   \n",
              "mean        12659.701982           1.265974e+06     12659.470015   \n",
              "std          1519.405493           1.519403e+05      1519.336466   \n",
              "min         10135.000000           1.013505e+06     10135.000000   \n",
              "25%         11292.000000           1.129202e+06     11292.000000   \n",
              "50%         12889.000000           1.288903e+06     12889.000000   \n",
              "75%         13931.000000           1.393102e+06     13931.000000   \n",
              "max         16218.000000           1.621802e+06     16218.000000   \n",
              "\n",
              "       DEST_AIRPORT_SEQ_ID       DEP_TIME      DEP_DEL15       ARR_TIME  \\\n",
              "count         5.839850e+05  567633.000000  567630.000000  566924.000000   \n",
              "mean          1.265951e+06    1331.957814       0.174281    1484.315921   \n",
              "std           1.519334e+05     495.404020       0.379351     523.162855   \n",
              "min           1.013505e+06       1.000000       0.000000       1.000000   \n",
              "25%           1.129202e+06     921.000000       0.000000    1104.000000   \n",
              "50%           1.288903e+06    1328.000000       0.000000    1517.000000   \n",
              "75%           1.393102e+06    1738.000000       0.000000    1919.000000   \n",
              "max           1.621802e+06    2400.000000       1.000000    2400.000000   \n",
              "\n",
              "           ARR_DEL15      CANCELLED       DIVERTED       DISTANCE  Unnamed: 21  \n",
              "count  565963.000000  583985.000000  583985.000000  583985.000000          0.0  \n",
              "mean        0.185917       0.028641       0.002219     797.742767          NaN  \n",
              "std         0.389040       0.166796       0.047056     589.999261          NaN  \n",
              "min         0.000000       0.000000       0.000000      31.000000          NaN  \n",
              "25%         0.000000       0.000000       0.000000     363.000000          NaN  \n",
              "50%         0.000000       0.000000       0.000000     640.000000          NaN  \n",
              "75%         0.000000       0.000000       0.000000    1037.000000          NaN  \n",
              "max         1.000000       1.000000       1.000000    4983.000000          NaN  "
            ]
          },
          "metadata": {
            "tags": []
          },
          "execution_count": 64
        }
      ]
    },
    {
      "cell_type": "markdown",
      "metadata": {
        "id": "BKm4SO907gvZ",
        "colab_type": "text"
      },
      "source": [
        "Alumas colunas possuem valores numéricos mas vamos transformá-las já que não representam grandeza. São na verdade nomes"
      ]
    },
    {
      "cell_type": "code",
      "metadata": {
        "id": "UPldhm2b7gva",
        "colab_type": "code",
        "colab": {}
      },
      "source": [
        "l = ['OP_CARRIER_AIRLINE_ID', 'OP_CARRIER_FL_NUM', 'ORIGIN_AIRPORT_ID', 'ORIGIN_AIRPORT_SEQ_ID', 'DEST_AIRPORT_ID', 'DEST_AIRPORT_SEQ_ID']"
      ],
      "execution_count": 65,
      "outputs": []
    },
    {
      "cell_type": "code",
      "metadata": {
        "id": "NHUwZOEn7gvi",
        "colab_type": "code",
        "colab": {}
      },
      "source": [
        "for n in range(len(l)):\n",
        "    df[l[n]] = df[l[n]].astype(str)"
      ],
      "execution_count": 66,
      "outputs": []
    },
    {
      "cell_type": "code",
      "metadata": {
        "id": "Va9hfi3v7gvn",
        "colab_type": "code",
        "colab": {
          "base_uri": "https://localhost:8080/",
          "height": 0
        },
        "outputId": "06a0e114-1038-4fd3-9f4b-36f54a501df8"
      },
      "source": [
        "df.info()"
      ],
      "execution_count": 67,
      "outputs": [
        {
          "output_type": "stream",
          "text": [
            "<class 'pandas.core.frame.DataFrame'>\n",
            "RangeIndex: 583985 entries, 0 to 583984\n",
            "Data columns (total 22 columns):\n",
            " #   Column                 Non-Null Count   Dtype  \n",
            "---  ------                 --------------   -----  \n",
            " 0   DAY_OF_MONTH           583985 non-null  int64  \n",
            " 1   DAY_OF_WEEK            583985 non-null  int64  \n",
            " 2   OP_UNIQUE_CARRIER      583985 non-null  object \n",
            " 3   OP_CARRIER_AIRLINE_ID  583985 non-null  object \n",
            " 4   OP_CARRIER             583985 non-null  object \n",
            " 5   TAIL_NUM               581442 non-null  object \n",
            " 6   OP_CARRIER_FL_NUM      583985 non-null  object \n",
            " 7   ORIGIN_AIRPORT_ID      583985 non-null  object \n",
            " 8   ORIGIN_AIRPORT_SEQ_ID  583985 non-null  object \n",
            " 9   ORIGIN                 583985 non-null  object \n",
            " 10  DEST_AIRPORT_ID        583985 non-null  object \n",
            " 11  DEST_AIRPORT_SEQ_ID    583985 non-null  object \n",
            " 12  DEST                   583985 non-null  object \n",
            " 13  DEP_TIME               567633 non-null  float64\n",
            " 14  DEP_DEL15              567630 non-null  float64\n",
            " 15  DEP_TIME_BLK           583985 non-null  object \n",
            " 16  ARR_TIME               566924 non-null  float64\n",
            " 17  ARR_DEL15              565963 non-null  float64\n",
            " 18  CANCELLED              583985 non-null  float64\n",
            " 19  DIVERTED               583985 non-null  float64\n",
            " 20  DISTANCE               583985 non-null  float64\n",
            " 21  Unnamed: 21            0 non-null       float64\n",
            "dtypes: float64(8), int64(2), object(12)\n",
            "memory usage: 98.0+ MB\n"
          ],
          "name": "stdout"
        }
      ]
    },
    {
      "cell_type": "code",
      "metadata": {
        "id": "sFe8OXw_7gvq",
        "colab_type": "code",
        "colab": {
          "base_uri": "https://localhost:8080/",
          "height": 0
        },
        "outputId": "bc90aa72-c0b3-4d29-b111-9cbcdd842bed"
      },
      "source": [
        "df.DEP_TIME_BLK.nunique()"
      ],
      "execution_count": 68,
      "outputs": [
        {
          "output_type": "execute_result",
          "data": {
            "text/plain": [
              "19"
            ]
          },
          "metadata": {
            "tags": []
          },
          "execution_count": 68
        }
      ]
    },
    {
      "cell_type": "code",
      "metadata": {
        "id": "HCq0oFmT7gvu",
        "colab_type": "code",
        "colab": {
          "base_uri": "https://localhost:8080/",
          "height": 0
        },
        "outputId": "e1cb099c-a3ac-4590-c1fa-f5a6548e3aa8"
      },
      "source": [
        "# O DEP_TIME_BLK tem 19 valore únicos e deveria ter 24\n",
        "# Entre meia noite e 6 da manhã há um bloco, o 0001-0559.\n",
        "df.DEP_TIME_BLK.unique()"
      ],
      "execution_count": 69,
      "outputs": [
        {
          "output_type": "execute_result",
          "data": {
            "text/plain": [
              "array(['0600-0659', '1400-1459', '1200-1259', '1500-1559', '1900-1959',\n",
              "       '0900-0959', '1000-1059', '2000-2059', '1300-1359', '1100-1159',\n",
              "       '0800-0859', '2200-2259', '1600-1659', '1700-1759', '2100-2159',\n",
              "       '0700-0759', '1800-1859', '0001-0559', '2300-2359'], dtype=object)"
            ]
          },
          "metadata": {
            "tags": []
          },
          "execution_count": 69
        }
      ]
    },
    {
      "cell_type": "code",
      "metadata": {
        "id": "ElqIxgiK7gvx",
        "colab_type": "code",
        "colab": {
          "base_uri": "https://localhost:8080/",
          "height": 0
        },
        "outputId": "f34c6272-708c-488e-aba7-6ff39b515815"
      },
      "source": [
        "df[(df.DEP_TIME < 500) & (df.DEP_TIME > 0)][['DEP_TIME', 'DEP_TIME_BLK']].head(10)\n",
        "\n",
        "#Os horários que saem entre meia noite e 6 de manhã estão classificados ou como 0001-0559 \n",
        "# ou 0600-0659 ou 2300-2359 na coluna DEP_TIME_BLK. É um pouco confuso"
      ],
      "execution_count": 70,
      "outputs": [
        {
          "output_type": "execute_result",
          "data": {
            "text/html": [
              "<div>\n",
              "<style scoped>\n",
              "    .dataframe tbody tr th:only-of-type {\n",
              "        vertical-align: middle;\n",
              "    }\n",
              "\n",
              "    .dataframe tbody tr th {\n",
              "        vertical-align: top;\n",
              "    }\n",
              "\n",
              "    .dataframe thead th {\n",
              "        text-align: right;\n",
              "    }\n",
              "</style>\n",
              "<table border=\"1\" class=\"dataframe\">\n",
              "  <thead>\n",
              "    <tr style=\"text-align: right;\">\n",
              "      <th></th>\n",
              "      <th>DEP_TIME</th>\n",
              "      <th>DEP_TIME_BLK</th>\n",
              "    </tr>\n",
              "  </thead>\n",
              "  <tbody>\n",
              "    <tr>\n",
              "      <th>260</th>\n",
              "      <td>107.0</td>\n",
              "      <td>0001-0559</td>\n",
              "    </tr>\n",
              "    <tr>\n",
              "      <th>399</th>\n",
              "      <td>306.0</td>\n",
              "      <td>0001-0559</td>\n",
              "    </tr>\n",
              "    <tr>\n",
              "      <th>468</th>\n",
              "      <td>3.0</td>\n",
              "      <td>2300-2359</td>\n",
              "    </tr>\n",
              "    <tr>\n",
              "      <th>927</th>\n",
              "      <td>1.0</td>\n",
              "      <td>2300-2359</td>\n",
              "    </tr>\n",
              "    <tr>\n",
              "      <th>1079</th>\n",
              "      <td>148.0</td>\n",
              "      <td>2300-2359</td>\n",
              "    </tr>\n",
              "    <tr>\n",
              "      <th>1112</th>\n",
              "      <td>204.0</td>\n",
              "      <td>2300-2359</td>\n",
              "    </tr>\n",
              "    <tr>\n",
              "      <th>1117</th>\n",
              "      <td>16.0</td>\n",
              "      <td>2300-2359</td>\n",
              "    </tr>\n",
              "    <tr>\n",
              "      <th>1125</th>\n",
              "      <td>7.0</td>\n",
              "      <td>2300-2359</td>\n",
              "    </tr>\n",
              "    <tr>\n",
              "      <th>1212</th>\n",
              "      <td>15.0</td>\n",
              "      <td>2300-2359</td>\n",
              "    </tr>\n",
              "    <tr>\n",
              "      <th>1280</th>\n",
              "      <td>17.0</td>\n",
              "      <td>2100-2159</td>\n",
              "    </tr>\n",
              "  </tbody>\n",
              "</table>\n",
              "</div>"
            ],
            "text/plain": [
              "      DEP_TIME DEP_TIME_BLK\n",
              "260      107.0    0001-0559\n",
              "399      306.0    0001-0559\n",
              "468        3.0    2300-2359\n",
              "927        1.0    2300-2359\n",
              "1079     148.0    2300-2359\n",
              "1112     204.0    2300-2359\n",
              "1117      16.0    2300-2359\n",
              "1125       7.0    2300-2359\n",
              "1212      15.0    2300-2359\n",
              "1280      17.0    2100-2159"
            ]
          },
          "metadata": {
            "tags": []
          },
          "execution_count": 70
        }
      ]
    },
    {
      "cell_type": "code",
      "metadata": {
        "id": "6saY2alY7gv0",
        "colab_type": "code",
        "colab": {
          "base_uri": "https://localhost:8080/",
          "height": 0
        },
        "outputId": "34a29090-7533-4fc0-f560-fb743b05478c"
      },
      "source": [
        "df.DEP_TIME_BLK.value_counts().plot(kind='barh')"
      ],
      "execution_count": 71,
      "outputs": [
        {
          "output_type": "execute_result",
          "data": {
            "text/plain": [
              "<matplotlib.axes._subplots.AxesSubplot at 0x7fb55ee8ee80>"
            ]
          },
          "metadata": {
            "tags": []
          },
          "execution_count": 71
        },
        {
          "output_type": "display_data",
          "data": {
            "image/png": "[encoded data removed]",
            "text/plain": [
              "<Figure size 432x288 with 1 Axes>"
            ]
          },
          "metadata": {
            "tags": [],
            "needs_background": "light"
          }
        }
      ]
    },
    {
      "cell_type": "markdown",
      "metadata": {
        "id": "tTM_o01Q7gv3",
        "colab_type": "text"
      },
      "source": [
        "Mesmo concentrando os voos de madrugada, o bloco 0001-0559 é o teceiro com menor número de voos\n",
        "Já no bloco 0600-0659 pode haver influência dos voos de madrugada"
      ]
    },
    {
      "cell_type": "code",
      "metadata": {
        "id": "Hf0bv7Gy7gv3",
        "colab_type": "code",
        "colab": {}
      },
      "source": [
        "'''ORIGIN_AIRPORT_ID, DEST_AIRPORT_ID, ORIGIN_AIRPORT_SEQ_ID e DEST_AIRPORT_SEQ_ID são colunas que trazem a mesma informação\n",
        "que as colunas ORIGIN e DEST. Iremos removê-las. \n",
        "O DEP_TIME_BLK e o DEP_TIME representam o horário de partida. O formato do DEP_TIME_BLK está mais favorável.\n",
        "Vamos remover o DEP_TIME.'''\n",
        "\n",
        "df.drop(columns=['ORIGIN_AIRPORT_ID', 'DEST_AIRPORT_ID', 'ORIGIN_AIRPORT_SEQ_ID',\n",
        "                 'DEST_AIRPORT_SEQ_ID', 'DEP_TIME'], inplace=True)"
      ],
      "execution_count": 72,
      "outputs": []
    },
    {
      "cell_type": "markdown",
      "metadata": {
        "id": "xqnWTASI7gv6",
        "colab_type": "text"
      },
      "source": [
        "A coluna ARR_TIME tem uma representação muito difícil de trabalhar. Para mostrar a hora dessa forma retira-se os dois pontos entre as horas e os minutos, por exemplo, 15:00 é representado por 1500, 24:00 fica 2400 e 00:01 por 1. Note que meia noite e um e meia noite tem uma diferença de 2399 e são praticamente o mesmo horário. É por isso que ela também será removida."
      ]
    },
    {
      "cell_type": "code",
      "metadata": {
        "id": "53VhyTKc7gv6",
        "colab_type": "code",
        "colab": {}
      },
      "source": [
        "df.drop(columns=['ARR_TIME'], inplace=True)"
      ],
      "execution_count": 73,
      "outputs": []
    },
    {
      "cell_type": "code",
      "metadata": {
        "id": "uTfKXdX17gv-",
        "colab_type": "code",
        "colab": {}
      },
      "source": [
        "# A coluna Unnamed: 21 não tem nenhuma informação por isso podemos removê-la\n",
        "df.drop(columns=['Unnamed: 21'], inplace=True)"
      ],
      "execution_count": 74,
      "outputs": []
    },
    {
      "cell_type": "code",
      "metadata": {
        "id": "5WtnT3pn7gwA",
        "colab_type": "code",
        "colab": {
          "base_uri": "https://localhost:8080/",
          "height": 0
        },
        "outputId": "b76703ee-5238-4980-edfb-243546b1da7f"
      },
      "source": [
        "df.corr()"
      ],
      "execution_count": 75,
      "outputs": [
        {
          "output_type": "execute_result",
          "data": {
            "text/html": [
              "<div>\n",
              "<style scoped>\n",
              "    .dataframe tbody tr th:only-of-type {\n",
              "        vertical-align: middle;\n",
              "    }\n",
              "\n",
              "    .dataframe tbody tr th {\n",
              "        vertical-align: top;\n",
              "    }\n",
              "\n",
              "    .dataframe thead th {\n",
              "        text-align: right;\n",
              "    }\n",
              "</style>\n",
              "<table border=\"1\" class=\"dataframe\">\n",
              "  <thead>\n",
              "    <tr style=\"text-align: right;\">\n",
              "      <th></th>\n",
              "      <th>DAY_OF_MONTH</th>\n",
              "      <th>DAY_OF_WEEK</th>\n",
              "      <th>DEP_DEL15</th>\n",
              "      <th>ARR_DEL15</th>\n",
              "      <th>CANCELLED</th>\n",
              "      <th>DIVERTED</th>\n",
              "      <th>DISTANCE</th>\n",
              "    </tr>\n",
              "  </thead>\n",
              "  <tbody>\n",
              "    <tr>\n",
              "      <th>DAY_OF_MONTH</th>\n",
              "      <td>1.000000</td>\n",
              "      <td>-0.031008</td>\n",
              "      <td>0.027989</td>\n",
              "      <td>0.038639</td>\n",
              "      <td>0.114638</td>\n",
              "      <td>0.001380</td>\n",
              "      <td>-0.020388</td>\n",
              "    </tr>\n",
              "    <tr>\n",
              "      <th>DAY_OF_WEEK</th>\n",
              "      <td>-0.031008</td>\n",
              "      <td>1.000000</td>\n",
              "      <td>-0.003223</td>\n",
              "      <td>-0.000655</td>\n",
              "      <td>-0.007829</td>\n",
              "      <td>0.000606</td>\n",
              "      <td>0.018932</td>\n",
              "    </tr>\n",
              "    <tr>\n",
              "      <th>DEP_DEL15</th>\n",
              "      <td>0.027989</td>\n",
              "      <td>-0.003223</td>\n",
              "      <td>1.000000</td>\n",
              "      <td>0.719430</td>\n",
              "      <td>0.021686</td>\n",
              "      <td>0.020641</td>\n",
              "      <td>0.011619</td>\n",
              "    </tr>\n",
              "    <tr>\n",
              "      <th>ARR_DEL15</th>\n",
              "      <td>0.038639</td>\n",
              "      <td>-0.000655</td>\n",
              "      <td>0.719430</td>\n",
              "      <td>1.000000</td>\n",
              "      <td>NaN</td>\n",
              "      <td>NaN</td>\n",
              "      <td>0.003407</td>\n",
              "    </tr>\n",
              "    <tr>\n",
              "      <th>CANCELLED</th>\n",
              "      <td>0.114638</td>\n",
              "      <td>-0.007829</td>\n",
              "      <td>0.021686</td>\n",
              "      <td>NaN</td>\n",
              "      <td>1.000000</td>\n",
              "      <td>-0.008098</td>\n",
              "      <td>-0.049347</td>\n",
              "    </tr>\n",
              "    <tr>\n",
              "      <th>DIVERTED</th>\n",
              "      <td>0.001380</td>\n",
              "      <td>0.000606</td>\n",
              "      <td>0.020641</td>\n",
              "      <td>NaN</td>\n",
              "      <td>-0.008098</td>\n",
              "      <td>1.000000</td>\n",
              "      <td>0.012513</td>\n",
              "    </tr>\n",
              "    <tr>\n",
              "      <th>DISTANCE</th>\n",
              "      <td>-0.020388</td>\n",
              "      <td>0.018932</td>\n",
              "      <td>0.011619</td>\n",
              "      <td>0.003407</td>\n",
              "      <td>-0.049347</td>\n",
              "      <td>0.012513</td>\n",
              "      <td>1.000000</td>\n",
              "    </tr>\n",
              "  </tbody>\n",
              "</table>\n",
              "</div>"
            ],
            "text/plain": [
              "              DAY_OF_MONTH  DAY_OF_WEEK  DEP_DEL15  ARR_DEL15  CANCELLED  \\\n",
              "DAY_OF_MONTH      1.000000    -0.031008   0.027989   0.038639   0.114638   \n",
              "DAY_OF_WEEK      -0.031008     1.000000  -0.003223  -0.000655  -0.007829   \n",
              "DEP_DEL15         0.027989    -0.003223   1.000000   0.719430   0.021686   \n",
              "ARR_DEL15         0.038639    -0.000655   0.719430   1.000000        NaN   \n",
              "CANCELLED         0.114638    -0.007829   0.021686        NaN   1.000000   \n",
              "DIVERTED          0.001380     0.000606   0.020641        NaN  -0.008098   \n",
              "DISTANCE         -0.020388     0.018932   0.011619   0.003407  -0.049347   \n",
              "\n",
              "              DIVERTED  DISTANCE  \n",
              "DAY_OF_MONTH  0.001380 -0.020388  \n",
              "DAY_OF_WEEK   0.000606  0.018932  \n",
              "DEP_DEL15     0.020641  0.011619  \n",
              "ARR_DEL15          NaN  0.003407  \n",
              "CANCELLED    -0.008098 -0.049347  \n",
              "DIVERTED      1.000000  0.012513  \n",
              "DISTANCE      0.012513  1.000000  "
            ]
          },
          "metadata": {
            "tags": []
          },
          "execution_count": 75
        }
      ]
    },
    {
      "cell_type": "code",
      "metadata": {
        "id": "GDD-aj5T7gwD",
        "colab_type": "code",
        "colab": {
          "base_uri": "https://localhost:8080/",
          "height": 0
        },
        "outputId": "6d10e0ff-e337-47f7-ec4f-63b88b40721a"
      },
      "source": [
        "plt.figure(figsize=(10, 6))\n",
        "vg_corr = df.corr().round(1)\n",
        "sns.heatmap(vg_corr, \n",
        "            xticklabels = vg_corr.columns.values,\n",
        "            yticklabels = vg_corr.columns.values,\n",
        "            annot = True);"
      ],
      "execution_count": 76,
      "outputs": [
        {
          "output_type": "display_data",
          "data": {
            "image/png": "[encoded data removed]",
            "text/plain": [
              "<Figure size 720x432 with 2 Axes>"
            ]
          },
          "metadata": {
            "tags": [],
            "needs_background": "light"
          }
        }
      ]
    },
    {
      "cell_type": "markdown",
      "metadata": {
        "id": "rS9Hb2aq7gwH",
        "colab_type": "text"
      },
      "source": [
        "Não percebemos nenhuma correlação muito forte com o ARR_DEL15 exceto pelo DEP_DEL15 (0,7). Se o voo já saiu com atraso, aumenta a possibilidade de ele chegar com atraso."
      ]
    },
    {
      "cell_type": "code",
      "metadata": {
        "id": "C2qLIhS97gwH",
        "colab_type": "code",
        "colab": {
          "base_uri": "https://localhost:8080/",
          "height": 0
        },
        "outputId": "2cf8ae8c-5e31-4999-ef27-c167459a1020"
      },
      "source": [
        "sns.barplot(df['DEP_DEL15'], df['ARR_DEL15'])"
      ],
      "execution_count": 77,
      "outputs": [
        {
          "output_type": "execute_result",
          "data": {
            "text/plain": [
              "<matplotlib.axes._subplots.AxesSubplot at 0x7fb566c79518>"
            ]
          },
          "metadata": {
            "tags": []
          },
          "execution_count": 77
        },
        {
          "output_type": "display_data",
          "data": {
            "image/png": "[encoded data removed]",
            "text/plain": [
              "<Figure size 432x288 with 1 Axes>"
            ]
          },
          "metadata": {
            "tags": [],
            "needs_background": "light"
          }
        }
      ]
    },
    {
      "cell_type": "code",
      "metadata": {
        "id": "qzS6CnNS7gwK",
        "colab_type": "code",
        "colab": {
          "base_uri": "https://localhost:8080/",
          "height": 0
        },
        "outputId": "2d9b8b75-18fb-43c4-ac41-5e51ae21b122"
      },
      "source": [
        "# Nosso target é o ARR_DEL15. Vamos verificar a proporção de voos atrasados e não atrasados\n",
        "plt.figure(figsize=(10,6))\n",
        "df['ARR_DEL15'].value_counts().plot(kind='pie', autopct='%1.0f%%')"
      ],
      "execution_count": 78,
      "outputs": [
        {
          "output_type": "execute_result",
          "data": {
            "text/plain": [
              "<matplotlib.axes._subplots.AxesSubplot at 0x7fb566c3b2e8>"
            ]
          },
          "metadata": {
            "tags": []
          },
          "execution_count": 78
        },
        {
          "output_type": "display_data",
          "data": {
            "image/png": "[encoded data removed]",
            "text/plain": [
              "<Figure size 720x432 with 1 Axes>"
            ]
          },
          "metadata": {
            "tags": []
          }
        }
      ]
    },
    {
      "cell_type": "markdown",
      "metadata": {
        "id": "Pfh3dO2W7gwN",
        "colab_type": "text"
      },
      "source": [
        "É uma base desbalenceada! Mais para frente ajustaremos isso."
      ]
    },
    {
      "cell_type": "code",
      "metadata": {
        "id": "4rUMKDt37gwO",
        "colab_type": "code",
        "colab": {
          "base_uri": "https://localhost:8080/",
          "height": 0
        },
        "outputId": "0f65f790-56b8-4855-e088-bb02035196b1"
      },
      "source": [
        "df.nunique()\n",
        "# Quantidade de variáveis distintas em cada coluna"
      ],
      "execution_count": 79,
      "outputs": [
        {
          "output_type": "execute_result",
          "data": {
            "text/plain": [
              "DAY_OF_MONTH               31\n",
              "DAY_OF_WEEK                 7\n",
              "OP_UNIQUE_CARRIER          17\n",
              "OP_CARRIER_AIRLINE_ID      17\n",
              "OP_CARRIER                 17\n",
              "TAIL_NUM                 5446\n",
              "OP_CARRIER_FL_NUM        6839\n",
              "ORIGIN                    346\n",
              "DEST                      346\n",
              "DEP_DEL15                   2\n",
              "DEP_TIME_BLK               19\n",
              "ARR_DEL15                   2\n",
              "CANCELLED                   2\n",
              "DIVERTED                    2\n",
              "DISTANCE                 1451\n",
              "dtype: int64"
            ]
          },
          "metadata": {
            "tags": []
          },
          "execution_count": 79
        }
      ]
    },
    {
      "cell_type": "code",
      "metadata": {
        "scrolled": false,
        "id": "tVeGDmtP7gwQ",
        "colab_type": "code",
        "colab": {
          "base_uri": "https://localhost:8080/",
          "height": 0
        },
        "outputId": "338d8f01-beac-4aaf-f32b-08a01f6b3a4c"
      },
      "source": [
        "plt.figure(figsize=(12,8))\n",
        "df.groupby(['DEP_TIME_BLK']).mean()['DISTANCE'].plot(kind='barh')"
      ],
      "execution_count": 80,
      "outputs": [
        {
          "output_type": "execute_result",
          "data": {
            "text/plain": [
              "<matplotlib.axes._subplots.AxesSubplot at 0x7fb566ba6048>"
            ]
          },
          "metadata": {
            "tags": []
          },
          "execution_count": 80
        },
        {
          "output_type": "display_data",
          "data": {
            "image/png": "[encoded data removed]",
            "text/plain": [
              "<Figure size 864x576 with 1 Axes>"
            ]
          },
          "metadata": {
            "tags": [],
            "needs_background": "light"
          }
        }
      ]
    },
    {
      "cell_type": "markdown",
      "metadata": {
        "id": "2aTx0uOH7gwT",
        "colab_type": "text"
      },
      "source": [
        "Entre 23h e 24h vemos que há voos mais longos"
      ]
    },
    {
      "cell_type": "code",
      "metadata": {
        "id": "Bl1-B1zc7gwT",
        "colab_type": "code",
        "colab": {
          "base_uri": "https://localhost:8080/",
          "height": 0
        },
        "outputId": "75711c4a-b10c-41d5-fe5e-140d41fc3ea9"
      },
      "source": [
        "plt.boxplot(df.DISTANCE)\n",
        "# Não podemos considerar outliers nesse caso já que há voos para o Havaí"
      ],
      "execution_count": 81,
      "outputs": [
        {
          "output_type": "execute_result",
          "data": {
            "text/plain": [
              "{'boxes': [<matplotlib.lines.Line2D at 0x7fb566b45b00>],\n",
              " 'caps': [<matplotlib.lines.Line2D at 0x7fb566b52550>,\n",
              "  <matplotlib.lines.Line2D at 0x7fb566b528d0>],\n",
              " 'fliers': [<matplotlib.lines.Line2D at 0x7fb566b52fd0>],\n",
              " 'means': [],\n",
              " 'medians': [<matplotlib.lines.Line2D at 0x7fb566b52c50>],\n",
              " 'whiskers': [<matplotlib.lines.Line2D at 0x7fb566b45e10>,\n",
              "  <matplotlib.lines.Line2D at 0x7fb566b521d0>]}"
            ]
          },
          "metadata": {
            "tags": []
          },
          "execution_count": 81
        },
        {
          "output_type": "display_data",
          "data": {
            "image/png": "[encoded data removed]",
            "text/plain": [
              "<Figure size 432x288 with 1 Axes>"
            ]
          },
          "metadata": {
            "tags": [],
            "needs_background": "light"
          }
        }
      ]
    },
    {
      "cell_type": "code",
      "metadata": {
        "id": "1KtCbQTW7gwX",
        "colab_type": "code",
        "colab": {
          "base_uri": "https://localhost:8080/",
          "height": 0
        },
        "outputId": "7fea85f4-9663-4962-a114-4540f995def8"
      },
      "source": [
        "sns.scatterplot(y='DIVERTED', x='DISTANCE', data=df)"
      ],
      "execution_count": 82,
      "outputs": [
        {
          "output_type": "execute_result",
          "data": {
            "text/plain": [
              "<matplotlib.axes._subplots.AxesSubplot at 0x7fb566affe80>"
            ]
          },
          "metadata": {
            "tags": []
          },
          "execution_count": 82
        },
        {
          "output_type": "display_data",
          "data": {
            "image/png": "[encoded data removed]",
            "text/plain": [
              "<Figure size 432x288 with 1 Axes>"
            ]
          },
          "metadata": {
            "tags": [],
            "needs_background": "light"
          }
        }
      ]
    },
    {
      "cell_type": "markdown",
      "metadata": {
        "id": "eqAW-dkM7gwa",
        "colab_type": "text"
      },
      "source": [
        "Percebe-se um número menor de voos desviados quando a distância é maior que 3000 milhas, casos do Havaí e do Alasca. Faz sentido já que são áreas com menor número de aeroportos."
      ]
    },
    {
      "cell_type": "markdown",
      "metadata": {
        "id": "HAa-E84b7gwb",
        "colab_type": "text"
      },
      "source": [
        "TAIL_NUM e OP_CARRIER_FL_NUM possuem muitos valores distintos. Um representa a número na cauda do avião e o outro o número do voo. Tentei encontrar alguma lógica por trás do número de voo mas cada companhia determina esse número. Fazer dummies ou aplicar label encoder vai trazer dificuladades e distorções para trabalharmos. Vamos então removê-las"
      ]
    },
    {
      "cell_type": "code",
      "metadata": {
        "id": "MrW8s03B7gwd",
        "colab_type": "code",
        "colab": {}
      },
      "source": [
        "df.drop(columns=['TAIL_NUM', 'OP_CARRIER_FL_NUM'], inplace=True)"
      ],
      "execution_count": 83,
      "outputs": []
    },
    {
      "cell_type": "code",
      "metadata": {
        "id": "48g3MX3q7gwh",
        "colab_type": "code",
        "colab": {
          "base_uri": "https://localhost:8080/",
          "height": 0
        },
        "outputId": "2705adcc-8f11-4e5e-9445-6a350cb79641"
      },
      "source": [
        "plt.figure(figsize=(10,6))\n",
        "df.OP_UNIQUE_CARRIER.value_counts().plot(kind='bar')"
      ],
      "execution_count": 84,
      "outputs": [
        {
          "output_type": "execute_result",
          "data": {
            "text/plain": [
              "<matplotlib.axes._subplots.AxesSubplot at 0x7fb568ca16a0>"
            ]
          },
          "metadata": {
            "tags": []
          },
          "execution_count": 84
        },
        {
          "output_type": "display_data",
          "data": {
            "image/png": "[encoded data removed]",
            "text/plain": [
              "<Figure size 720x432 with 1 Axes>"
            ]
          },
          "metadata": {
            "tags": [],
            "needs_background": "light"
          }
        }
      ]
    },
    {
      "cell_type": "code",
      "metadata": {
        "id": "dVaOMKrG7gwk",
        "colab_type": "code",
        "colab": {
          "base_uri": "https://localhost:8080/",
          "height": 0
        },
        "outputId": "4f82e646-488b-435e-8ea7-141fec5e8dcc"
      },
      "source": [
        "plt.figure(figsize=(10,6))\n",
        "df.OP_CARRIER_AIRLINE_ID.value_counts().plot(kind='bar')"
      ],
      "execution_count": 85,
      "outputs": [
        {
          "output_type": "execute_result",
          "data": {
            "text/plain": [
              "<matplotlib.axes._subplots.AxesSubplot at 0x7fb55ed9beb8>"
            ]
          },
          "metadata": {
            "tags": []
          },
          "execution_count": 85
        },
        {
          "output_type": "display_data",
          "data": {
            "image/png": "[encoded data removed]",
            "text/plain": [
              "<Figure size 720x432 with 1 Axes>"
            ]
          },
          "metadata": {
            "tags": [],
            "needs_background": "light"
          }
        }
      ]
    },
    {
      "cell_type": "code",
      "metadata": {
        "id": "EA9RAWYj7gwm",
        "colab_type": "code",
        "colab": {
          "base_uri": "https://localhost:8080/",
          "height": 0
        },
        "outputId": "4c2ee863-9741-41fe-fbbd-2dcc3444c691"
      },
      "source": [
        "plt.figure(figsize=(10,6))\n",
        "df.OP_CARRIER.value_counts().head(10).plot(kind='bar')"
      ],
      "execution_count": 86,
      "outputs": [
        {
          "output_type": "execute_result",
          "data": {
            "text/plain": [
              "<matplotlib.axes._subplots.AxesSubplot at 0x7fb566cfe588>"
            ]
          },
          "metadata": {
            "tags": []
          },
          "execution_count": 86
        },
        {
          "output_type": "display_data",
          "data": {
            "image/png": "[encoded data removed]",
            "text/plain": [
              "<Figure size 720x432 with 1 Axes>"
            ]
          },
          "metadata": {
            "tags": [],
            "needs_background": "light"
          }
        }
      ]
    },
    {
      "cell_type": "code",
      "metadata": {
        "id": "81MwSdm17gwo",
        "colab_type": "code",
        "colab": {
          "base_uri": "https://localhost:8080/",
          "height": 0
        },
        "outputId": "bad00d49-2762-492e-d8cb-06c62b0d5627"
      },
      "source": [
        "plt.figure(figsize=(10,6))\n",
        "df.ORIGIN.value_counts().head(10).plot(kind='barh')\n",
        "# top 10 origens"
      ],
      "execution_count": 87,
      "outputs": [
        {
          "output_type": "execute_result",
          "data": {
            "text/plain": [
              "<matplotlib.axes._subplots.AxesSubplot at 0x7fb568c3d710>"
            ]
          },
          "metadata": {
            "tags": []
          },
          "execution_count": 87
        },
        {
          "output_type": "display_data",
          "data": {
            "image/png": "[encoded data removed]",
            "text/plain": [
              "<Figure size 720x432 with 1 Axes>"
            ]
          },
          "metadata": {
            "tags": [],
            "needs_background": "light"
          }
        }
      ]
    },
    {
      "cell_type": "markdown",
      "metadata": {
        "id": "yGpGTAml7gwr",
        "colab_type": "text"
      },
      "source": [
        "Top 10:\n",
        "* Atlanta\n",
        "* Chicago\n",
        "* Dallas\n",
        "* Charlotte\n",
        "* Denver\n",
        "* Los Angeles\n",
        "* Phoenix\n",
        "* Houston\n",
        "* New York\n",
        "* San Francisco"
      ]
    },
    {
      "cell_type": "code",
      "metadata": {
        "id": "ejwivyPr7gwt",
        "colab_type": "code",
        "colab": {
          "base_uri": "https://localhost:8080/",
          "height": 0
        },
        "outputId": "2376b71c-779f-41d8-c6e1-964724a293a6"
      },
      "source": [
        "plt.figure(figsize=(10,6))\n",
        "df.DEST.value_counts().head(10).plot(kind='barh')\n",
        "# top 10 destinos"
      ],
      "execution_count": 88,
      "outputs": [
        {
          "output_type": "execute_result",
          "data": {
            "text/plain": [
              "<matplotlib.axes._subplots.AxesSubplot at 0x7fb568b550f0>"
            ]
          },
          "metadata": {
            "tags": []
          },
          "execution_count": 88
        },
        {
          "output_type": "display_data",
          "data": {
            "image/png": "[encoded data removed]",
            "text/plain": [
              "<Figure size 720x432 with 1 Axes>"
            ]
          },
          "metadata": {
            "tags": [],
            "needs_background": "light"
          }
        }
      ]
    },
    {
      "cell_type": "code",
      "metadata": {
        "id": "QO1yg21J7gw0",
        "colab_type": "code",
        "colab": {
          "base_uri": "https://localhost:8080/",
          "height": 0
        },
        "outputId": "4a94a772-34bc-4479-f51f-d03f0ef6f1ef"
      },
      "source": [
        "sns.barplot(df['DEP_DEL15'], df['ARR_DEL15'])"
      ],
      "execution_count": 89,
      "outputs": [
        {
          "output_type": "execute_result",
          "data": {
            "text/plain": [
              "<matplotlib.axes._subplots.AxesSubplot at 0x7fb568ad7ef0>"
            ]
          },
          "metadata": {
            "tags": []
          },
          "execution_count": 89
        },
        {
          "output_type": "display_data",
          "data": {
            "image/png": "[encoded data removed]",
            "text/plain": [
              "<Figure size 432x288 with 1 Axes>"
            ]
          },
          "metadata": {
            "tags": [],
            "needs_background": "light"
          }
        }
      ]
    },
    {
      "cell_type": "markdown",
      "metadata": {
        "id": "1Q7zpwvS7gw3",
        "colab_type": "text"
      },
      "source": [
        "# Tratando valores nulos"
      ]
    },
    {
      "cell_type": "code",
      "metadata": {
        "id": "psDxZDpc7gw4",
        "colab_type": "code",
        "colab": {
          "base_uri": "https://localhost:8080/",
          "height": 0
        },
        "outputId": "f9085043-d498-4648-a367-6df01a540c84"
      },
      "source": [
        "df.isnull().sum()\n",
        "# Observamos algumas colunas com valores faltantes"
      ],
      "execution_count": 90,
      "outputs": [
        {
          "output_type": "execute_result",
          "data": {
            "text/plain": [
              "DAY_OF_MONTH                 0\n",
              "DAY_OF_WEEK                  0\n",
              "OP_UNIQUE_CARRIER            0\n",
              "OP_CARRIER_AIRLINE_ID        0\n",
              "OP_CARRIER                   0\n",
              "ORIGIN                       0\n",
              "DEST                         0\n",
              "DEP_DEL15                16355\n",
              "DEP_TIME_BLK                 0\n",
              "ARR_DEL15                18022\n",
              "CANCELLED                    0\n",
              "DIVERTED                     0\n",
              "DISTANCE                     0\n",
              "dtype: int64"
            ]
          },
          "metadata": {
            "tags": []
          },
          "execution_count": 90
        }
      ]
    },
    {
      "cell_type": "markdown",
      "metadata": {
        "id": "avshEWf97gw6",
        "colab_type": "text"
      },
      "source": [
        "Não faz sentido substituir valores faltantes do nosso target, DEP_DEL15. Isso pode enviesar o modelo. Vamos eliminar essas linhas"
      ]
    },
    {
      "cell_type": "code",
      "metadata": {
        "id": "F-v0XLmc7gw7",
        "colab_type": "code",
        "colab": {}
      },
      "source": [
        "df = df.dropna(subset=['ARR_DEL15'])"
      ],
      "execution_count": 91,
      "outputs": []
    },
    {
      "cell_type": "code",
      "metadata": {
        "id": "GPWMcxYk7gw-",
        "colab_type": "code",
        "colab": {
          "base_uri": "https://localhost:8080/",
          "height": 0
        },
        "outputId": "052dadc2-4db7-40fc-8ab9-101bd840b07d"
      },
      "source": [
        "df.isnull().sum()\n",
        "# Removendo os nulos do nosso target, já conseguimos eliminar todos os nulos da base"
      ],
      "execution_count": 92,
      "outputs": [
        {
          "output_type": "execute_result",
          "data": {
            "text/plain": [
              "DAY_OF_MONTH             0\n",
              "DAY_OF_WEEK              0\n",
              "OP_UNIQUE_CARRIER        0\n",
              "OP_CARRIER_AIRLINE_ID    0\n",
              "OP_CARRIER               0\n",
              "ORIGIN                   0\n",
              "DEST                     0\n",
              "DEP_DEL15                0\n",
              "DEP_TIME_BLK             0\n",
              "ARR_DEL15                0\n",
              "CANCELLED                0\n",
              "DIVERTED                 0\n",
              "DISTANCE                 0\n",
              "dtype: int64"
            ]
          },
          "metadata": {
            "tags": []
          },
          "execution_count": 92
        }
      ]
    },
    {
      "cell_type": "code",
      "metadata": {
        "id": "JOdBHuf87gxA",
        "colab_type": "code",
        "colab": {
          "base_uri": "https://localhost:8080/",
          "height": 0
        },
        "outputId": "381052ae-0fd5-4127-e8df-74449e0f8c36"
      },
      "source": [
        "df.nunique()"
      ],
      "execution_count": 93,
      "outputs": [
        {
          "output_type": "execute_result",
          "data": {
            "text/plain": [
              "DAY_OF_MONTH               31\n",
              "DAY_OF_WEEK                 7\n",
              "OP_UNIQUE_CARRIER          17\n",
              "OP_CARRIER_AIRLINE_ID      17\n",
              "OP_CARRIER                 17\n",
              "ORIGIN                    346\n",
              "DEST                      346\n",
              "DEP_DEL15                   2\n",
              "DEP_TIME_BLK               19\n",
              "ARR_DEL15                   2\n",
              "CANCELLED                   1\n",
              "DIVERTED                    1\n",
              "DISTANCE                 1451\n",
              "dtype: int64"
            ]
          },
          "metadata": {
            "tags": []
          },
          "execution_count": 93
        }
      ]
    },
    {
      "cell_type": "markdown",
      "metadata": {
        "id": "amqGJBt27gxD",
        "colab_type": "text"
      },
      "source": [
        "# Seleção de Variáveis"
      ]
    },
    {
      "cell_type": "markdown",
      "metadata": {
        "id": "zIW0XGwN7gxE",
        "colab_type": "text"
      },
      "source": [
        "Para fazermos a seleção das variáveis iremos usar Chi2, RFE e Random Forest. A paritir dessas análises, tomaremos somente as colunas que forem escolhidas em pelo menos dois desses algoritmos."
      ]
    },
    {
      "cell_type": "code",
      "metadata": {
        "id": "C6tvtHNg7gxF",
        "colab_type": "code",
        "colab": {}
      },
      "source": [
        "from sklearn.preprocessing import LabelEncoder\n",
        "# Usamos LabelEncoder para tornar as variáveis categóticas em numéricas para posteriormente aplicar técnicas de Machine Learning"
      ],
      "execution_count": 94,
      "outputs": []
    },
    {
      "cell_type": "code",
      "metadata": {
        "id": "1teqtn6K7gxI",
        "colab_type": "code",
        "colab": {}
      },
      "source": [
        "label = LabelEncoder()"
      ],
      "execution_count": 95,
      "outputs": []
    },
    {
      "cell_type": "code",
      "metadata": {
        "id": "ZLaMsKuf7gxK",
        "colab_type": "code",
        "colab": {}
      },
      "source": [
        "df.OP_UNIQUE_CARRIER = label.fit_transform(df.OP_UNIQUE_CARRIER)\n",
        " \n",
        "df.OP_CARRIER_AIRLINE_ID = label.fit_transform(df.OP_CARRIER_AIRLINE_ID)\n",
        "\n",
        "df.OP_CARRIER = label.fit_transform(df.OP_CARRIER)\n",
        "\n",
        "df.ORIGIN = label.fit_transform(df.ORIGIN)\n",
        "\n",
        "df.DEST = label.fit_transform(df.DEST)\n",
        "\n",
        "df.DEP_TIME_BLK = label.fit_transform(df.DEP_TIME_BLK)"
      ],
      "execution_count": 96,
      "outputs": []
    },
    {
      "cell_type": "code",
      "metadata": {
        "id": "zoCyVxAn7gxN",
        "colab_type": "code",
        "colab": {}
      },
      "source": [
        "X = df.drop(columns=['ARR_DEL15'])\n",
        "y = df.ARR_DEL15"
      ],
      "execution_count": 97,
      "outputs": []
    },
    {
      "cell_type": "markdown",
      "metadata": {
        "id": "gRsd43_V7gxV",
        "colab_type": "text"
      },
      "source": [
        "## Chi2"
      ]
    },
    {
      "cell_type": "code",
      "metadata": {
        "id": "tIdFr87i7gxW",
        "colab_type": "code",
        "colab": {}
      },
      "source": [
        "from sklearn.feature_selection import SelectKBest, chi2\n",
        "from sklearn.preprocessing import MinMaxScaler"
      ],
      "execution_count": 98,
      "outputs": []
    },
    {
      "cell_type": "code",
      "metadata": {
        "id": "iR9uJ5Ac7gxb",
        "colab_type": "code",
        "colab": {}
      },
      "source": [
        "X_norm = MinMaxScaler().fit_transform(X)"
      ],
      "execution_count": 99,
      "outputs": []
    },
    {
      "cell_type": "code",
      "metadata": {
        "id": "Q_j9zpvY7gxf",
        "colab_type": "code",
        "colab": {
          "base_uri": "https://localhost:8080/",
          "height": 0
        },
        "outputId": "d47755f3-04c5-4f47-f3ce-d208a7ee26c4"
      },
      "source": [
        "chi2_selector = SelectKBest(chi2, k=10)\n",
        "chi2_selector.fit(X_norm, y)\n",
        "\n",
        "chi2_support = chi2_selector.get_support()\n",
        "\n",
        "chi2_feature = X.loc[: ,chi2_support].columns.tolist()\n",
        "print(str(len(chi2_feature)), 'variáveis selecionadas:')\n",
        "print(str(chi2_feature))"
      ],
      "execution_count": 100,
      "outputs": [
        {
          "output_type": "stream",
          "text": [
            "10 variáveis selecionadas:\n",
            "['DAY_OF_MONTH', 'DAY_OF_WEEK', 'OP_UNIQUE_CARRIER', 'OP_CARRIER_AIRLINE_ID', 'OP_CARRIER', 'ORIGIN', 'DEST', 'DEP_DEL15', 'DEP_TIME_BLK', 'DISTANCE']\n"
          ],
          "name": "stdout"
        }
      ]
    },
    {
      "cell_type": "markdown",
      "metadata": {
        "id": "OB_HcKbg7gxi",
        "colab_type": "text"
      },
      "source": [
        "## RFE"
      ]
    },
    {
      "cell_type": "code",
      "metadata": {
        "id": "d432XRu37gxi",
        "colab_type": "code",
        "colab": {}
      },
      "source": [
        "from sklearn.feature_selection import RFE\n",
        "from sklearn.linear_model import LogisticRegression"
      ],
      "execution_count": 101,
      "outputs": []
    },
    {
      "cell_type": "code",
      "metadata": {
        "id": "V5aKIVnQ7gxp",
        "colab_type": "code",
        "colab": {
          "base_uri": "https://localhost:8080/",
          "height": 0
        },
        "outputId": "6f3de294-251a-4c37-9f2f-3e863007df0f"
      },
      "source": [
        "rfe_selector = RFE(estimator=LogisticRegression(), step=2)\n",
        "rfe_selector.fit(X, y)\n",
        "\n",
        "rfe_support = rfe_selector.get_support()\n",
        "\n",
        "rfe_feature = X.loc[: ,rfe_support].columns.tolist()\n",
        "print(str(len(rfe_feature)), 'variáveis selecionadas:')\n",
        "print(str(rfe_feature))"
      ],
      "execution_count": 102,
      "outputs": [
        {
          "output_type": "stream",
          "text": [
            "6 variáveis selecionadas:\n",
            "['DAY_OF_MONTH', 'DAY_OF_WEEK', 'OP_UNIQUE_CARRIER', 'OP_CARRIER_AIRLINE_ID', 'OP_CARRIER', 'DEP_DEL15']\n"
          ],
          "name": "stdout"
        }
      ]
    },
    {
      "cell_type": "markdown",
      "metadata": {
        "id": "SSVg03x27gxt",
        "colab_type": "text"
      },
      "source": [
        "## Random Forest"
      ]
    },
    {
      "cell_type": "code",
      "metadata": {
        "id": "Xipv2FGT7gxt",
        "colab_type": "code",
        "colab": {}
      },
      "source": [
        "from sklearn.ensemble import RandomForestClassifier\n",
        "from sklearn.feature_selection import SelectFromModel"
      ],
      "execution_count": 103,
      "outputs": []
    },
    {
      "cell_type": "code",
      "metadata": {
        "id": "VAsijeQK7gxw",
        "colab_type": "code",
        "colab": {
          "base_uri": "https://localhost:8080/",
          "height": 51
        },
        "outputId": "056564ed-44c6-44c4-99c7-fe2e3b28934a"
      },
      "source": [
        "rf_selector = SelectFromModel(RandomForestClassifier(n_estimators=10, criterion='entropy'))\n",
        "rf_selector.fit(X, y)\n",
        "\n",
        "rf_support = rf_selector.get_support()\n",
        "\n",
        "rf_feature = X.loc[: ,rf_support].columns.tolist()\n",
        "print(str(len(rf_feature)), 'variáveis selecionadas:')\n",
        "print(str(rf_feature))"
      ],
      "execution_count": 104,
      "outputs": [
        {
          "output_type": "stream",
          "text": [
            "6 variáveis selecionadas:\n",
            "['DAY_OF_MONTH', 'ORIGIN', 'DEST', 'DEP_DEL15', 'DEP_TIME_BLK', 'DISTANCE']\n"
          ],
          "name": "stdout"
        }
      ]
    },
    {
      "cell_type": "code",
      "metadata": {
        "id": "nk-vC4Sb7gxy",
        "colab_type": "code",
        "colab": {
          "base_uri": "https://localhost:8080/",
          "height": 421
        },
        "outputId": "ade4076a-fc2e-466d-fc51-cfdfa9c96dd2"
      },
      "source": [
        "feature_selection_df = pd.DataFrame({'Variáveis': X.columns,\n",
        "                                 'chi2': chi2_support,\n",
        "                                 'RFE': rfe_support,\n",
        "                                 'Random Forest': rf_support})\n",
        "\n",
        "feature_selection_df['Total'] = np.sum(feature_selection_df, axis=1)\n",
        "feature_selection_df = feature_selection_df.sort_values(['Total', 'Variáveis'], ascending=False)\n",
        "feature_selection_df.head(15)"
      ],
      "execution_count": 105,
      "outputs": [
        {
          "output_type": "execute_result",
          "data": {
            "text/html": [
              "<div>\n",
              "<style scoped>\n",
              "    .dataframe tbody tr th:only-of-type {\n",
              "        vertical-align: middle;\n",
              "    }\n",
              "\n",
              "    .dataframe tbody tr th {\n",
              "        vertical-align: top;\n",
              "    }\n",
              "\n",
              "    .dataframe thead th {\n",
              "        text-align: right;\n",
              "    }\n",
              "</style>\n",
              "<table border=\"1\" class=\"dataframe\">\n",
              "  <thead>\n",
              "    <tr style=\"text-align: right;\">\n",
              "      <th></th>\n",
              "      <th>Variáveis</th>\n",
              "      <th>chi2</th>\n",
              "      <th>RFE</th>\n",
              "      <th>Random Forest</th>\n",
              "      <th>Total</th>\n",
              "    </tr>\n",
              "  </thead>\n",
              "  <tbody>\n",
              "    <tr>\n",
              "      <th>7</th>\n",
              "      <td>DEP_DEL15</td>\n",
              "      <td>True</td>\n",
              "      <td>True</td>\n",
              "      <td>True</td>\n",
              "      <td>3</td>\n",
              "    </tr>\n",
              "    <tr>\n",
              "      <th>0</th>\n",
              "      <td>DAY_OF_MONTH</td>\n",
              "      <td>True</td>\n",
              "      <td>True</td>\n",
              "      <td>True</td>\n",
              "      <td>3</td>\n",
              "    </tr>\n",
              "    <tr>\n",
              "      <th>5</th>\n",
              "      <td>ORIGIN</td>\n",
              "      <td>True</td>\n",
              "      <td>False</td>\n",
              "      <td>True</td>\n",
              "      <td>2</td>\n",
              "    </tr>\n",
              "    <tr>\n",
              "      <th>2</th>\n",
              "      <td>OP_UNIQUE_CARRIER</td>\n",
              "      <td>True</td>\n",
              "      <td>True</td>\n",
              "      <td>False</td>\n",
              "      <td>2</td>\n",
              "    </tr>\n",
              "    <tr>\n",
              "      <th>3</th>\n",
              "      <td>OP_CARRIER_AIRLINE_ID</td>\n",
              "      <td>True</td>\n",
              "      <td>True</td>\n",
              "      <td>False</td>\n",
              "      <td>2</td>\n",
              "    </tr>\n",
              "    <tr>\n",
              "      <th>4</th>\n",
              "      <td>OP_CARRIER</td>\n",
              "      <td>True</td>\n",
              "      <td>True</td>\n",
              "      <td>False</td>\n",
              "      <td>2</td>\n",
              "    </tr>\n",
              "    <tr>\n",
              "      <th>11</th>\n",
              "      <td>DISTANCE</td>\n",
              "      <td>True</td>\n",
              "      <td>False</td>\n",
              "      <td>True</td>\n",
              "      <td>2</td>\n",
              "    </tr>\n",
              "    <tr>\n",
              "      <th>6</th>\n",
              "      <td>DEST</td>\n",
              "      <td>True</td>\n",
              "      <td>False</td>\n",
              "      <td>True</td>\n",
              "      <td>2</td>\n",
              "    </tr>\n",
              "    <tr>\n",
              "      <th>8</th>\n",
              "      <td>DEP_TIME_BLK</td>\n",
              "      <td>True</td>\n",
              "      <td>False</td>\n",
              "      <td>True</td>\n",
              "      <td>2</td>\n",
              "    </tr>\n",
              "    <tr>\n",
              "      <th>1</th>\n",
              "      <td>DAY_OF_WEEK</td>\n",
              "      <td>True</td>\n",
              "      <td>True</td>\n",
              "      <td>False</td>\n",
              "      <td>2</td>\n",
              "    </tr>\n",
              "    <tr>\n",
              "      <th>10</th>\n",
              "      <td>DIVERTED</td>\n",
              "      <td>False</td>\n",
              "      <td>False</td>\n",
              "      <td>False</td>\n",
              "      <td>0</td>\n",
              "    </tr>\n",
              "    <tr>\n",
              "      <th>9</th>\n",
              "      <td>CANCELLED</td>\n",
              "      <td>False</td>\n",
              "      <td>False</td>\n",
              "      <td>False</td>\n",
              "      <td>0</td>\n",
              "    </tr>\n",
              "  </tbody>\n",
              "</table>\n",
              "</div>"
            ],
            "text/plain": [
              "                Variáveis   chi2    RFE  Random Forest  Total\n",
              "7               DEP_DEL15   True   True           True      3\n",
              "0            DAY_OF_MONTH   True   True           True      3\n",
              "5                  ORIGIN   True  False           True      2\n",
              "2       OP_UNIQUE_CARRIER   True   True          False      2\n",
              "3   OP_CARRIER_AIRLINE_ID   True   True          False      2\n",
              "4              OP_CARRIER   True   True          False      2\n",
              "11               DISTANCE   True  False           True      2\n",
              "6                    DEST   True  False           True      2\n",
              "8            DEP_TIME_BLK   True  False           True      2\n",
              "1             DAY_OF_WEEK   True   True          False      2\n",
              "10               DIVERTED  False  False          False      0\n",
              "9               CANCELLED  False  False          False      0"
            ]
          },
          "metadata": {
            "tags": []
          },
          "execution_count": 105
        }
      ]
    },
    {
      "cell_type": "code",
      "metadata": {
        "id": "cBy6F_YO7gx0",
        "colab_type": "code",
        "colab": {
          "base_uri": "https://localhost:8080/",
          "height": 34
        },
        "outputId": "be4dbdea-8347-4cdb-deb6-0824cf4b88e6"
      },
      "source": [
        "# Tomaremos as colunas que aparecem 2 ou 3 vezes de acordo com os algoritmos acima\n",
        "my_features = feature_selection_df[(feature_selection_df.Total == 3) | (feature_selection_df.Total == 2)]['Variáveis'].to_list()\n",
        "len(my_features)"
      ],
      "execution_count": 106,
      "outputs": [
        {
          "output_type": "execute_result",
          "data": {
            "text/plain": [
              "10"
            ]
          },
          "metadata": {
            "tags": []
          },
          "execution_count": 106
        }
      ]
    },
    {
      "cell_type": "code",
      "metadata": {
        "id": "v1BuLxzg7gx3",
        "colab_type": "code",
        "colab": {
          "base_uri": "https://localhost:8080/",
          "height": 34
        },
        "outputId": "a520c0d8-6fa6-461f-bfd2-d3a5ab91ee9a"
      },
      "source": [
        "print(my_features)"
      ],
      "execution_count": 107,
      "outputs": [
        {
          "output_type": "stream",
          "text": [
            "['DEP_DEL15', 'DAY_OF_MONTH', 'ORIGIN', 'OP_UNIQUE_CARRIER', 'OP_CARRIER_AIRLINE_ID', 'OP_CARRIER', 'DISTANCE', 'DEST', 'DEP_TIME_BLK', 'DAY_OF_WEEK']\n"
          ],
          "name": "stdout"
        }
      ]
    },
    {
      "cell_type": "code",
      "metadata": {
        "id": "L_xD3zJW7gx6",
        "colab_type": "code",
        "colab": {}
      },
      "source": [
        "expl = df[my_features]"
      ],
      "execution_count": 108,
      "outputs": []
    },
    {
      "cell_type": "code",
      "metadata": {
        "id": "ngc_AlaPt4MY",
        "colab_type": "code",
        "colab": {
          "base_uri": "https://localhost:8080/",
          "height": 204
        },
        "outputId": "f867e448-5e87-4ba7-cace-f14ef13f37f0"
      },
      "source": [
        "expl.head()"
      ],
      "execution_count": 192,
      "outputs": [
        {
          "output_type": "execute_result",
          "data": {
            "text/html": [
              "<div>\n",
              "<style scoped>\n",
              "    .dataframe tbody tr th:only-of-type {\n",
              "        vertical-align: middle;\n",
              "    }\n",
              "\n",
              "    .dataframe tbody tr th {\n",
              "        vertical-align: top;\n",
              "    }\n",
              "\n",
              "    .dataframe thead th {\n",
              "        text-align: right;\n",
              "    }\n",
              "</style>\n",
              "<table border=\"1\" class=\"dataframe\">\n",
              "  <thead>\n",
              "    <tr style=\"text-align: right;\">\n",
              "      <th></th>\n",
              "      <th>DEP_DEL15</th>\n",
              "      <th>DAY_OF_MONTH</th>\n",
              "      <th>ORIGIN</th>\n",
              "      <th>OP_UNIQUE_CARRIER</th>\n",
              "      <th>OP_CARRIER_AIRLINE_ID</th>\n",
              "      <th>OP_CARRIER</th>\n",
              "      <th>DISTANCE</th>\n",
              "      <th>DEST</th>\n",
              "      <th>DEP_TIME_BLK</th>\n",
              "      <th>DAY_OF_WEEK</th>\n",
              "    </tr>\n",
              "  </thead>\n",
              "  <tbody>\n",
              "    <tr>\n",
              "      <th>0</th>\n",
              "      <td>0.0</td>\n",
              "      <td>1</td>\n",
              "      <td>128</td>\n",
              "      <td>0</td>\n",
              "      <td>7</td>\n",
              "      <td>0</td>\n",
              "      <td>300.0</td>\n",
              "      <td>19</td>\n",
              "      <td>1</td>\n",
              "      <td>2</td>\n",
              "    </tr>\n",
              "    <tr>\n",
              "      <th>1</th>\n",
              "      <td>0.0</td>\n",
              "      <td>1</td>\n",
              "      <td>225</td>\n",
              "      <td>0</td>\n",
              "      <td>7</td>\n",
              "      <td>0</td>\n",
              "      <td>596.0</td>\n",
              "      <td>80</td>\n",
              "      <td>9</td>\n",
              "      <td>2</td>\n",
              "    </tr>\n",
              "    <tr>\n",
              "      <th>2</th>\n",
              "      <td>0.0</td>\n",
              "      <td>1</td>\n",
              "      <td>95</td>\n",
              "      <td>0</td>\n",
              "      <td>7</td>\n",
              "      <td>0</td>\n",
              "      <td>229.0</td>\n",
              "      <td>80</td>\n",
              "      <td>7</td>\n",
              "      <td>2</td>\n",
              "    </tr>\n",
              "    <tr>\n",
              "      <th>3</th>\n",
              "      <td>0.0</td>\n",
              "      <td>1</td>\n",
              "      <td>325</td>\n",
              "      <td>0</td>\n",
              "      <td>7</td>\n",
              "      <td>0</td>\n",
              "      <td>223.0</td>\n",
              "      <td>19</td>\n",
              "      <td>10</td>\n",
              "      <td>2</td>\n",
              "    </tr>\n",
              "    <tr>\n",
              "      <th>4</th>\n",
              "      <td>0.0</td>\n",
              "      <td>1</td>\n",
              "      <td>19</td>\n",
              "      <td>0</td>\n",
              "      <td>7</td>\n",
              "      <td>0</td>\n",
              "      <td>579.0</td>\n",
              "      <td>120</td>\n",
              "      <td>14</td>\n",
              "      <td>2</td>\n",
              "    </tr>\n",
              "  </tbody>\n",
              "</table>\n",
              "</div>"
            ],
            "text/plain": [
              "   DEP_DEL15  DAY_OF_MONTH  ORIGIN  OP_UNIQUE_CARRIER  OP_CARRIER_AIRLINE_ID  \\\n",
              "0        0.0             1     128                  0                      7   \n",
              "1        0.0             1     225                  0                      7   \n",
              "2        0.0             1      95                  0                      7   \n",
              "3        0.0             1     325                  0                      7   \n",
              "4        0.0             1      19                  0                      7   \n",
              "\n",
              "   OP_CARRIER  DISTANCE  DEST  DEP_TIME_BLK  DAY_OF_WEEK  \n",
              "0           0     300.0    19             1            2  \n",
              "1           0     596.0    80             9            2  \n",
              "2           0     229.0    80             7            2  \n",
              "3           0     223.0    19            10            2  \n",
              "4           0     579.0   120            14            2  "
            ]
          },
          "metadata": {
            "tags": []
          },
          "execution_count": 192
        }
      ]
    },
    {
      "cell_type": "code",
      "metadata": {
        "id": "Q9In1uFJ7gx-",
        "colab_type": "code",
        "colab": {}
      },
      "source": [
        "# Dividimos aleatoriamente as bases em treino e teste. Com a base de treino fazemos modelos e com as base de teste verificamos qual teve o melhor desempenho de acordo com a métrica demandada.\n",
        "from sklearn.model_selection import train_test_split"
      ],
      "execution_count": 109,
      "outputs": []
    },
    {
      "cell_type": "code",
      "metadata": {
        "id": "vCg2WBqe7gyE",
        "colab_type": "code",
        "colab": {}
      },
      "source": [
        "X_train, X_test, y_train, y_test = train_test_split(expl, y, random_state=42)"
      ],
      "execution_count": 110,
      "outputs": []
    },
    {
      "cell_type": "code",
      "metadata": {
        "id": "jZL3M5yo7gyJ",
        "colab_type": "code",
        "colab": {
          "base_uri": "https://localhost:8080/",
          "height": 34
        },
        "outputId": "e5ecd2fc-e54a-4e44-817a-807d66acdaf4"
      },
      "source": [
        "X_train.shape, X_test.shape, y_train.shape, y_test.shape"
      ],
      "execution_count": 111,
      "outputs": [
        {
          "output_type": "execute_result",
          "data": {
            "text/plain": [
              "((424472, 10), (141491, 10), (424472,), (141491,))"
            ]
          },
          "metadata": {
            "tags": []
          },
          "execution_count": 111
        }
      ]
    },
    {
      "cell_type": "markdown",
      "metadata": {
        "id": "CWcAnJk_7gyN",
        "colab_type": "text"
      },
      "source": [
        "# Análises"
      ]
    },
    {
      "cell_type": "markdown",
      "metadata": {
        "id": "usrBZ5uv7gyO",
        "colab_type": "text"
      },
      "source": [
        "Iremos usar 5 algoritmos diferentes:\n",
        "* Regressão Logística\n",
        "* Árvore de Decisão\n",
        "* Random Forest\n",
        "* Naive Bayes\n",
        "* GBT Classifier\n",
        "\n",
        "Tomaremos os dois melhores resultados usando a métrica Recall e então usaremos o GridSearch para ajustar os hiperparâmetros"
      ]
    },
    {
      "cell_type": "code",
      "metadata": {
        "id": "bdoYRCvI7gyO",
        "colab_type": "code",
        "colab": {}
      },
      "source": [
        "from sklearn.metrics import confusion_matrix, classification_report, accuracy_score, recall_score"
      ],
      "execution_count": 112,
      "outputs": []
    },
    {
      "cell_type": "markdown",
      "metadata": {
        "id": "v9Xs2mR_7gyU",
        "colab_type": "text"
      },
      "source": [
        "## Regressão Logística"
      ]
    },
    {
      "cell_type": "code",
      "metadata": {
        "id": "TjmESWQi7gyV",
        "colab_type": "code",
        "colab": {}
      },
      "source": [
        "rl = LogisticRegression()"
      ],
      "execution_count": 113,
      "outputs": []
    },
    {
      "cell_type": "code",
      "metadata": {
        "id": "ILU1VN677gyY",
        "colab_type": "code",
        "colab": {}
      },
      "source": [
        "modelo_rl = rl.fit(X_train, y_train)"
      ],
      "execution_count": 114,
      "outputs": []
    },
    {
      "cell_type": "code",
      "metadata": {
        "id": "Q67SYQWf7gyb",
        "colab_type": "code",
        "colab": {}
      },
      "source": [
        "y_pred_rl_test = modelo_rl.predict(X_test)\n",
        "y_pred_rl_train = modelo_rl.predict(X_train)"
      ],
      "execution_count": 115,
      "outputs": []
    },
    {
      "cell_type": "code",
      "metadata": {
        "id": "aLam-Wux7gyg",
        "colab_type": "code",
        "colab": {
          "base_uri": "https://localhost:8080/",
          "height": 204
        },
        "outputId": "8c1e87a2-8dda-4b51-91dd-1969eb00fdf4"
      },
      "source": [
        "print(classification_report(y_test, y_pred_rl_test))\n",
        "print(confusion_matrix(y_test, y_pred_rl_test))"
      ],
      "execution_count": 116,
      "outputs": [
        {
          "output_type": "stream",
          "text": [
            "              precision    recall  f1-score   support\n",
            "\n",
            "         0.0       0.87      0.98      0.92    115126\n",
            "         1.0       0.77      0.35      0.48     26365\n",
            "\n",
            "    accuracy                           0.86    141491\n",
            "   macro avg       0.82      0.66      0.70    141491\n",
            "weighted avg       0.85      0.86      0.84    141491\n",
            "\n",
            "[[112338   2788]\n",
            " [ 17143   9222]]\n"
          ],
          "name": "stdout"
        }
      ]
    },
    {
      "cell_type": "code",
      "metadata": {
        "id": "gxOIK_-R7gyk",
        "colab_type": "code",
        "colab": {
          "base_uri": "https://localhost:8080/",
          "height": 51
        },
        "outputId": "2556a9b6-135b-4738-aebb-7d008eb56dd2"
      },
      "source": [
        "print(round(accuracy_score(y_test, y_pred_rl_test), 2))\n",
        "print(round(accuracy_score(y_train, y_pred_rl_train), 2))"
      ],
      "execution_count": 117,
      "outputs": [
        {
          "output_type": "stream",
          "text": [
            "0.86\n",
            "0.86\n"
          ],
          "name": "stdout"
        }
      ]
    },
    {
      "cell_type": "markdown",
      "metadata": {
        "id": "uEnTIrUh7gyn",
        "colab_type": "text"
      },
      "source": [
        "### Over e undersampling"
      ]
    },
    {
      "cell_type": "markdown",
      "metadata": {
        "id": "6sBKt9km7gyo",
        "colab_type": "text"
      },
      "source": [
        "Vamos fazer over e undersampling no nosso target para verificar se as métricas ficam melhores. "
      ]
    },
    {
      "cell_type": "code",
      "metadata": {
        "id": "9QcI6B8H7gyo",
        "colab_type": "code",
        "colab": {}
      },
      "source": [
        "from imblearn.combine import SMOTEENN\n",
        "\n",
        "smte = SMOTEENN(random_state=42)\n",
        "\n",
        "X_train2, y_train2 = smte.fit_resample(X_train, y_train)"
      ],
      "execution_count": 147,
      "outputs": []
    },
    {
      "cell_type": "code",
      "metadata": {
        "id": "U_wPODFK7gyv",
        "colab_type": "code",
        "colab": {
          "base_uri": "https://localhost:8080/",
          "height": 34
        },
        "outputId": "caa51c1c-0889-4cd4-a267-965761f33f90"
      },
      "source": [
        "X_train2.shape, y_train2.shape"
      ],
      "execution_count": 149,
      "outputs": [
        {
          "output_type": "execute_result",
          "data": {
            "text/plain": [
              "((431580, 10), (431580,))"
            ]
          },
          "metadata": {
            "tags": []
          },
          "execution_count": 149
        }
      ]
    },
    {
      "cell_type": "markdown",
      "metadata": {
        "id": "5T6YTwjP7gyx",
        "colab_type": "text"
      },
      "source": [
        "### RL Balanceada"
      ]
    },
    {
      "cell_type": "code",
      "metadata": {
        "id": "nzbQKSPR7gyy",
        "colab_type": "code",
        "colab": {}
      },
      "source": [
        "modelo_rl2 = rl.fit(X_train2, y_train2)"
      ],
      "execution_count": 150,
      "outputs": []
    },
    {
      "cell_type": "code",
      "metadata": {
        "id": "KAZAAopc7gyz",
        "colab_type": "code",
        "colab": {}
      },
      "source": [
        "y_pred_rl2_test = modelo_rl2.predict(X_test)"
      ],
      "execution_count": 151,
      "outputs": []
    },
    {
      "cell_type": "code",
      "metadata": {
        "id": "bNPfZtdO7gy2",
        "colab_type": "code",
        "colab": {
          "base_uri": "https://localhost:8080/",
          "height": 204
        },
        "outputId": "1a62e5ed-76d3-4460-b8d1-767351e4b82e"
      },
      "source": [
        "print(classification_report(y_test, y_pred_rl2_test))\n",
        "print(confusion_matrix(y_test, y_pred_rl2_test))"
      ],
      "execution_count": 152,
      "outputs": [
        {
          "output_type": "stream",
          "text": [
            "              precision    recall  f1-score   support\n",
            "\n",
            "         0.0       0.94      0.80      0.87    115126\n",
            "         1.0       0.47      0.78      0.59     26365\n",
            "\n",
            "    accuracy                           0.80    141491\n",
            "   macro avg       0.71      0.79      0.73    141491\n",
            "weighted avg       0.85      0.80      0.81    141491\n",
            "\n",
            "[[92333 22793]\n",
            " [ 5842 20523]]\n"
          ],
          "name": "stdout"
        }
      ]
    },
    {
      "cell_type": "markdown",
      "metadata": {
        "id": "yyuxq6lH7gy4",
        "colab_type": "text"
      },
      "source": [
        "## Decision Tree"
      ]
    },
    {
      "cell_type": "code",
      "metadata": {
        "id": "_BzmaWR17gy4",
        "colab_type": "code",
        "colab": {}
      },
      "source": [
        "from sklearn.tree import DecisionTreeClassifier"
      ],
      "execution_count": 153,
      "outputs": []
    },
    {
      "cell_type": "code",
      "metadata": {
        "id": "rz6U7Mwn7gy9",
        "colab_type": "code",
        "colab": {}
      },
      "source": [
        "dt = DecisionTreeClassifier()"
      ],
      "execution_count": 154,
      "outputs": []
    },
    {
      "cell_type": "code",
      "metadata": {
        "id": "JRp47D_X7gy_",
        "colab_type": "code",
        "colab": {}
      },
      "source": [
        "modelo_dt = dt.fit(X_train, y_train)"
      ],
      "execution_count": 155,
      "outputs": []
    },
    {
      "cell_type": "code",
      "metadata": {
        "id": "ABfJFzuw7gzB",
        "colab_type": "code",
        "colab": {}
      },
      "source": [
        "y_pred_dt_test = modelo_dt.predict(X_test)"
      ],
      "execution_count": 156,
      "outputs": []
    },
    {
      "cell_type": "code",
      "metadata": {
        "id": "f-iTuVPD7gzD",
        "colab_type": "code",
        "colab": {
          "base_uri": "https://localhost:8080/",
          "height": 204
        },
        "outputId": "2d3035e1-8c21-4b8c-e117-c626095acee6"
      },
      "source": [
        "print(classification_report(y_test, y_pred_dt_test))\n",
        "print(confusion_matrix(y_test, y_pred_dt_test))"
      ],
      "execution_count": 157,
      "outputs": [
        {
          "output_type": "stream",
          "text": [
            "              precision    recall  f1-score   support\n",
            "\n",
            "         0.0       0.92      0.91      0.92    115126\n",
            "         1.0       0.63      0.65      0.64     26365\n",
            "\n",
            "    accuracy                           0.86    141491\n",
            "   macro avg       0.78      0.78      0.78    141491\n",
            "weighted avg       0.87      0.86      0.87    141491\n",
            "\n",
            "[[105073  10053]\n",
            " [  9145  17220]]\n"
          ],
          "name": "stdout"
        }
      ]
    },
    {
      "cell_type": "markdown",
      "metadata": {
        "id": "_Yy9-bgA7gzF",
        "colab_type": "text"
      },
      "source": [
        "### DT Balanceado"
      ]
    },
    {
      "cell_type": "code",
      "metadata": {
        "id": "z5k770-F7gzG",
        "colab_type": "code",
        "colab": {}
      },
      "source": [
        "modelo_dt2 = dt.fit(X_train2, y_train2)"
      ],
      "execution_count": 158,
      "outputs": []
    },
    {
      "cell_type": "code",
      "metadata": {
        "id": "N-m2iPeu7gzI",
        "colab_type": "code",
        "colab": {}
      },
      "source": [
        "y_pred_dt2_test = modelo_dt2.predict(X_test)"
      ],
      "execution_count": 159,
      "outputs": []
    },
    {
      "cell_type": "code",
      "metadata": {
        "id": "AwTW6nS07gzL",
        "colab_type": "code",
        "colab": {
          "base_uri": "https://localhost:8080/",
          "height": 204
        },
        "outputId": "b57e98cc-2979-4c11-f1db-80ba957a93ca"
      },
      "source": [
        "print(classification_report(y_test, y_pred_dt2_test))\n",
        "print(confusion_matrix(y_test, y_pred_dt2_test))"
      ],
      "execution_count": 160,
      "outputs": [
        {
          "output_type": "stream",
          "text": [
            "              precision    recall  f1-score   support\n",
            "\n",
            "         0.0       0.93      0.90      0.91    115126\n",
            "         1.0       0.60      0.69      0.64     26365\n",
            "\n",
            "    accuracy                           0.86    141491\n",
            "   macro avg       0.76      0.79      0.78    141491\n",
            "weighted avg       0.87      0.86      0.86    141491\n",
            "\n",
            "[[103093  12033]\n",
            " [  8103  18262]]\n"
          ],
          "name": "stdout"
        }
      ]
    },
    {
      "cell_type": "markdown",
      "metadata": {
        "id": "bs1GtsMf7gzN",
        "colab_type": "text"
      },
      "source": [
        "Aqui já percebemos uma melhora no Recall usando a base balanceada"
      ]
    },
    {
      "cell_type": "markdown",
      "metadata": {
        "id": "38_FpeRC7gzO",
        "colab_type": "text"
      },
      "source": [
        "## Random Forest"
      ]
    },
    {
      "cell_type": "code",
      "metadata": {
        "id": "fc002gX87gzO",
        "colab_type": "code",
        "colab": {}
      },
      "source": [
        "rf = RandomForestClassifier()"
      ],
      "execution_count": 161,
      "outputs": []
    },
    {
      "cell_type": "code",
      "metadata": {
        "id": "NT74xkQH7gzQ",
        "colab_type": "code",
        "colab": {}
      },
      "source": [
        "modelo_rf = rf.fit(X_train, y_train)"
      ],
      "execution_count": 162,
      "outputs": []
    },
    {
      "cell_type": "code",
      "metadata": {
        "id": "yE92Qd047gzS",
        "colab_type": "code",
        "colab": {}
      },
      "source": [
        "y_pred_rf_test = modelo_rf.predict(X_test)"
      ],
      "execution_count": 163,
      "outputs": []
    },
    {
      "cell_type": "code",
      "metadata": {
        "id": "KYAaKnod7gzU",
        "colab_type": "code",
        "colab": {
          "base_uri": "https://localhost:8080/",
          "height": 204
        },
        "outputId": "390c9c41-6696-4614-df9b-52e84f54013a"
      },
      "source": [
        "print(classification_report(y_test, y_pred_rf_test))\n",
        "print(confusion_matrix(y_test, y_pred_rf_test))"
      ],
      "execution_count": 164,
      "outputs": [
        {
          "output_type": "stream",
          "text": [
            "              precision    recall  f1-score   support\n",
            "\n",
            "         0.0       0.94      0.96      0.95    115126\n",
            "         1.0       0.80      0.72      0.76     26365\n",
            "\n",
            "    accuracy                           0.91    141491\n",
            "   macro avg       0.87      0.84      0.85    141491\n",
            "weighted avg       0.91      0.91      0.91    141491\n",
            "\n",
            "[[110402   4724]\n",
            " [  7364  19001]]\n"
          ],
          "name": "stdout"
        }
      ]
    },
    {
      "cell_type": "markdown",
      "metadata": {
        "id": "8krM-2C37gzY",
        "colab_type": "text"
      },
      "source": [
        "### RF Balanceada"
      ]
    },
    {
      "cell_type": "code",
      "metadata": {
        "id": "pnTUiAnW7gzY",
        "colab_type": "code",
        "colab": {
          "base_uri": "https://localhost:8080/",
          "height": 204
        },
        "outputId": "a2a1ed85-f767-4e83-fbe0-cd2681c7d3dc"
      },
      "source": [
        "modelo_rf2 = rf.fit(X_train2, y_train2)\n",
        "\n",
        "y_pred_rf2_test = modelo_rf2.predict(X_test)\n",
        "\n",
        "print(classification_report(y_test, y_pred_rf2_test))\n",
        "print(confusion_matrix(y_test, y_pred_rf2_test))"
      ],
      "execution_count": 165,
      "outputs": [
        {
          "output_type": "stream",
          "text": [
            "              precision    recall  f1-score   support\n",
            "\n",
            "         0.0       0.94      0.95      0.94    115126\n",
            "         1.0       0.77      0.74      0.75     26365\n",
            "\n",
            "    accuracy                           0.91    141491\n",
            "   macro avg       0.85      0.85      0.85    141491\n",
            "weighted avg       0.91      0.91      0.91    141491\n",
            "\n",
            "[[109116   6010]\n",
            " [  6795  19570]]\n"
          ],
          "name": "stdout"
        }
      ]
    },
    {
      "cell_type": "markdown",
      "metadata": {
        "id": "5wzVT1F37gza",
        "colab_type": "text"
      },
      "source": [
        "## Naive Bayes"
      ]
    },
    {
      "cell_type": "code",
      "metadata": {
        "id": "ojZnmApB7gzb",
        "colab_type": "code",
        "colab": {}
      },
      "source": [
        "from sklearn.naive_bayes import GaussianNB"
      ],
      "execution_count": 166,
      "outputs": []
    },
    {
      "cell_type": "code",
      "metadata": {
        "id": "-V9vkQty7gze",
        "colab_type": "code",
        "colab": {
          "base_uri": "https://localhost:8080/",
          "height": 204
        },
        "outputId": "98be0779-64ff-4b8c-c558-53afd53d2b4d"
      },
      "source": [
        "nb = GaussianNB()\n",
        "\n",
        "modelo_nb = nb.fit(X_train, y_train)\n",
        "\n",
        "y_pred_nb_test = modelo_nb.predict(X_test)\n",
        "\n",
        "print(classification_report(y_test, y_pred_nb_test))\n",
        "print(confusion_matrix(y_test, y_pred_nb_test))"
      ],
      "execution_count": 167,
      "outputs": [
        {
          "output_type": "stream",
          "text": [
            "              precision    recall  f1-score   support\n",
            "\n",
            "         0.0       0.94      0.96      0.95    115126\n",
            "         1.0       0.80      0.74      0.77     26365\n",
            "\n",
            "    accuracy                           0.92    141491\n",
            "   macro avg       0.87      0.85      0.86    141491\n",
            "weighted avg       0.91      0.92      0.91    141491\n",
            "\n",
            "[[110101   5025]\n",
            " [  6869  19496]]\n"
          ],
          "name": "stdout"
        }
      ]
    },
    {
      "cell_type": "markdown",
      "metadata": {
        "id": "CUMVQBt37gzh",
        "colab_type": "text"
      },
      "source": [
        "### NB Balanceada"
      ]
    },
    {
      "cell_type": "code",
      "metadata": {
        "id": "www9a9XZ7gzi",
        "colab_type": "code",
        "colab": {
          "base_uri": "https://localhost:8080/",
          "height": 204
        },
        "outputId": "93f0f88d-792e-4800-ae7f-6665386e4a62"
      },
      "source": [
        "modelo_nb2 = nb.fit(X_train2, y_train2)\n",
        "\n",
        "y_pred_nb2_test = modelo_nb2.predict(X_test)\n",
        "\n",
        "print(classification_report(y_test, y_pred_nb2_test))\n",
        "print(confusion_matrix(y_test, y_pred_nb2_test))"
      ],
      "execution_count": 168,
      "outputs": [
        {
          "output_type": "stream",
          "text": [
            "              precision    recall  f1-score   support\n",
            "\n",
            "         0.0       0.94      0.96      0.95    115126\n",
            "         1.0       0.80      0.74      0.77     26365\n",
            "\n",
            "    accuracy                           0.92    141491\n",
            "   macro avg       0.87      0.85      0.86    141491\n",
            "weighted avg       0.91      0.92      0.91    141491\n",
            "\n",
            "[[110101   5025]\n",
            " [  6869  19496]]\n"
          ],
          "name": "stdout"
        }
      ]
    },
    {
      "cell_type": "markdown",
      "metadata": {
        "id": "MrYEUW-U7gzl",
        "colab_type": "text"
      },
      "source": [
        "## GBT Classifier"
      ]
    },
    {
      "cell_type": "code",
      "metadata": {
        "id": "iYaIB7bT7gzl",
        "colab_type": "code",
        "colab": {}
      },
      "source": [
        "from sklearn.ensemble import GradientBoostingClassifier"
      ],
      "execution_count": 169,
      "outputs": []
    },
    {
      "cell_type": "code",
      "metadata": {
        "id": "IUu9t8OI7gzn",
        "colab_type": "code",
        "colab": {
          "base_uri": "https://localhost:8080/",
          "height": 204
        },
        "outputId": "d2c0bfd6-0a46-4284-989e-e4cbb2f42c0b"
      },
      "source": [
        "gbt = GradientBoostingClassifier()\n",
        "\n",
        "modelo_gbt = gbt.fit(X_train, y_train)\n",
        "\n",
        "y_pred_gbt_test = modelo_gbt.predict(X_test)\n",
        "\n",
        "print(classification_report(y_test, y_pred_gbt_test))\n",
        "print(confusion_matrix(y_test, y_pred_gbt_test))"
      ],
      "execution_count": 170,
      "outputs": [
        {
          "output_type": "stream",
          "text": [
            "              precision    recall  f1-score   support\n",
            "\n",
            "         0.0       0.94      0.96      0.95    115126\n",
            "         1.0       0.80      0.74      0.77     26365\n",
            "\n",
            "    accuracy                           0.92    141491\n",
            "   macro avg       0.87      0.85      0.86    141491\n",
            "weighted avg       0.91      0.92      0.91    141491\n",
            "\n",
            "[[110108   5018]\n",
            " [  6872  19493]]\n"
          ],
          "name": "stdout"
        }
      ]
    },
    {
      "cell_type": "markdown",
      "metadata": {
        "id": "tmKuVE647gzs",
        "colab_type": "text"
      },
      "source": [
        "### GBT Balanceada"
      ]
    },
    {
      "cell_type": "code",
      "metadata": {
        "id": "zO2uxlYv7gzs",
        "colab_type": "code",
        "colab": {
          "base_uri": "https://localhost:8080/",
          "height": 204
        },
        "outputId": "e8c9b2ca-2c3f-426e-e798-16208e1ca27c"
      },
      "source": [
        "modelo_gbt2 = gbt.fit(X_train2, y_train2)\n",
        "\n",
        "y_pred_gbt2_test = modelo_gbt2.predict(X_test)\n",
        "\n",
        "print(classification_report(y_test, y_pred_gbt2_test))\n",
        "print(confusion_matrix(y_test, y_pred_gbt2_test))"
      ],
      "execution_count": 171,
      "outputs": [
        {
          "output_type": "stream",
          "text": [
            "              precision    recall  f1-score   support\n",
            "\n",
            "         0.0       0.94      0.96      0.95    115126\n",
            "         1.0       0.80      0.74      0.77     26365\n",
            "\n",
            "    accuracy                           0.92    141491\n",
            "   macro avg       0.87      0.85      0.86    141491\n",
            "weighted avg       0.91      0.92      0.91    141491\n",
            "\n",
            "[[110101   5025]\n",
            " [  6869  19496]]\n"
          ],
          "name": "stdout"
        }
      ]
    },
    {
      "cell_type": "code",
      "metadata": {
        "id": "_BJGaT0G7gzu",
        "colab_type": "code",
        "colab": {
          "base_uri": "https://localhost:8080/",
          "height": 119
        },
        "outputId": "dddd3e13-d59a-40a4-fed1-8a1838ff7f55"
      },
      "source": [
        "recall = {'Algoritmos': ['RL','DT','RF','NB', 'GBT'],\n",
        "          'Recall': [recall_score(y_test, y_pred_rl_test, average='weighted'),\n",
        "                     recall_score(y_test, y_pred_dt_test, average='weighted'),\n",
        "                     recall_score(y_test, y_pred_rf_test, average='weighted'),\n",
        "                     recall_score(y_test, y_pred_nb_test, average='weighted'),\n",
        "                     recall_score(y_test, y_pred_gbt_test, average='weighted')],\n",
        "         'Recall Balanceado': [recall_score(y_test, y_pred_rl2_test, average='weighted'),\n",
        "                              recall_score(y_test, y_pred_dt2_test, average='weighted'),\n",
        "                              recall_score(y_test, y_pred_rf2_test, average='weighted'),\n",
        "                              recall_score(y_test, y_pred_nb2_test, average='weighted'),\n",
        "                              recall_score(y_test, y_pred_gbt2_test, average='weighted')]}\n",
        "\n",
        "df_rec = pd.DataFrame(recall, columns = ['Algoritmos', 'Recall', 'Recall Balanceado'])\n",
        "\n",
        "print (df_rec)"
      ],
      "execution_count": 172,
      "outputs": [
        {
          "output_type": "stream",
          "text": [
            "  Algoritmos    Recall  Recall Balanceado\n",
            "0         RL  0.859136           0.797620\n",
            "1         DT  0.864316           0.857687\n",
            "2         RF  0.914567           0.909500\n",
            "3         NB  0.915938           0.915938\n",
            "4        GBT  0.915966           0.915938\n"
          ],
          "name": "stdout"
        }
      ]
    },
    {
      "cell_type": "markdown",
      "metadata": {
        "id": "lF7FJ1P77gzv",
        "colab_type": "text"
      },
      "source": [
        "Após testar os 5 algoritmos percebemos que o melhor Recall do Random Forest, Naive Bayes e GBT são muito próximos uns dos outros. Vamos usar o Random Forest para o modelo final."
      ]
    },
    {
      "cell_type": "markdown",
      "metadata": {
        "id": "GsfEy0Bv7gzv",
        "colab_type": "text"
      },
      "source": [
        "## GridSearch"
      ]
    },
    {
      "cell_type": "code",
      "metadata": {
        "id": "qzx8ILkd7gzw",
        "colab_type": "code",
        "colab": {}
      },
      "source": [
        "# Com o GridSearchCV podemos testar qual a melhor combinação de Hyperparâmetros para os respectivos algoritmos\n",
        "from sklearn.model_selection import GridSearchCV"
      ],
      "execution_count": 173,
      "outputs": []
    },
    {
      "cell_type": "markdown",
      "metadata": {
        "id": "EJkEg8od7gzx",
        "colab_type": "text"
      },
      "source": [
        "### GridSearch rf"
      ]
    },
    {
      "cell_type": "code",
      "metadata": {
        "id": "1F7SwbnS7gzy",
        "colab_type": "code",
        "colab": {
          "base_uri": "https://localhost:8080/",
          "height": 391
        },
        "outputId": "1edb8eb8-0192-4357-9ca5-d1499dd8f815"
      },
      "source": [
        "param_grid_rf = {'n_estimators': [10, 50, 100, 200],\n",
        "                 'criterion': ['gini', 'entropy'],\n",
        "                 'bootstrap': [True, False]}\n",
        "\n",
        "grid_rf = GridSearchCV(estimator=modelo_rf2, param_grid=param_grid_rf, scoring='recall', cv=4)\n",
        "\n",
        "grid_rf.fit(X_train, y_train)"
      ],
      "execution_count": 176,
      "outputs": [
        {
          "output_type": "execute_result",
          "data": {
            "text/plain": [
              "GridSearchCV(cv=4, error_score=nan,\n",
              "             estimator=RandomForestClassifier(bootstrap=True, ccp_alpha=0.0,\n",
              "                                              class_weight=None,\n",
              "                                              criterion='gini', max_depth=None,\n",
              "                                              max_features='auto',\n",
              "                                              max_leaf_nodes=None,\n",
              "                                              max_samples=None,\n",
              "                                              min_impurity_decrease=0.0,\n",
              "                                              min_impurity_split=None,\n",
              "                                              min_samples_leaf=1,\n",
              "                                              min_samples_split=2,\n",
              "                                              min_weight_fraction_leaf=0.0,\n",
              "                                              n_estimators=100, n_jobs=None,\n",
              "                                              oob_score=False,\n",
              "                                              random_state=None, verbose=0,\n",
              "                                              warm_start=False),\n",
              "             iid='deprecated', n_jobs=None,\n",
              "             param_grid={'bootstrap': [True, False],\n",
              "                         'criterion': ['gini', 'entropy'],\n",
              "                         'n_estimators': [10, 50, 100, 200]},\n",
              "             pre_dispatch='2*n_jobs', refit=True, return_train_score=False,\n",
              "             scoring='recall', verbose=0)"
            ]
          },
          "metadata": {
            "tags": []
          },
          "execution_count": 176
        }
      ]
    },
    {
      "cell_type": "code",
      "metadata": {
        "id": "sZSoj6Gv7gz1",
        "colab_type": "code",
        "colab": {
          "base_uri": "https://localhost:8080/",
          "height": 204
        },
        "outputId": "d3ebd4cd-482f-419a-e6da-b91820c09e6b"
      },
      "source": [
        "y_pred_grid_rf_test = grid_rf.predict(X_test)\n",
        "\n",
        "print(classification_report(y_test, y_pred_grid_rf_test))\n",
        "print(confusion_matrix(y_test, y_pred_grid_rf_test))"
      ],
      "execution_count": 177,
      "outputs": [
        {
          "output_type": "stream",
          "text": [
            "              precision    recall  f1-score   support\n",
            "\n",
            "         0.0       0.94      0.96      0.95    115126\n",
            "         1.0       0.80      0.72      0.76     26365\n",
            "\n",
            "    accuracy                           0.92    141491\n",
            "   macro avg       0.87      0.84      0.85    141491\n",
            "weighted avg       0.91      0.92      0.91    141491\n",
            "\n",
            "[[110406   4720]\n",
            " [  7271  19094]]\n"
          ],
          "name": "stdout"
        }
      ]
    },
    {
      "cell_type": "markdown",
      "metadata": {
        "id": "3iZwYN0aonD_",
        "colab_type": "text"
      },
      "source": [
        "A melhora não foi muito significativa nesse caso. De toda forma, iremos usar o modelo ajustado."
      ]
    },
    {
      "cell_type": "code",
      "metadata": {
        "id": "3f8kO1xB7gz3",
        "colab_type": "code",
        "colab": {
          "base_uri": "https://localhost:8080/",
          "height": 34
        },
        "outputId": "8df9a251-9da8-4da5-8cfa-4ee77f233d6e"
      },
      "source": [
        "grid_rf.best_params_"
      ],
      "execution_count": 178,
      "outputs": [
        {
          "output_type": "execute_result",
          "data": {
            "text/plain": [
              "{'bootstrap': True, 'criterion': 'entropy', 'n_estimators': 200}"
            ]
          },
          "metadata": {
            "tags": []
          },
          "execution_count": 178
        }
      ]
    },
    {
      "cell_type": "code",
      "metadata": {
        "id": "-rVDwdpz7gz5",
        "colab_type": "code",
        "colab": {
          "base_uri": "https://localhost:8080/",
          "height": 153
        },
        "outputId": "2878be34-9d1a-43cc-c05a-9d207c96c08a"
      },
      "source": [
        "grid_rf.best_estimator_"
      ],
      "execution_count": 179,
      "outputs": [
        {
          "output_type": "execute_result",
          "data": {
            "text/plain": [
              "RandomForestClassifier(bootstrap=True, ccp_alpha=0.0, class_weight=None,\n",
              "                       criterion='entropy', max_depth=None, max_features='auto',\n",
              "                       max_leaf_nodes=None, max_samples=None,\n",
              "                       min_impurity_decrease=0.0, min_impurity_split=None,\n",
              "                       min_samples_leaf=1, min_samples_split=2,\n",
              "                       min_weight_fraction_leaf=0.0, n_estimators=200,\n",
              "                       n_jobs=None, oob_score=False, random_state=None,\n",
              "                       verbose=0, warm_start=False)"
            ]
          },
          "metadata": {
            "tags": []
          },
          "execution_count": 179
        }
      ]
    },
    {
      "cell_type": "code",
      "metadata": {
        "id": "Gphkz4Ew7gz_",
        "colab_type": "code",
        "colab": {}
      },
      "source": [
        "final_rf = RandomForestClassifier(bootstrap=False, ccp_alpha=0.0, class_weight=None,\n",
        "                       criterion='entropy', max_depth=None, max_features='auto',\n",
        "                       max_leaf_nodes=None, max_samples=None,\n",
        "                       min_impurity_decrease=0.0, min_impurity_split=None,\n",
        "                       min_samples_leaf=1, min_samples_split=2,\n",
        "                       min_weight_fraction_leaf=0.0, n_estimators=200,\n",
        "                       n_jobs=None, oob_score=False, random_state=None,\n",
        "                       verbose=0, warm_start=False)\n",
        "                            \n",
        "modelo_final = final_rf.fit(X_train2, y_train2)\n",
        "                               \n",
        "# Estamos usando o modelo escolhido para treinar a base e depois puxar os pesos dos coeficientes.\n",
        "# O modelo do gridsearch não tem essa função"
      ],
      "execution_count": 180,
      "outputs": []
    },
    {
      "cell_type": "code",
      "metadata": {
        "id": "9wEJJyi17g0C",
        "colab_type": "code",
        "colab": {
          "base_uri": "https://localhost:8080/",
          "height": 359
        },
        "outputId": "db473432-a286-4e31-c215-44d18f20c561"
      },
      "source": [
        "# Criamos um Dataframe com os pesos\n",
        "coef = pd.DataFrame(modelo_final.feature_importances_, X_train.columns, columns=['Coefs'])\n",
        "coef"
      ],
      "execution_count": 182,
      "outputs": [
        {
          "output_type": "execute_result",
          "data": {
            "text/html": [
              "<div>\n",
              "<style scoped>\n",
              "    .dataframe tbody tr th:only-of-type {\n",
              "        vertical-align: middle;\n",
              "    }\n",
              "\n",
              "    .dataframe tbody tr th {\n",
              "        vertical-align: top;\n",
              "    }\n",
              "\n",
              "    .dataframe thead th {\n",
              "        text-align: right;\n",
              "    }\n",
              "</style>\n",
              "<table border=\"1\" class=\"dataframe\">\n",
              "  <thead>\n",
              "    <tr style=\"text-align: right;\">\n",
              "      <th></th>\n",
              "      <th>Coefs</th>\n",
              "    </tr>\n",
              "  </thead>\n",
              "  <tbody>\n",
              "    <tr>\n",
              "      <th>DEP_DEL15</th>\n",
              "      <td>0.600685</td>\n",
              "    </tr>\n",
              "    <tr>\n",
              "      <th>DAY_OF_MONTH</th>\n",
              "      <td>0.061300</td>\n",
              "    </tr>\n",
              "    <tr>\n",
              "      <th>ORIGIN</th>\n",
              "      <td>0.051458</td>\n",
              "    </tr>\n",
              "    <tr>\n",
              "      <th>OP_UNIQUE_CARRIER</th>\n",
              "      <td>0.010780</td>\n",
              "    </tr>\n",
              "    <tr>\n",
              "      <th>OP_CARRIER_AIRLINE_ID</th>\n",
              "      <td>0.025303</td>\n",
              "    </tr>\n",
              "    <tr>\n",
              "      <th>OP_CARRIER</th>\n",
              "      <td>0.011028</td>\n",
              "    </tr>\n",
              "    <tr>\n",
              "      <th>DISTANCE</th>\n",
              "      <td>0.059956</td>\n",
              "    </tr>\n",
              "    <tr>\n",
              "      <th>DEST</th>\n",
              "      <td>0.048070</td>\n",
              "    </tr>\n",
              "    <tr>\n",
              "      <th>DEP_TIME_BLK</th>\n",
              "      <td>0.069632</td>\n",
              "    </tr>\n",
              "    <tr>\n",
              "      <th>DAY_OF_WEEK</th>\n",
              "      <td>0.061788</td>\n",
              "    </tr>\n",
              "  </tbody>\n",
              "</table>\n",
              "</div>"
            ],
            "text/plain": [
              "                          Coefs\n",
              "DEP_DEL15              0.600685\n",
              "DAY_OF_MONTH           0.061300\n",
              "ORIGIN                 0.051458\n",
              "OP_UNIQUE_CARRIER      0.010780\n",
              "OP_CARRIER_AIRLINE_ID  0.025303\n",
              "OP_CARRIER             0.011028\n",
              "DISTANCE               0.059956\n",
              "DEST                   0.048070\n",
              "DEP_TIME_BLK           0.069632\n",
              "DAY_OF_WEEK            0.061788"
            ]
          },
          "metadata": {
            "tags": []
          },
          "execution_count": 182
        }
      ]
    },
    {
      "cell_type": "code",
      "metadata": {
        "id": "tuTNlF577g0F",
        "colab_type": "code",
        "colab": {
          "base_uri": "https://localhost:8080/",
          "height": 282
        },
        "outputId": "6ef4fbbe-f69f-4d20-eec0-a1f5a6906083"
      },
      "source": [
        "coef.sort_values('Coefs', ascending=False).plot(kind='barh')"
      ],
      "execution_count": 183,
      "outputs": [
        {
          "output_type": "execute_result",
          "data": {
            "text/plain": [
              "<matplotlib.axes._subplots.AxesSubplot at 0x7fb568ab7208>"
            ]
          },
          "metadata": {
            "tags": []
          },
          "execution_count": 183
        },
        {
          "output_type": "display_data",
          "data": {
            "image/png": "[encoded data removed]",
            "text/plain": [
              "<Figure size 432x288 with 1 Axes>"
            ]
          },
          "metadata": {
            "tags": [],
            "needs_background": "light"
          }
        }
      ]
    },
    {
      "cell_type": "markdown",
      "metadata": {
        "id": "vqEXjemS7g0I",
        "colab_type": "text"
      },
      "source": [
        "Notamos que o DEP_DEL15 tem grande importância para determinar se o pouso terá atraso. Vimos isso quando fizemos a correlação entre as variáveis. Seria interessante saber, portanto, quais as causas para o atraso da decolagem. \n",
        "\n",
        "Alguns motivos possíveis para atraso:\n",
        "* Conexões podem causar atraso. Se um passageiro com conexão aterrissa atrasado o próximo voo dele também atrasará\n",
        "* Aeroportos com controle mais rígido podem checar bagagens de passageiros já embarcados. Esse passageiro terá de ser retirado da aeronave\n",
        "* O clima desvaforece a segurança tanto na decolagem como na aterrissagem. O mês de janeiro é um mês frio nos EUA e a neve pode interferir, principalmente nos estados mais ao norte. \n",
        "* Manutenções corretivas (aquelas feitas quando já há algo defeituoso) podem ser detectadas nas vistorias. As corretivas são as mais problemátias já que uma peça com defeito pode sobrecarregar outras, sendo necessárioa uma checagem mais minuciosa"
      ]
    },
    {
      "cell_type": "markdown",
      "metadata": {
        "id": "JhyB66Ni7g0J",
        "colab_type": "text"
      },
      "source": [
        "# Para finalizar vamos verificar se o modelo de 2019 é bom para 2020"
      ]
    },
    {
      "cell_type": "code",
      "metadata": {
        "id": "HKKZyy4h7g0J",
        "colab_type": "code",
        "colab": {}
      },
      "source": [
        "df20 = pd.read_csv('Jan_2020_ontime.csv')"
      ],
      "execution_count": 211,
      "outputs": []
    },
    {
      "cell_type": "code",
      "metadata": {
        "id": "yn-s1uAuvT7G",
        "colab_type": "code",
        "colab": {}
      },
      "source": [
        "df20.drop(columns=['Unnamed: 21'], inplace=True)"
      ],
      "execution_count": 212,
      "outputs": []
    },
    {
      "cell_type": "code",
      "metadata": {
        "id": "tWIuesKi7g0L",
        "colab_type": "code",
        "colab": {}
      },
      "source": [
        "df20 = df20.dropna()"
      ],
      "execution_count": 213,
      "outputs": []
    },
    {
      "cell_type": "code",
      "metadata": {
        "id": "cZoV89m4xJf-",
        "colab_type": "code",
        "colab": {}
      },
      "source": [
        "df20.OP_UNIQUE_CARRIER = label.fit_transform(df20.OP_UNIQUE_CARRIER)\n",
        " \n",
        "df20.OP_CARRIER_AIRLINE_ID = label.fit_transform(df20.OP_CARRIER_AIRLINE_ID)\n",
        "\n",
        "df20.OP_CARRIER = label.fit_transform(df20.OP_CARRIER)\n",
        "\n",
        "df20.ORIGIN = label.fit_transform(df20.ORIGIN)\n",
        "\n",
        "df20.DEST = label.fit_transform(df20.DEST)\n",
        "\n",
        "df20.DEP_TIME_BLK = label.fit_transform(df20.DEP_TIME_BLK)"
      ],
      "execution_count": 214,
      "outputs": []
    },
    {
      "cell_type": "code",
      "metadata": {
        "id": "ST8BxMC07g0N",
        "colab_type": "code",
        "colab": {}
      },
      "source": [
        "X = df20[my_features]\n",
        "y = df20['ARR_DEL15']"
      ],
      "execution_count": 215,
      "outputs": []
    },
    {
      "cell_type": "code",
      "metadata": {
        "id": "1qDlBm6E7g0P",
        "colab_type": "code",
        "colab": {
          "base_uri": "https://localhost:8080/",
          "height": 204
        },
        "outputId": "c4f7659c-56f1-47a6-e5b7-a763038b3872"
      },
      "source": [
        "y_pred_final = modelo_final.predict(X)\n",
        "\n",
        "print(classification_report(y, y_pred_final))\n",
        "print(confusion_matrix(y, y_pred_final))"
      ],
      "execution_count": 217,
      "outputs": [
        {
          "output_type": "stream",
          "text": [
            "              precision    recall  f1-score   support\n",
            "\n",
            "         0.0       0.95      0.90      0.92    516983\n",
            "         1.0       0.53      0.73      0.62     82285\n",
            "\n",
            "    accuracy                           0.87    599268\n",
            "   macro avg       0.74      0.81      0.77    599268\n",
            "weighted avg       0.90      0.87      0.88    599268\n",
            "\n",
            "[[463816  53167]\n",
            " [ 22081  60204]]\n"
          ],
          "name": "stdout"
        }
      ]
    },
    {
      "cell_type": "code",
      "metadata": {
        "id": "lrOGZQN87g0R",
        "colab_type": "code",
        "colab": {
          "base_uri": "https://localhost:8080/",
          "height": 204
        },
        "outputId": "2245753b-c61e-4ddc-bf23-9ee25db088fa"
      },
      "source": [
        "print(classification_report(y_test, y_pred_grid_rf_test))\n",
        "print(confusion_matrix(y_test, y_pred_grid_rf_test))"
      ],
      "execution_count": 218,
      "outputs": [
        {
          "output_type": "stream",
          "text": [
            "              precision    recall  f1-score   support\n",
            "\n",
            "         0.0       0.94      0.96      0.95    115126\n",
            "         1.0       0.80      0.72      0.76     26365\n",
            "\n",
            "    accuracy                           0.92    141491\n",
            "   macro avg       0.87      0.84      0.85    141491\n",
            "weighted avg       0.91      0.92      0.91    141491\n",
            "\n",
            "[[110406   4720]\n",
            " [  7271  19094]]\n"
          ],
          "name": "stdout"
        }
      ]
    },
    {
      "cell_type": "markdown",
      "metadata": {
        "id": "p4qJjOHF7g0V",
        "colab_type": "text"
      },
      "source": [
        "Comparando os dois resultados vemos que as métricas são piores para 2020 mas ainda com um bom aproveitamento. Provavelmente para 2021 ainda piores. É importante analisar e aprimorar os modelos conforme o temos mais dados."
      ]
    },
    {
      "cell_type": "code",
      "metadata": {
        "id": "LBomiiAV7g0W",
        "colab_type": "code",
        "colab": {}
      },
      "source": [
        ""
      ],
      "execution_count": null,
      "outputs": []
    }
  ]
}