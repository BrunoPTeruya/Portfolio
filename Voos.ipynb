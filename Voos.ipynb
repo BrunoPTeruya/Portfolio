{
 "cells": [
  {
   "cell_type": "markdown",
   "metadata": {},
   "source": [
    "**Objetivo**\n",
    "Queremos prever se os voos da base irão atrasar. Nosso alvo é então a coluna ARR_DEL15. No Kaggle essa coluna é descrita como: Arrival Delay Indicator, 15 Minutes or More (1=Yes, 0=No)\n",
    "\n",
    "https://www.kaggle.com/divyansh22/flight-delay-prediction"
   ]
  },
  {
   "cell_type": "markdown",
   "metadata": {},
   "source": [
    "Usaremos a base de 2019 para fazer o modelo. Ao final vamos ver como ele se comporta com a base de 2020"
   ]
  },
  {
   "cell_type": "code",
   "execution_count": 223,
   "metadata": {},
   "outputs": [],
   "source": [
    "import numpy as np\n",
    "import pandas as pd\n",
    "import matplotlib.pyplot as plt\n",
    "import seaborn as sns\n",
    "%matplotlib inline\n",
    "import warnings\n",
    "warnings.filterwarnings(\"ignore\")\n",
    "\n",
    "pd.set_option('display.max_columns', None)"
   ]
  },
  {
   "cell_type": "code",
   "execution_count": 224,
   "metadata": {},
   "outputs": [],
   "source": [
    "df = pd.read_csv('Jan_2019_ontime.csv')"
   ]
  },
  {
   "cell_type": "markdown",
   "metadata": {},
   "source": [
    "# Análise da base"
   ]
  },
  {
   "cell_type": "code",
   "execution_count": 225,
   "metadata": {},
   "outputs": [
    {
     "data": {
      "text/html": [
       "<div>\n",
       "<style scoped>\n",
       "    .dataframe tbody tr th:only-of-type {\n",
       "        vertical-align: middle;\n",
       "    }\n",
       "\n",
       "    .dataframe tbody tr th {\n",
       "        vertical-align: top;\n",
       "    }\n",
       "\n",
       "    .dataframe thead th {\n",
       "        text-align: right;\n",
       "    }\n",
       "</style>\n",
       "<table border=\"1\" class=\"dataframe\">\n",
       "  <thead>\n",
       "    <tr style=\"text-align: right;\">\n",
       "      <th></th>\n",
       "      <th>DAY_OF_MONTH</th>\n",
       "      <th>DAY_OF_WEEK</th>\n",
       "      <th>OP_UNIQUE_CARRIER</th>\n",
       "      <th>OP_CARRIER_AIRLINE_ID</th>\n",
       "      <th>OP_CARRIER</th>\n",
       "      <th>TAIL_NUM</th>\n",
       "      <th>OP_CARRIER_FL_NUM</th>\n",
       "      <th>ORIGIN_AIRPORT_ID</th>\n",
       "      <th>ORIGIN_AIRPORT_SEQ_ID</th>\n",
       "      <th>ORIGIN</th>\n",
       "      <th>DEST_AIRPORT_ID</th>\n",
       "      <th>DEST_AIRPORT_SEQ_ID</th>\n",
       "      <th>DEST</th>\n",
       "      <th>DEP_TIME</th>\n",
       "      <th>DEP_DEL15</th>\n",
       "      <th>DEP_TIME_BLK</th>\n",
       "      <th>ARR_TIME</th>\n",
       "      <th>ARR_DEL15</th>\n",
       "      <th>CANCELLED</th>\n",
       "      <th>DIVERTED</th>\n",
       "      <th>DISTANCE</th>\n",
       "      <th>Unnamed: 21</th>\n",
       "    </tr>\n",
       "  </thead>\n",
       "  <tbody>\n",
       "    <tr>\n",
       "      <th>0</th>\n",
       "      <td>1</td>\n",
       "      <td>2</td>\n",
       "      <td>9E</td>\n",
       "      <td>20363</td>\n",
       "      <td>9E</td>\n",
       "      <td>N8688C</td>\n",
       "      <td>3280</td>\n",
       "      <td>11953</td>\n",
       "      <td>1195302</td>\n",
       "      <td>GNV</td>\n",
       "      <td>10397</td>\n",
       "      <td>1039707</td>\n",
       "      <td>ATL</td>\n",
       "      <td>601.0</td>\n",
       "      <td>0.0</td>\n",
       "      <td>0600-0659</td>\n",
       "      <td>722.0</td>\n",
       "      <td>0.0</td>\n",
       "      <td>0.0</td>\n",
       "      <td>0.0</td>\n",
       "      <td>300.0</td>\n",
       "      <td>NaN</td>\n",
       "    </tr>\n",
       "    <tr>\n",
       "      <th>1</th>\n",
       "      <td>1</td>\n",
       "      <td>2</td>\n",
       "      <td>9E</td>\n",
       "      <td>20363</td>\n",
       "      <td>9E</td>\n",
       "      <td>N348PQ</td>\n",
       "      <td>3281</td>\n",
       "      <td>13487</td>\n",
       "      <td>1348702</td>\n",
       "      <td>MSP</td>\n",
       "      <td>11193</td>\n",
       "      <td>1119302</td>\n",
       "      <td>CVG</td>\n",
       "      <td>1359.0</td>\n",
       "      <td>0.0</td>\n",
       "      <td>1400-1459</td>\n",
       "      <td>1633.0</td>\n",
       "      <td>0.0</td>\n",
       "      <td>0.0</td>\n",
       "      <td>0.0</td>\n",
       "      <td>596.0</td>\n",
       "      <td>NaN</td>\n",
       "    </tr>\n",
       "    <tr>\n",
       "      <th>2</th>\n",
       "      <td>1</td>\n",
       "      <td>2</td>\n",
       "      <td>9E</td>\n",
       "      <td>20363</td>\n",
       "      <td>9E</td>\n",
       "      <td>N8896A</td>\n",
       "      <td>3282</td>\n",
       "      <td>11433</td>\n",
       "      <td>1143302</td>\n",
       "      <td>DTW</td>\n",
       "      <td>11193</td>\n",
       "      <td>1119302</td>\n",
       "      <td>CVG</td>\n",
       "      <td>1215.0</td>\n",
       "      <td>0.0</td>\n",
       "      <td>1200-1259</td>\n",
       "      <td>1329.0</td>\n",
       "      <td>0.0</td>\n",
       "      <td>0.0</td>\n",
       "      <td>0.0</td>\n",
       "      <td>229.0</td>\n",
       "      <td>NaN</td>\n",
       "    </tr>\n",
       "    <tr>\n",
       "      <th>3</th>\n",
       "      <td>1</td>\n",
       "      <td>2</td>\n",
       "      <td>9E</td>\n",
       "      <td>20363</td>\n",
       "      <td>9E</td>\n",
       "      <td>N8886A</td>\n",
       "      <td>3283</td>\n",
       "      <td>15249</td>\n",
       "      <td>1524906</td>\n",
       "      <td>TLH</td>\n",
       "      <td>10397</td>\n",
       "      <td>1039707</td>\n",
       "      <td>ATL</td>\n",
       "      <td>1521.0</td>\n",
       "      <td>0.0</td>\n",
       "      <td>1500-1559</td>\n",
       "      <td>1625.0</td>\n",
       "      <td>0.0</td>\n",
       "      <td>0.0</td>\n",
       "      <td>0.0</td>\n",
       "      <td>223.0</td>\n",
       "      <td>NaN</td>\n",
       "    </tr>\n",
       "    <tr>\n",
       "      <th>4</th>\n",
       "      <td>1</td>\n",
       "      <td>2</td>\n",
       "      <td>9E</td>\n",
       "      <td>20363</td>\n",
       "      <td>9E</td>\n",
       "      <td>N8974C</td>\n",
       "      <td>3284</td>\n",
       "      <td>10397</td>\n",
       "      <td>1039707</td>\n",
       "      <td>ATL</td>\n",
       "      <td>11778</td>\n",
       "      <td>1177801</td>\n",
       "      <td>FSM</td>\n",
       "      <td>1847.0</td>\n",
       "      <td>0.0</td>\n",
       "      <td>1900-1959</td>\n",
       "      <td>1940.0</td>\n",
       "      <td>0.0</td>\n",
       "      <td>0.0</td>\n",
       "      <td>0.0</td>\n",
       "      <td>579.0</td>\n",
       "      <td>NaN</td>\n",
       "    </tr>\n",
       "    <tr>\n",
       "      <th>5</th>\n",
       "      <td>1</td>\n",
       "      <td>2</td>\n",
       "      <td>9E</td>\n",
       "      <td>20363</td>\n",
       "      <td>9E</td>\n",
       "      <td>N927EV</td>\n",
       "      <td>3285</td>\n",
       "      <td>11267</td>\n",
       "      <td>1126702</td>\n",
       "      <td>DAY</td>\n",
       "      <td>13487</td>\n",
       "      <td>1348702</td>\n",
       "      <td>MSP</td>\n",
       "      <td>853.0</td>\n",
       "      <td>0.0</td>\n",
       "      <td>0900-0959</td>\n",
       "      <td>953.0</td>\n",
       "      <td>0.0</td>\n",
       "      <td>0.0</td>\n",
       "      <td>0.0</td>\n",
       "      <td>574.0</td>\n",
       "      <td>NaN</td>\n",
       "    </tr>\n",
       "    <tr>\n",
       "      <th>6</th>\n",
       "      <td>1</td>\n",
       "      <td>2</td>\n",
       "      <td>9E</td>\n",
       "      <td>20363</td>\n",
       "      <td>9E</td>\n",
       "      <td>N915XJ</td>\n",
       "      <td>3286</td>\n",
       "      <td>12448</td>\n",
       "      <td>1244807</td>\n",
       "      <td>JAN</td>\n",
       "      <td>10397</td>\n",
       "      <td>1039707</td>\n",
       "      <td>ATL</td>\n",
       "      <td>1553.0</td>\n",
       "      <td>0.0</td>\n",
       "      <td>1500-1559</td>\n",
       "      <td>1832.0</td>\n",
       "      <td>0.0</td>\n",
       "      <td>0.0</td>\n",
       "      <td>0.0</td>\n",
       "      <td>341.0</td>\n",
       "      <td>NaN</td>\n",
       "    </tr>\n",
       "    <tr>\n",
       "      <th>7</th>\n",
       "      <td>1</td>\n",
       "      <td>2</td>\n",
       "      <td>9E</td>\n",
       "      <td>20363</td>\n",
       "      <td>9E</td>\n",
       "      <td>N295PQ</td>\n",
       "      <td>3287</td>\n",
       "      <td>12953</td>\n",
       "      <td>1295304</td>\n",
       "      <td>LGA</td>\n",
       "      <td>11193</td>\n",
       "      <td>1119302</td>\n",
       "      <td>CVG</td>\n",
       "      <td>1551.0</td>\n",
       "      <td>0.0</td>\n",
       "      <td>1500-1559</td>\n",
       "      <td>1824.0</td>\n",
       "      <td>0.0</td>\n",
       "      <td>0.0</td>\n",
       "      <td>0.0</td>\n",
       "      <td>585.0</td>\n",
       "      <td>NaN</td>\n",
       "    </tr>\n",
       "    <tr>\n",
       "      <th>8</th>\n",
       "      <td>1</td>\n",
       "      <td>2</td>\n",
       "      <td>9E</td>\n",
       "      <td>20363</td>\n",
       "      <td>9E</td>\n",
       "      <td>N337PQ</td>\n",
       "      <td>3288</td>\n",
       "      <td>12451</td>\n",
       "      <td>1245102</td>\n",
       "      <td>JAX</td>\n",
       "      <td>12953</td>\n",
       "      <td>1295304</td>\n",
       "      <td>LGA</td>\n",
       "      <td>1037.0</td>\n",
       "      <td>0.0</td>\n",
       "      <td>1000-1059</td>\n",
       "      <td>1239.0</td>\n",
       "      <td>0.0</td>\n",
       "      <td>0.0</td>\n",
       "      <td>0.0</td>\n",
       "      <td>833.0</td>\n",
       "      <td>NaN</td>\n",
       "    </tr>\n",
       "    <tr>\n",
       "      <th>9</th>\n",
       "      <td>1</td>\n",
       "      <td>2</td>\n",
       "      <td>9E</td>\n",
       "      <td>20363</td>\n",
       "      <td>9E</td>\n",
       "      <td>N311PQ</td>\n",
       "      <td>3289</td>\n",
       "      <td>10397</td>\n",
       "      <td>1039707</td>\n",
       "      <td>ATL</td>\n",
       "      <td>10685</td>\n",
       "      <td>1068502</td>\n",
       "      <td>BMI</td>\n",
       "      <td>1245.0</td>\n",
       "      <td>0.0</td>\n",
       "      <td>1200-1259</td>\n",
       "      <td>1318.0</td>\n",
       "      <td>0.0</td>\n",
       "      <td>0.0</td>\n",
       "      <td>0.0</td>\n",
       "      <td>533.0</td>\n",
       "      <td>NaN</td>\n",
       "    </tr>\n",
       "  </tbody>\n",
       "</table>\n",
       "</div>"
      ],
      "text/plain": [
       "   DAY_OF_MONTH  DAY_OF_WEEK OP_UNIQUE_CARRIER  OP_CARRIER_AIRLINE_ID  \\\n",
       "0             1            2                9E                  20363   \n",
       "1             1            2                9E                  20363   \n",
       "2             1            2                9E                  20363   \n",
       "3             1            2                9E                  20363   \n",
       "4             1            2                9E                  20363   \n",
       "5             1            2                9E                  20363   \n",
       "6             1            2                9E                  20363   \n",
       "7             1            2                9E                  20363   \n",
       "8             1            2                9E                  20363   \n",
       "9             1            2                9E                  20363   \n",
       "\n",
       "  OP_CARRIER TAIL_NUM  OP_CARRIER_FL_NUM  ORIGIN_AIRPORT_ID  \\\n",
       "0         9E   N8688C               3280              11953   \n",
       "1         9E   N348PQ               3281              13487   \n",
       "2         9E   N8896A               3282              11433   \n",
       "3         9E   N8886A               3283              15249   \n",
       "4         9E   N8974C               3284              10397   \n",
       "5         9E   N927EV               3285              11267   \n",
       "6         9E   N915XJ               3286              12448   \n",
       "7         9E   N295PQ               3287              12953   \n",
       "8         9E   N337PQ               3288              12451   \n",
       "9         9E   N311PQ               3289              10397   \n",
       "\n",
       "   ORIGIN_AIRPORT_SEQ_ID ORIGIN  DEST_AIRPORT_ID  DEST_AIRPORT_SEQ_ID DEST  \\\n",
       "0                1195302    GNV            10397              1039707  ATL   \n",
       "1                1348702    MSP            11193              1119302  CVG   \n",
       "2                1143302    DTW            11193              1119302  CVG   \n",
       "3                1524906    TLH            10397              1039707  ATL   \n",
       "4                1039707    ATL            11778              1177801  FSM   \n",
       "5                1126702    DAY            13487              1348702  MSP   \n",
       "6                1244807    JAN            10397              1039707  ATL   \n",
       "7                1295304    LGA            11193              1119302  CVG   \n",
       "8                1245102    JAX            12953              1295304  LGA   \n",
       "9                1039707    ATL            10685              1068502  BMI   \n",
       "\n",
       "   DEP_TIME  DEP_DEL15 DEP_TIME_BLK  ARR_TIME  ARR_DEL15  CANCELLED  DIVERTED  \\\n",
       "0     601.0        0.0    0600-0659     722.0        0.0        0.0       0.0   \n",
       "1    1359.0        0.0    1400-1459    1633.0        0.0        0.0       0.0   \n",
       "2    1215.0        0.0    1200-1259    1329.0        0.0        0.0       0.0   \n",
       "3    1521.0        0.0    1500-1559    1625.0        0.0        0.0       0.0   \n",
       "4    1847.0        0.0    1900-1959    1940.0        0.0        0.0       0.0   \n",
       "5     853.0        0.0    0900-0959     953.0        0.0        0.0       0.0   \n",
       "6    1553.0        0.0    1500-1559    1832.0        0.0        0.0       0.0   \n",
       "7    1551.0        0.0    1500-1559    1824.0        0.0        0.0       0.0   \n",
       "8    1037.0        0.0    1000-1059    1239.0        0.0        0.0       0.0   \n",
       "9    1245.0        0.0    1200-1259    1318.0        0.0        0.0       0.0   \n",
       "\n",
       "   DISTANCE  Unnamed: 21  \n",
       "0     300.0          NaN  \n",
       "1     596.0          NaN  \n",
       "2     229.0          NaN  \n",
       "3     223.0          NaN  \n",
       "4     579.0          NaN  \n",
       "5     574.0          NaN  \n",
       "6     341.0          NaN  \n",
       "7     585.0          NaN  \n",
       "8     833.0          NaN  \n",
       "9     533.0          NaN  "
      ]
     },
     "execution_count": 225,
     "metadata": {},
     "output_type": "execute_result"
    }
   ],
   "source": [
    "df.head(10)"
   ]
  },
  {
   "cell_type": "code",
   "execution_count": 226,
   "metadata": {},
   "outputs": [
    {
     "data": {
      "text/html": [
       "<div>\n",
       "<style scoped>\n",
       "    .dataframe tbody tr th:only-of-type {\n",
       "        vertical-align: middle;\n",
       "    }\n",
       "\n",
       "    .dataframe tbody tr th {\n",
       "        vertical-align: top;\n",
       "    }\n",
       "\n",
       "    .dataframe thead th {\n",
       "        text-align: right;\n",
       "    }\n",
       "</style>\n",
       "<table border=\"1\" class=\"dataframe\">\n",
       "  <thead>\n",
       "    <tr style=\"text-align: right;\">\n",
       "      <th></th>\n",
       "      <th>DAY_OF_MONTH</th>\n",
       "      <th>DAY_OF_WEEK</th>\n",
       "      <th>OP_UNIQUE_CARRIER</th>\n",
       "      <th>OP_CARRIER_AIRLINE_ID</th>\n",
       "      <th>OP_CARRIER</th>\n",
       "      <th>TAIL_NUM</th>\n",
       "      <th>OP_CARRIER_FL_NUM</th>\n",
       "      <th>ORIGIN_AIRPORT_ID</th>\n",
       "      <th>ORIGIN_AIRPORT_SEQ_ID</th>\n",
       "      <th>ORIGIN</th>\n",
       "      <th>DEST_AIRPORT_ID</th>\n",
       "      <th>DEST_AIRPORT_SEQ_ID</th>\n",
       "      <th>DEST</th>\n",
       "      <th>DEP_TIME</th>\n",
       "      <th>DEP_DEL15</th>\n",
       "      <th>DEP_TIME_BLK</th>\n",
       "      <th>ARR_TIME</th>\n",
       "      <th>ARR_DEL15</th>\n",
       "      <th>CANCELLED</th>\n",
       "      <th>DIVERTED</th>\n",
       "      <th>DISTANCE</th>\n",
       "      <th>Unnamed: 21</th>\n",
       "    </tr>\n",
       "  </thead>\n",
       "  <tbody>\n",
       "    <tr>\n",
       "      <th>583980</th>\n",
       "      <td>31</td>\n",
       "      <td>4</td>\n",
       "      <td>UA</td>\n",
       "      <td>19977</td>\n",
       "      <td>UA</td>\n",
       "      <td>N776UA</td>\n",
       "      <td>200</td>\n",
       "      <td>12016</td>\n",
       "      <td>1201602</td>\n",
       "      <td>GUM</td>\n",
       "      <td>12173</td>\n",
       "      <td>1217305</td>\n",
       "      <td>HNL</td>\n",
       "      <td>749.0</td>\n",
       "      <td>0.0</td>\n",
       "      <td>0700-0759</td>\n",
       "      <td>1832.0</td>\n",
       "      <td>0.0</td>\n",
       "      <td>0.0</td>\n",
       "      <td>0.0</td>\n",
       "      <td>3801.0</td>\n",
       "      <td>NaN</td>\n",
       "    </tr>\n",
       "    <tr>\n",
       "      <th>583981</th>\n",
       "      <td>31</td>\n",
       "      <td>4</td>\n",
       "      <td>UA</td>\n",
       "      <td>19977</td>\n",
       "      <td>UA</td>\n",
       "      <td>N36280</td>\n",
       "      <td>174</td>\n",
       "      <td>12016</td>\n",
       "      <td>1201602</td>\n",
       "      <td>GUM</td>\n",
       "      <td>14955</td>\n",
       "      <td>1495503</td>\n",
       "      <td>SPN</td>\n",
       "      <td>717.0</td>\n",
       "      <td>0.0</td>\n",
       "      <td>0700-0759</td>\n",
       "      <td>759.0</td>\n",
       "      <td>0.0</td>\n",
       "      <td>0.0</td>\n",
       "      <td>0.0</td>\n",
       "      <td>129.0</td>\n",
       "      <td>NaN</td>\n",
       "    </tr>\n",
       "    <tr>\n",
       "      <th>583982</th>\n",
       "      <td>31</td>\n",
       "      <td>4</td>\n",
       "      <td>UA</td>\n",
       "      <td>19977</td>\n",
       "      <td>UA</td>\n",
       "      <td>N36280</td>\n",
       "      <td>117</td>\n",
       "      <td>14955</td>\n",
       "      <td>1495503</td>\n",
       "      <td>SPN</td>\n",
       "      <td>12016</td>\n",
       "      <td>1201602</td>\n",
       "      <td>GUM</td>\n",
       "      <td>857.0</td>\n",
       "      <td>0.0</td>\n",
       "      <td>0900-0959</td>\n",
       "      <td>933.0</td>\n",
       "      <td>0.0</td>\n",
       "      <td>0.0</td>\n",
       "      <td>0.0</td>\n",
       "      <td>129.0</td>\n",
       "      <td>NaN</td>\n",
       "    </tr>\n",
       "    <tr>\n",
       "      <th>583983</th>\n",
       "      <td>31</td>\n",
       "      <td>4</td>\n",
       "      <td>UA</td>\n",
       "      <td>19977</td>\n",
       "      <td>UA</td>\n",
       "      <td>N39726</td>\n",
       "      <td>105</td>\n",
       "      <td>14955</td>\n",
       "      <td>1495503</td>\n",
       "      <td>SPN</td>\n",
       "      <td>12016</td>\n",
       "      <td>1201602</td>\n",
       "      <td>GUM</td>\n",
       "      <td>1820.0</td>\n",
       "      <td>0.0</td>\n",
       "      <td>1800-1859</td>\n",
       "      <td>1854.0</td>\n",
       "      <td>0.0</td>\n",
       "      <td>0.0</td>\n",
       "      <td>0.0</td>\n",
       "      <td>129.0</td>\n",
       "      <td>NaN</td>\n",
       "    </tr>\n",
       "    <tr>\n",
       "      <th>583984</th>\n",
       "      <td>31</td>\n",
       "      <td>4</td>\n",
       "      <td>UA</td>\n",
       "      <td>19977</td>\n",
       "      <td>UA</td>\n",
       "      <td>N39726</td>\n",
       "      <td>104</td>\n",
       "      <td>12016</td>\n",
       "      <td>1201602</td>\n",
       "      <td>GUM</td>\n",
       "      <td>14955</td>\n",
       "      <td>1495503</td>\n",
       "      <td>SPN</td>\n",
       "      <td>1636.0</td>\n",
       "      <td>0.0</td>\n",
       "      <td>1600-1659</td>\n",
       "      <td>1719.0</td>\n",
       "      <td>0.0</td>\n",
       "      <td>0.0</td>\n",
       "      <td>0.0</td>\n",
       "      <td>129.0</td>\n",
       "      <td>NaN</td>\n",
       "    </tr>\n",
       "  </tbody>\n",
       "</table>\n",
       "</div>"
      ],
      "text/plain": [
       "        DAY_OF_MONTH  DAY_OF_WEEK OP_UNIQUE_CARRIER  OP_CARRIER_AIRLINE_ID  \\\n",
       "583980            31            4                UA                  19977   \n",
       "583981            31            4                UA                  19977   \n",
       "583982            31            4                UA                  19977   \n",
       "583983            31            4                UA                  19977   \n",
       "583984            31            4                UA                  19977   \n",
       "\n",
       "       OP_CARRIER TAIL_NUM  OP_CARRIER_FL_NUM  ORIGIN_AIRPORT_ID  \\\n",
       "583980         UA   N776UA                200              12016   \n",
       "583981         UA   N36280                174              12016   \n",
       "583982         UA   N36280                117              14955   \n",
       "583983         UA   N39726                105              14955   \n",
       "583984         UA   N39726                104              12016   \n",
       "\n",
       "        ORIGIN_AIRPORT_SEQ_ID ORIGIN  DEST_AIRPORT_ID  DEST_AIRPORT_SEQ_ID  \\\n",
       "583980                1201602    GUM            12173              1217305   \n",
       "583981                1201602    GUM            14955              1495503   \n",
       "583982                1495503    SPN            12016              1201602   \n",
       "583983                1495503    SPN            12016              1201602   \n",
       "583984                1201602    GUM            14955              1495503   \n",
       "\n",
       "       DEST  DEP_TIME  DEP_DEL15 DEP_TIME_BLK  ARR_TIME  ARR_DEL15  CANCELLED  \\\n",
       "583980  HNL     749.0        0.0    0700-0759    1832.0        0.0        0.0   \n",
       "583981  SPN     717.0        0.0    0700-0759     759.0        0.0        0.0   \n",
       "583982  GUM     857.0        0.0    0900-0959     933.0        0.0        0.0   \n",
       "583983  GUM    1820.0        0.0    1800-1859    1854.0        0.0        0.0   \n",
       "583984  SPN    1636.0        0.0    1600-1659    1719.0        0.0        0.0   \n",
       "\n",
       "        DIVERTED  DISTANCE  Unnamed: 21  \n",
       "583980       0.0    3801.0          NaN  \n",
       "583981       0.0     129.0          NaN  \n",
       "583982       0.0     129.0          NaN  \n",
       "583983       0.0     129.0          NaN  \n",
       "583984       0.0     129.0          NaN  "
      ]
     },
     "execution_count": 226,
     "metadata": {},
     "output_type": "execute_result"
    }
   ],
   "source": [
    "df.tail()"
   ]
  },
  {
   "cell_type": "code",
   "execution_count": 227,
   "metadata": {},
   "outputs": [
    {
     "data": {
      "text/html": [
       "<div>\n",
       "<style scoped>\n",
       "    .dataframe tbody tr th:only-of-type {\n",
       "        vertical-align: middle;\n",
       "    }\n",
       "\n",
       "    .dataframe tbody tr th {\n",
       "        vertical-align: top;\n",
       "    }\n",
       "\n",
       "    .dataframe thead th {\n",
       "        text-align: right;\n",
       "    }\n",
       "</style>\n",
       "<table border=\"1\" class=\"dataframe\">\n",
       "  <thead>\n",
       "    <tr style=\"text-align: right;\">\n",
       "      <th></th>\n",
       "      <th>DAY_OF_MONTH</th>\n",
       "      <th>DAY_OF_WEEK</th>\n",
       "      <th>OP_CARRIER_AIRLINE_ID</th>\n",
       "      <th>OP_CARRIER_FL_NUM</th>\n",
       "      <th>ORIGIN_AIRPORT_ID</th>\n",
       "      <th>ORIGIN_AIRPORT_SEQ_ID</th>\n",
       "      <th>DEST_AIRPORT_ID</th>\n",
       "      <th>DEST_AIRPORT_SEQ_ID</th>\n",
       "      <th>DEP_TIME</th>\n",
       "      <th>DEP_DEL15</th>\n",
       "      <th>ARR_TIME</th>\n",
       "      <th>ARR_DEL15</th>\n",
       "      <th>CANCELLED</th>\n",
       "      <th>DIVERTED</th>\n",
       "      <th>DISTANCE</th>\n",
       "      <th>Unnamed: 21</th>\n",
       "    </tr>\n",
       "  </thead>\n",
       "  <tbody>\n",
       "    <tr>\n",
       "      <th>count</th>\n",
       "      <td>583985.000000</td>\n",
       "      <td>583985.000000</td>\n",
       "      <td>583985.000000</td>\n",
       "      <td>583985.000000</td>\n",
       "      <td>583985.000000</td>\n",
       "      <td>5.839850e+05</td>\n",
       "      <td>583985.000000</td>\n",
       "      <td>5.839850e+05</td>\n",
       "      <td>567633.000000</td>\n",
       "      <td>567630.000000</td>\n",
       "      <td>566924.000000</td>\n",
       "      <td>565963.000000</td>\n",
       "      <td>583985.000000</td>\n",
       "      <td>583985.000000</td>\n",
       "      <td>583985.000000</td>\n",
       "      <td>0.0</td>\n",
       "    </tr>\n",
       "    <tr>\n",
       "      <th>mean</th>\n",
       "      <td>15.960088</td>\n",
       "      <td>3.835626</td>\n",
       "      <td>19983.213168</td>\n",
       "      <td>2537.869334</td>\n",
       "      <td>12659.701982</td>\n",
       "      <td>1.265974e+06</td>\n",
       "      <td>12659.470015</td>\n",
       "      <td>1.265951e+06</td>\n",
       "      <td>1331.957814</td>\n",
       "      <td>0.174281</td>\n",
       "      <td>1484.315921</td>\n",
       "      <td>0.185917</td>\n",
       "      <td>0.028641</td>\n",
       "      <td>0.002219</td>\n",
       "      <td>797.742767</td>\n",
       "      <td>NaN</td>\n",
       "    </tr>\n",
       "    <tr>\n",
       "      <th>std</th>\n",
       "      <td>8.987942</td>\n",
       "      <td>1.921899</td>\n",
       "      <td>377.724638</td>\n",
       "      <td>1821.736145</td>\n",
       "      <td>1519.405493</td>\n",
       "      <td>1.519403e+05</td>\n",
       "      <td>1519.336466</td>\n",
       "      <td>1.519334e+05</td>\n",
       "      <td>495.404020</td>\n",
       "      <td>0.379351</td>\n",
       "      <td>523.162855</td>\n",
       "      <td>0.389040</td>\n",
       "      <td>0.166796</td>\n",
       "      <td>0.047056</td>\n",
       "      <td>589.999261</td>\n",
       "      <td>NaN</td>\n",
       "    </tr>\n",
       "    <tr>\n",
       "      <th>min</th>\n",
       "      <td>1.000000</td>\n",
       "      <td>1.000000</td>\n",
       "      <td>19393.000000</td>\n",
       "      <td>1.000000</td>\n",
       "      <td>10135.000000</td>\n",
       "      <td>1.013505e+06</td>\n",
       "      <td>10135.000000</td>\n",
       "      <td>1.013505e+06</td>\n",
       "      <td>1.000000</td>\n",
       "      <td>0.000000</td>\n",
       "      <td>1.000000</td>\n",
       "      <td>0.000000</td>\n",
       "      <td>0.000000</td>\n",
       "      <td>0.000000</td>\n",
       "      <td>31.000000</td>\n",
       "      <td>NaN</td>\n",
       "    </tr>\n",
       "    <tr>\n",
       "      <th>25%</th>\n",
       "      <td>8.000000</td>\n",
       "      <td>2.000000</td>\n",
       "      <td>19790.000000</td>\n",
       "      <td>979.000000</td>\n",
       "      <td>11292.000000</td>\n",
       "      <td>1.129202e+06</td>\n",
       "      <td>11292.000000</td>\n",
       "      <td>1.129202e+06</td>\n",
       "      <td>921.000000</td>\n",
       "      <td>0.000000</td>\n",
       "      <td>1104.000000</td>\n",
       "      <td>0.000000</td>\n",
       "      <td>0.000000</td>\n",
       "      <td>0.000000</td>\n",
       "      <td>363.000000</td>\n",
       "      <td>NaN</td>\n",
       "    </tr>\n",
       "    <tr>\n",
       "      <th>50%</th>\n",
       "      <td>16.000000</td>\n",
       "      <td>4.000000</td>\n",
       "      <td>19977.000000</td>\n",
       "      <td>2114.000000</td>\n",
       "      <td>12889.000000</td>\n",
       "      <td>1.288903e+06</td>\n",
       "      <td>12889.000000</td>\n",
       "      <td>1.288903e+06</td>\n",
       "      <td>1328.000000</td>\n",
       "      <td>0.000000</td>\n",
       "      <td>1517.000000</td>\n",
       "      <td>0.000000</td>\n",
       "      <td>0.000000</td>\n",
       "      <td>0.000000</td>\n",
       "      <td>640.000000</td>\n",
       "      <td>NaN</td>\n",
       "    </tr>\n",
       "    <tr>\n",
       "      <th>75%</th>\n",
       "      <td>24.000000</td>\n",
       "      <td>5.000000</td>\n",
       "      <td>20368.000000</td>\n",
       "      <td>3902.000000</td>\n",
       "      <td>13931.000000</td>\n",
       "      <td>1.393102e+06</td>\n",
       "      <td>13931.000000</td>\n",
       "      <td>1.393102e+06</td>\n",
       "      <td>1738.000000</td>\n",
       "      <td>0.000000</td>\n",
       "      <td>1919.000000</td>\n",
       "      <td>0.000000</td>\n",
       "      <td>0.000000</td>\n",
       "      <td>0.000000</td>\n",
       "      <td>1037.000000</td>\n",
       "      <td>NaN</td>\n",
       "    </tr>\n",
       "    <tr>\n",
       "      <th>max</th>\n",
       "      <td>31.000000</td>\n",
       "      <td>7.000000</td>\n",
       "      <td>20452.000000</td>\n",
       "      <td>7439.000000</td>\n",
       "      <td>16218.000000</td>\n",
       "      <td>1.621802e+06</td>\n",
       "      <td>16218.000000</td>\n",
       "      <td>1.621802e+06</td>\n",
       "      <td>2400.000000</td>\n",
       "      <td>1.000000</td>\n",
       "      <td>2400.000000</td>\n",
       "      <td>1.000000</td>\n",
       "      <td>1.000000</td>\n",
       "      <td>1.000000</td>\n",
       "      <td>4983.000000</td>\n",
       "      <td>NaN</td>\n",
       "    </tr>\n",
       "  </tbody>\n",
       "</table>\n",
       "</div>"
      ],
      "text/plain": [
       "        DAY_OF_MONTH    DAY_OF_WEEK  OP_CARRIER_AIRLINE_ID  OP_CARRIER_FL_NUM  \\\n",
       "count  583985.000000  583985.000000          583985.000000      583985.000000   \n",
       "mean       15.960088       3.835626           19983.213168        2537.869334   \n",
       "std         8.987942       1.921899             377.724638        1821.736145   \n",
       "min         1.000000       1.000000           19393.000000           1.000000   \n",
       "25%         8.000000       2.000000           19790.000000         979.000000   \n",
       "50%        16.000000       4.000000           19977.000000        2114.000000   \n",
       "75%        24.000000       5.000000           20368.000000        3902.000000   \n",
       "max        31.000000       7.000000           20452.000000        7439.000000   \n",
       "\n",
       "       ORIGIN_AIRPORT_ID  ORIGIN_AIRPORT_SEQ_ID  DEST_AIRPORT_ID  \\\n",
       "count      583985.000000           5.839850e+05    583985.000000   \n",
       "mean        12659.701982           1.265974e+06     12659.470015   \n",
       "std          1519.405493           1.519403e+05      1519.336466   \n",
       "min         10135.000000           1.013505e+06     10135.000000   \n",
       "25%         11292.000000           1.129202e+06     11292.000000   \n",
       "50%         12889.000000           1.288903e+06     12889.000000   \n",
       "75%         13931.000000           1.393102e+06     13931.000000   \n",
       "max         16218.000000           1.621802e+06     16218.000000   \n",
       "\n",
       "       DEST_AIRPORT_SEQ_ID       DEP_TIME      DEP_DEL15       ARR_TIME  \\\n",
       "count         5.839850e+05  567633.000000  567630.000000  566924.000000   \n",
       "mean          1.265951e+06    1331.957814       0.174281    1484.315921   \n",
       "std           1.519334e+05     495.404020       0.379351     523.162855   \n",
       "min           1.013505e+06       1.000000       0.000000       1.000000   \n",
       "25%           1.129202e+06     921.000000       0.000000    1104.000000   \n",
       "50%           1.288903e+06    1328.000000       0.000000    1517.000000   \n",
       "75%           1.393102e+06    1738.000000       0.000000    1919.000000   \n",
       "max           1.621802e+06    2400.000000       1.000000    2400.000000   \n",
       "\n",
       "           ARR_DEL15      CANCELLED       DIVERTED       DISTANCE  Unnamed: 21  \n",
       "count  565963.000000  583985.000000  583985.000000  583985.000000          0.0  \n",
       "mean        0.185917       0.028641       0.002219     797.742767          NaN  \n",
       "std         0.389040       0.166796       0.047056     589.999261          NaN  \n",
       "min         0.000000       0.000000       0.000000      31.000000          NaN  \n",
       "25%         0.000000       0.000000       0.000000     363.000000          NaN  \n",
       "50%         0.000000       0.000000       0.000000     640.000000          NaN  \n",
       "75%         0.000000       0.000000       0.000000    1037.000000          NaN  \n",
       "max         1.000000       1.000000       1.000000    4983.000000          NaN  "
      ]
     },
     "execution_count": 227,
     "metadata": {},
     "output_type": "execute_result"
    }
   ],
   "source": [
    "df.describe()"
   ]
  },
  {
   "cell_type": "markdown",
   "metadata": {},
   "source": [
    "Alumas colunas possuem valores numéricos mas vamos transformá-las já que não representam grandeza. São na verdade nomes"
   ]
  },
  {
   "cell_type": "code",
   "execution_count": 228,
   "metadata": {},
   "outputs": [],
   "source": [
    "l = ['OP_CARRIER_AIRLINE_ID', 'OP_CARRIER_FL_NUM', 'ORIGIN_AIRPORT_ID', 'ORIGIN_AIRPORT_SEQ_ID', 'DEST_AIRPORT_ID', 'DEST_AIRPORT_SEQ_ID']"
   ]
  },
  {
   "cell_type": "code",
   "execution_count": 229,
   "metadata": {},
   "outputs": [],
   "source": [
    "for n in range(len(l)):\n",
    "    df[l[n]] = df[l[n]].astype(str)"
   ]
  },
  {
   "cell_type": "code",
   "execution_count": 230,
   "metadata": {},
   "outputs": [
    {
     "name": "stdout",
     "output_type": "stream",
     "text": [
      "<class 'pandas.core.frame.DataFrame'>\n",
      "RangeIndex: 583985 entries, 0 to 583984\n",
      "Data columns (total 22 columns):\n",
      "DAY_OF_MONTH             583985 non-null int64\n",
      "DAY_OF_WEEK              583985 non-null int64\n",
      "OP_UNIQUE_CARRIER        583985 non-null object\n",
      "OP_CARRIER_AIRLINE_ID    583985 non-null object\n",
      "OP_CARRIER               583985 non-null object\n",
      "TAIL_NUM                 581442 non-null object\n",
      "OP_CARRIER_FL_NUM        583985 non-null object\n",
      "ORIGIN_AIRPORT_ID        583985 non-null object\n",
      "ORIGIN_AIRPORT_SEQ_ID    583985 non-null object\n",
      "ORIGIN                   583985 non-null object\n",
      "DEST_AIRPORT_ID          583985 non-null object\n",
      "DEST_AIRPORT_SEQ_ID      583985 non-null object\n",
      "DEST                     583985 non-null object\n",
      "DEP_TIME                 567633 non-null float64\n",
      "DEP_DEL15                567630 non-null float64\n",
      "DEP_TIME_BLK             583985 non-null object\n",
      "ARR_TIME                 566924 non-null float64\n",
      "ARR_DEL15                565963 non-null float64\n",
      "CANCELLED                583985 non-null float64\n",
      "DIVERTED                 583985 non-null float64\n",
      "DISTANCE                 583985 non-null float64\n",
      "Unnamed: 21              0 non-null float64\n",
      "dtypes: float64(8), int64(2), object(12)\n",
      "memory usage: 98.0+ MB\n"
     ]
    }
   ],
   "source": [
    "df.info()"
   ]
  },
  {
   "cell_type": "code",
   "execution_count": 231,
   "metadata": {},
   "outputs": [
    {
     "data": {
      "text/plain": [
       "19"
      ]
     },
     "execution_count": 231,
     "metadata": {},
     "output_type": "execute_result"
    }
   ],
   "source": [
    "df.DEP_TIME_BLK.nunique()"
   ]
  },
  {
   "cell_type": "code",
   "execution_count": 232,
   "metadata": {},
   "outputs": [
    {
     "data": {
      "text/plain": [
       "array(['0600-0659', '1400-1459', '1200-1259', '1500-1559', '1900-1959',\n",
       "       '0900-0959', '1000-1059', '2000-2059', '1300-1359', '1100-1159',\n",
       "       '0800-0859', '2200-2259', '1600-1659', '1700-1759', '2100-2159',\n",
       "       '0700-0759', '1800-1859', '0001-0559', '2300-2359'], dtype=object)"
      ]
     },
     "execution_count": 232,
     "metadata": {},
     "output_type": "execute_result"
    }
   ],
   "source": [
    "# O DEP_TIME_BLK tem 19 valore únicos e deveria ter 24\n",
    "# Entre meia noite e 6 da manhã há um bloco, o 0001-0559.\n",
    "df.DEP_TIME_BLK.unique()"
   ]
  },
  {
   "cell_type": "code",
   "execution_count": 233,
   "metadata": {},
   "outputs": [
    {
     "data": {
      "text/html": [
       "<div>\n",
       "<style scoped>\n",
       "    .dataframe tbody tr th:only-of-type {\n",
       "        vertical-align: middle;\n",
       "    }\n",
       "\n",
       "    .dataframe tbody tr th {\n",
       "        vertical-align: top;\n",
       "    }\n",
       "\n",
       "    .dataframe thead th {\n",
       "        text-align: right;\n",
       "    }\n",
       "</style>\n",
       "<table border=\"1\" class=\"dataframe\">\n",
       "  <thead>\n",
       "    <tr style=\"text-align: right;\">\n",
       "      <th></th>\n",
       "      <th>DEP_TIME</th>\n",
       "      <th>DEP_TIME_BLK</th>\n",
       "    </tr>\n",
       "  </thead>\n",
       "  <tbody>\n",
       "    <tr>\n",
       "      <th>260</th>\n",
       "      <td>107.0</td>\n",
       "      <td>0001-0559</td>\n",
       "    </tr>\n",
       "    <tr>\n",
       "      <th>399</th>\n",
       "      <td>306.0</td>\n",
       "      <td>0001-0559</td>\n",
       "    </tr>\n",
       "    <tr>\n",
       "      <th>468</th>\n",
       "      <td>3.0</td>\n",
       "      <td>2300-2359</td>\n",
       "    </tr>\n",
       "    <tr>\n",
       "      <th>927</th>\n",
       "      <td>1.0</td>\n",
       "      <td>2300-2359</td>\n",
       "    </tr>\n",
       "    <tr>\n",
       "      <th>1079</th>\n",
       "      <td>148.0</td>\n",
       "      <td>2300-2359</td>\n",
       "    </tr>\n",
       "    <tr>\n",
       "      <th>1112</th>\n",
       "      <td>204.0</td>\n",
       "      <td>2300-2359</td>\n",
       "    </tr>\n",
       "    <tr>\n",
       "      <th>1117</th>\n",
       "      <td>16.0</td>\n",
       "      <td>2300-2359</td>\n",
       "    </tr>\n",
       "    <tr>\n",
       "      <th>1125</th>\n",
       "      <td>7.0</td>\n",
       "      <td>2300-2359</td>\n",
       "    </tr>\n",
       "    <tr>\n",
       "      <th>1212</th>\n",
       "      <td>15.0</td>\n",
       "      <td>2300-2359</td>\n",
       "    </tr>\n",
       "    <tr>\n",
       "      <th>1280</th>\n",
       "      <td>17.0</td>\n",
       "      <td>2100-2159</td>\n",
       "    </tr>\n",
       "  </tbody>\n",
       "</table>\n",
       "</div>"
      ],
      "text/plain": [
       "      DEP_TIME DEP_TIME_BLK\n",
       "260      107.0    0001-0559\n",
       "399      306.0    0001-0559\n",
       "468        3.0    2300-2359\n",
       "927        1.0    2300-2359\n",
       "1079     148.0    2300-2359\n",
       "1112     204.0    2300-2359\n",
       "1117      16.0    2300-2359\n",
       "1125       7.0    2300-2359\n",
       "1212      15.0    2300-2359\n",
       "1280      17.0    2100-2159"
      ]
     },
     "execution_count": 233,
     "metadata": {},
     "output_type": "execute_result"
    }
   ],
   "source": [
    "df[(df.DEP_TIME < 500) & (df.DEP_TIME > 0)][['DEP_TIME', 'DEP_TIME_BLK']].head(10)\n",
    "\n",
    "#Os horários que saem entre meia noite e 6 de manhã estão classificados ou como 0001-0559 \n",
    "# ou 0600-0659 ou 2300-2359 na coluna DEP_TIME_BLK. É um pouco confuso"
   ]
  },
  {
   "cell_type": "code",
   "execution_count": 234,
   "metadata": {},
   "outputs": [
    {
     "data": {
      "text/plain": [
       "<matplotlib.axes._subplots.AxesSubplot at 0x1f78fe88278>"
      ]
     },
     "execution_count": 234,
     "metadata": {},
     "output_type": "execute_result"
    },
    {
     "data": {
      "image/png": "[encoded data removed]",
      "text/plain": [
       "<Figure size 432x288 with 1 Axes>"
      ]
     },
     "metadata": {
      "needs_background": "light"
     },
     "output_type": "display_data"
    }
   ],
   "source": [
    "df.DEP_TIME_BLK.value_counts().plot(kind='barh')"
   ]
  },
  {
   "cell_type": "markdown",
   "metadata": {},
   "source": [
    "Mesmo concentrando os voos de madrugada, o bloco 0001-0559 é o teceiro com menor número de voos\n",
    "Já no bloco 0600-0659 pode haver influência dos voos de madrugada"
   ]
  },
  {
   "cell_type": "code",
   "execution_count": 235,
   "metadata": {},
   "outputs": [],
   "source": [
    "'''ORIGIN_AIRPORT_ID, DEST_AIRPORT_ID, ORIGIN_AIRPORT_SEQ_ID e DEST_AIRPORT_SEQ_ID são colunas que trazem a mesma informação\n",
    "que as colunas ORIGIN e DEST. Iremos removê-las. \n",
    "O DEP_TIME_BLK e o DEP_TIME representam o horário de partida. O formato do DEP_TIME_BLK está mais favorável.\n",
    "Vamos remover o DEP_TIME.'''\n",
    "\n",
    "df.drop(columns=['ORIGIN_AIRPORT_ID', 'DEST_AIRPORT_ID', 'ORIGIN_AIRPORT_SEQ_ID',\n",
    "                 'DEST_AIRPORT_SEQ_ID', 'DEP_TIME'], inplace=True)"
   ]
  },
  {
   "cell_type": "markdown",
   "metadata": {},
   "source": [
    "A coluna ARR_TIME tem uma representação muito difícil de trabalhar. Para mostrar a hora dessa forma retira-se os dois pontos entre as horas e os minutos, por exemplo, 15:00 é representado por 1500, 24:00 fica 2400 e 00:01 por 1. Note que meia noite e um e meia noite tem uma diferença de 2399 e são praticamente o mesmo horário. É por isso que ela também será removida."
   ]
  },
  {
   "cell_type": "code",
   "execution_count": 236,
   "metadata": {},
   "outputs": [],
   "source": [
    "df.drop(columns=['ARR_TIME'], inplace=True)"
   ]
  },
  {
   "cell_type": "code",
   "execution_count": 237,
   "metadata": {},
   "outputs": [],
   "source": [
    "# A coluna Unnamed: 21 não tem nenhuma informação por isso podemos removê-la\n",
    "df.drop(columns=['Unnamed: 21'], inplace=True)"
   ]
  },
  {
   "cell_type": "code",
   "execution_count": 238,
   "metadata": {},
   "outputs": [
    {
     "data": {
      "text/html": [
       "<div>\n",
       "<style scoped>\n",
       "    .dataframe tbody tr th:only-of-type {\n",
       "        vertical-align: middle;\n",
       "    }\n",
       "\n",
       "    .dataframe tbody tr th {\n",
       "        vertical-align: top;\n",
       "    }\n",
       "\n",
       "    .dataframe thead th {\n",
       "        text-align: right;\n",
       "    }\n",
       "</style>\n",
       "<table border=\"1\" class=\"dataframe\">\n",
       "  <thead>\n",
       "    <tr style=\"text-align: right;\">\n",
       "      <th></th>\n",
       "      <th>DAY_OF_MONTH</th>\n",
       "      <th>DAY_OF_WEEK</th>\n",
       "      <th>DEP_DEL15</th>\n",
       "      <th>ARR_DEL15</th>\n",
       "      <th>CANCELLED</th>\n",
       "      <th>DIVERTED</th>\n",
       "      <th>DISTANCE</th>\n",
       "    </tr>\n",
       "  </thead>\n",
       "  <tbody>\n",
       "    <tr>\n",
       "      <th>DAY_OF_MONTH</th>\n",
       "      <td>1.000000</td>\n",
       "      <td>-0.031008</td>\n",
       "      <td>0.027989</td>\n",
       "      <td>0.038639</td>\n",
       "      <td>0.114638</td>\n",
       "      <td>0.001380</td>\n",
       "      <td>-0.020388</td>\n",
       "    </tr>\n",
       "    <tr>\n",
       "      <th>DAY_OF_WEEK</th>\n",
       "      <td>-0.031008</td>\n",
       "      <td>1.000000</td>\n",
       "      <td>-0.003223</td>\n",
       "      <td>-0.000655</td>\n",
       "      <td>-0.007829</td>\n",
       "      <td>0.000606</td>\n",
       "      <td>0.018932</td>\n",
       "    </tr>\n",
       "    <tr>\n",
       "      <th>DEP_DEL15</th>\n",
       "      <td>0.027989</td>\n",
       "      <td>-0.003223</td>\n",
       "      <td>1.000000</td>\n",
       "      <td>0.719430</td>\n",
       "      <td>0.021686</td>\n",
       "      <td>0.020641</td>\n",
       "      <td>0.011619</td>\n",
       "    </tr>\n",
       "    <tr>\n",
       "      <th>ARR_DEL15</th>\n",
       "      <td>0.038639</td>\n",
       "      <td>-0.000655</td>\n",
       "      <td>0.719430</td>\n",
       "      <td>1.000000</td>\n",
       "      <td>NaN</td>\n",
       "      <td>NaN</td>\n",
       "      <td>0.003407</td>\n",
       "    </tr>\n",
       "    <tr>\n",
       "      <th>CANCELLED</th>\n",
       "      <td>0.114638</td>\n",
       "      <td>-0.007829</td>\n",
       "      <td>0.021686</td>\n",
       "      <td>NaN</td>\n",
       "      <td>1.000000</td>\n",
       "      <td>-0.008098</td>\n",
       "      <td>-0.049347</td>\n",
       "    </tr>\n",
       "    <tr>\n",
       "      <th>DIVERTED</th>\n",
       "      <td>0.001380</td>\n",
       "      <td>0.000606</td>\n",
       "      <td>0.020641</td>\n",
       "      <td>NaN</td>\n",
       "      <td>-0.008098</td>\n",
       "      <td>1.000000</td>\n",
       "      <td>0.012513</td>\n",
       "    </tr>\n",
       "    <tr>\n",
       "      <th>DISTANCE</th>\n",
       "      <td>-0.020388</td>\n",
       "      <td>0.018932</td>\n",
       "      <td>0.011619</td>\n",
       "      <td>0.003407</td>\n",
       "      <td>-0.049347</td>\n",
       "      <td>0.012513</td>\n",
       "      <td>1.000000</td>\n",
       "    </tr>\n",
       "  </tbody>\n",
       "</table>\n",
       "</div>"
      ],
      "text/plain": [
       "              DAY_OF_MONTH  DAY_OF_WEEK  DEP_DEL15  ARR_DEL15  CANCELLED  \\\n",
       "DAY_OF_MONTH      1.000000    -0.031008   0.027989   0.038639   0.114638   \n",
       "DAY_OF_WEEK      -0.031008     1.000000  -0.003223  -0.000655  -0.007829   \n",
       "DEP_DEL15         0.027989    -0.003223   1.000000   0.719430   0.021686   \n",
       "ARR_DEL15         0.038639    -0.000655   0.719430   1.000000        NaN   \n",
       "CANCELLED         0.114638    -0.007829   0.021686        NaN   1.000000   \n",
       "DIVERTED          0.001380     0.000606   0.020641        NaN  -0.008098   \n",
       "DISTANCE         -0.020388     0.018932   0.011619   0.003407  -0.049347   \n",
       "\n",
       "              DIVERTED  DISTANCE  \n",
       "DAY_OF_MONTH  0.001380 -0.020388  \n",
       "DAY_OF_WEEK   0.000606  0.018932  \n",
       "DEP_DEL15     0.020641  0.011619  \n",
       "ARR_DEL15          NaN  0.003407  \n",
       "CANCELLED    -0.008098 -0.049347  \n",
       "DIVERTED      1.000000  0.012513  \n",
       "DISTANCE      0.012513  1.000000  "
      ]
     },
     "execution_count": 238,
     "metadata": {},
     "output_type": "execute_result"
    }
   ],
   "source": [
    "df.corr()"
   ]
  },
  {
   "cell_type": "code",
   "execution_count": 239,
   "metadata": {},
   "outputs": [
    {
     "data": {
      "image/png": "[encoded data removed]",
      "text/plain": [
       "<Figure size 720x432 with 2 Axes>"
      ]
     },
     "metadata": {
      "needs_background": "light"
     },
     "output_type": "display_data"
    }
   ],
   "source": [
    "plt.figure(figsize=(10, 6))\n",
    "vg_corr = df.corr().round(1)\n",
    "sns.heatmap(vg_corr, \n",
    "            xticklabels = vg_corr.columns.values,\n",
    "            yticklabels = vg_corr.columns.values,\n",
    "            annot = True);"
   ]
  },
  {
   "cell_type": "markdown",
   "metadata": {},
   "source": [
    "Não percebemos nenhuma correlação muito forte com o ARR_DEL15 exceto pelo DEP_DEL15 (0,7). Se o voo já saiu com atraso, aumenta a possibilidade de ele chegar com atraso."
   ]
  },
  {
   "cell_type": "code",
   "execution_count": 240,
   "metadata": {},
   "outputs": [
    {
     "data": {
      "text/plain": [
       "<matplotlib.axes._subplots.AxesSubplot at 0x1f786aaf5f8>"
      ]
     },
     "execution_count": 240,
     "metadata": {},
     "output_type": "execute_result"
    },
    {
     "data": {
      "image/png": "[encoded data removed]",
      "text/plain": [
       "<Figure size 432x288 with 1 Axes>"
      ]
     },
     "metadata": {
      "needs_background": "light"
     },
     "output_type": "display_data"
    }
   ],
   "source": [
    "sns.barplot(df['DEP_DEL15'], df['ARR_DEL15'])"
   ]
  },
  {
   "cell_type": "code",
   "execution_count": 241,
   "metadata": {},
   "outputs": [
    {
     "data": {
      "text/plain": [
       "<matplotlib.axes._subplots.AxesSubplot at 0x1f70da00d68>"
      ]
     },
     "execution_count": 241,
     "metadata": {},
     "output_type": "execute_result"
    },
    {
     "data": {
      "image/png": "[encoded data removed]",
      "text/plain": [
       "<Figure size 720x432 with 1 Axes>"
      ]
     },
     "metadata": {},
     "output_type": "display_data"
    }
   ],
   "source": [
    "# Nosso target é o ARR_DEL15. Vamos verificar a proporção de voos atrasados e não atrasados\n",
    "plt.figure(figsize=(10,6))\n",
    "df['ARR_DEL15'].value_counts().plot(kind='pie', autopct='%1.0f%%')"
   ]
  },
  {
   "cell_type": "markdown",
   "metadata": {},
   "source": [
    "É uma base desbalenceada! Mais para frente ajustaremos isso."
   ]
  },
  {
   "cell_type": "code",
   "execution_count": 242,
   "metadata": {},
   "outputs": [
    {
     "data": {
      "text/plain": [
       "DAY_OF_MONTH               31\n",
       "DAY_OF_WEEK                 7\n",
       "OP_UNIQUE_CARRIER          17\n",
       "OP_CARRIER_AIRLINE_ID      17\n",
       "OP_CARRIER                 17\n",
       "TAIL_NUM                 5446\n",
       "OP_CARRIER_FL_NUM        6839\n",
       "ORIGIN                    346\n",
       "DEST                      346\n",
       "DEP_DEL15                   2\n",
       "DEP_TIME_BLK               19\n",
       "ARR_DEL15                   2\n",
       "CANCELLED                   2\n",
       "DIVERTED                    2\n",
       "DISTANCE                 1451\n",
       "dtype: int64"
      ]
     },
     "execution_count": 242,
     "metadata": {},
     "output_type": "execute_result"
    }
   ],
   "source": [
    "df.nunique()\n",
    "# Quantidade de variáveis distintas em cada coluna"
   ]
  },
  {
   "cell_type": "code",
   "execution_count": 243,
   "metadata": {
    "scrolled": false
   },
   "outputs": [
    {
     "data": {
      "text/plain": [
       "<matplotlib.axes._subplots.AxesSubplot at 0x1f70da7e898>"
      ]
     },
     "execution_count": 243,
     "metadata": {},
     "output_type": "execute_result"
    },
    {
     "data": {
      "image/png": "[encoded data removed]",
      "text/plain": [
       "<Figure size 864x576 with 1 Axes>"
      ]
     },
     "metadata": {
      "needs_background": "light"
     },
     "output_type": "display_data"
    }
   ],
   "source": [
    "plt.figure(figsize=(12,8))\n",
    "df.groupby(['DEP_TIME_BLK']).mean()['DISTANCE'].plot(kind='barh')"
   ]
  },
  {
   "cell_type": "markdown",
   "metadata": {},
   "source": [
    "Entre 23h e 24h vemos que há voos mais longos"
   ]
  },
  {
   "cell_type": "code",
   "execution_count": 244,
   "metadata": {},
   "outputs": [
    {
     "data": {
      "text/plain": [
       "{'whiskers': [<matplotlib.lines.Line2D at 0x1f70dad8470>,\n",
       "  <matplotlib.lines.Line2D at 0x1f70dad87b8>],\n",
       " 'caps': [<matplotlib.lines.Line2D at 0x1f70dad8b00>,\n",
       "  <matplotlib.lines.Line2D at 0x1f70dad8e48>],\n",
       " 'boxes': [<matplotlib.lines.Line2D at 0x1f70dad8080>],\n",
       " 'medians': [<matplotlib.lines.Line2D at 0x1f70dad8f28>],\n",
       " 'fliers': [<matplotlib.lines.Line2D at 0x1f70dae3518>],\n",
       " 'means': []}"
      ]
     },
     "execution_count": 244,
     "metadata": {},
     "output_type": "execute_result"
    },
    {
     "data": {
      "image/png": "[encoded data removed]",
      "text/plain": [
       "<Figure size 432x288 with 1 Axes>"
      ]
     },
     "metadata": {
      "needs_background": "light"
     },
     "output_type": "display_data"
    }
   ],
   "source": [
    "plt.boxplot(df.DISTANCE)\n",
    "# Não podemos considerar outliers nesse caso já que há voos para o Havaí"
   ]
  },
  {
   "cell_type": "code",
   "execution_count": 245,
   "metadata": {},
   "outputs": [
    {
     "data": {
      "text/plain": [
       "<matplotlib.axes._subplots.AxesSubplot at 0x1f70daf7780>"
      ]
     },
     "execution_count": 245,
     "metadata": {},
     "output_type": "execute_result"
    },
    {
     "data": {
      "image/png": "[encoded data removed]",
      "text/plain": [
       "<Figure size 432x288 with 1 Axes>"
      ]
     },
     "metadata": {
      "needs_background": "light"
     },
     "output_type": "display_data"
    }
   ],
   "source": [
    "sns.scatterplot(y='DIVERTED', x='DISTANCE', data=df)"
   ]
  },
  {
   "cell_type": "markdown",
   "metadata": {},
   "source": [
    "Percebe-se um número menor de voos desviados quando a distância é maior que 3000 milhas, casos do Havaí e do Alasca. Faz sentido já que são áreas com menor número de aeroportos."
   ]
  },
  {
   "cell_type": "markdown",
   "metadata": {},
   "source": [
    "TAIL_NUM e OP_CARRIER_FL_NUM possuem muitos valores distintos. Um representa a número na cauda do avião e o outro o número do voo. Tentei encontrar alguma lógica por trás do número de voo mas cada companhia determina esse número. Fazer dummies ou aplicar label encoder vai trazer dificuladades e distorções para trabalharmos. Vamos então removê-las"
   ]
  },
  {
   "cell_type": "code",
   "execution_count": 246,
   "metadata": {},
   "outputs": [],
   "source": [
    "df.drop(columns=['TAIL_NUM', 'OP_CARRIER_FL_NUM'], inplace=True)"
   ]
  },
  {
   "cell_type": "code",
   "execution_count": 247,
   "metadata": {},
   "outputs": [
    {
     "data": {
      "text/plain": [
       "<matplotlib.axes._subplots.AxesSubplot at 0x1f70da7e828>"
      ]
     },
     "execution_count": 247,
     "metadata": {},
     "output_type": "execute_result"
    },
    {
     "data": {
      "image/png": "[encoded data removed]",
      "text/plain": [
       "<Figure size 720x432 with 1 Axes>"
      ]
     },
     "metadata": {
      "needs_background": "light"
     },
     "output_type": "display_data"
    }
   ],
   "source": [
    "plt.figure(figsize=(10,6))\n",
    "df.OP_UNIQUE_CARRIER.value_counts().plot(kind='bar')"
   ]
  },
  {
   "cell_type": "code",
   "execution_count": 248,
   "metadata": {},
   "outputs": [
    {
     "data": {
      "text/plain": [
       "<matplotlib.axes._subplots.AxesSubplot at 0x1f728701e10>"
      ]
     },
     "execution_count": 248,
     "metadata": {},
     "output_type": "execute_result"
    },
    {
     "data": {
      "image/png": "[encoded data removed]",
      "text/plain": [
       "<Figure size 720x432 with 1 Axes>"
      ]
     },
     "metadata": {
      "needs_background": "light"
     },
     "output_type": "display_data"
    }
   ],
   "source": [
    "plt.figure(figsize=(10,6))\n",
    "df.OP_CARRIER_AIRLINE_ID.value_counts().plot(kind='bar')"
   ]
  },
  {
   "cell_type": "code",
   "execution_count": 249,
   "metadata": {},
   "outputs": [
    {
     "data": {
      "text/plain": [
       "<matplotlib.axes._subplots.AxesSubplot at 0x1f728611908>"
      ]
     },
     "execution_count": 249,
     "metadata": {},
     "output_type": "execute_result"
    },
    {
     "data": {
      "image/png": "[encoded data removed]",
      "text/plain": [
       "<Figure size 720x432 with 1 Axes>"
      ]
     },
     "metadata": {
      "needs_background": "light"
     },
     "output_type": "display_data"
    }
   ],
   "source": [
    "plt.figure(figsize=(10,6))\n",
    "df.OP_CARRIER.value_counts().head(10).plot(kind='bar')"
   ]
  },
  {
   "cell_type": "code",
   "execution_count": 250,
   "metadata": {},
   "outputs": [
    {
     "data": {
      "text/plain": [
       "<matplotlib.axes._subplots.AxesSubplot at 0x1f72868e080>"
      ]
     },
     "execution_count": 250,
     "metadata": {},
     "output_type": "execute_result"
    },
    {
     "data": {
      "image/png": "[encoded data removed]",
      "text/plain": [
       "<Figure size 720x432 with 1 Axes>"
      ]
     },
     "metadata": {
      "needs_background": "light"
     },
     "output_type": "display_data"
    }
   ],
   "source": [
    "plt.figure(figsize=(10,6))\n",
    "df.ORIGIN.value_counts().head(10).plot(kind='barh')\n",
    "# top 10 origens"
   ]
  },
  {
   "cell_type": "markdown",
   "metadata": {},
   "source": [
    "Top 10:\n",
    "* Atlanta\n",
    "* Chicago\n",
    "* Dallas\n",
    "* Charlotte\n",
    "* Denver\n",
    "* Los Angeles\n",
    "* Phoenix\n",
    "* Houston\n",
    "* New York\n",
    "* San Francisco"
   ]
  },
  {
   "cell_type": "code",
   "execution_count": 251,
   "metadata": {},
   "outputs": [
    {
     "data": {
      "text/plain": [
       "<matplotlib.axes._subplots.AxesSubplot at 0x1f728889668>"
      ]
     },
     "execution_count": 251,
     "metadata": {},
     "output_type": "execute_result"
    },
    {
     "data": {
      "image/png": "[encoded data removed]",
      "text/plain": [
       "<Figure size 720x432 with 1 Axes>"
      ]
     },
     "metadata": {
      "needs_background": "light"
     },
     "output_type": "display_data"
    }
   ],
   "source": [
    "plt.figure(figsize=(10,6))\n",
    "df.DEST.value_counts().head(10).plot(kind='barh')\n",
    "# top 10 destinos"
   ]
  },
  {
   "cell_type": "code",
   "execution_count": 252,
   "metadata": {},
   "outputs": [
    {
     "data": {
      "text/plain": [
       "<matplotlib.axes._subplots.AxesSubplot at 0x1f72877a9e8>"
      ]
     },
     "execution_count": 252,
     "metadata": {},
     "output_type": "execute_result"
    },
    {
     "data": {
      "image/png": "[encoded data removed]",
      "text/plain": [
       "<Figure size 432x288 with 1 Axes>"
      ]
     },
     "metadata": {
      "needs_background": "light"
     },
     "output_type": "display_data"
    }
   ],
   "source": [
    "sns.barplot(df['DEP_DEL15'], df['ARR_DEL15'])"
   ]
  },
  {
   "cell_type": "markdown",
   "metadata": {},
   "source": [
    "# Tratando valores nulos"
   ]
  },
  {
   "cell_type": "code",
   "execution_count": 253,
   "metadata": {},
   "outputs": [
    {
     "data": {
      "text/plain": [
       "DAY_OF_MONTH                 0\n",
       "DAY_OF_WEEK                  0\n",
       "OP_UNIQUE_CARRIER            0\n",
       "OP_CARRIER_AIRLINE_ID        0\n",
       "OP_CARRIER                   0\n",
       "ORIGIN                       0\n",
       "DEST                         0\n",
       "DEP_DEL15                16355\n",
       "DEP_TIME_BLK                 0\n",
       "ARR_DEL15                18022\n",
       "CANCELLED                    0\n",
       "DIVERTED                     0\n",
       "DISTANCE                     0\n",
       "dtype: int64"
      ]
     },
     "execution_count": 253,
     "metadata": {},
     "output_type": "execute_result"
    }
   ],
   "source": [
    "df.isnull().sum()\n",
    "# Observamos algumas colunas com valores faltantes"
   ]
  },
  {
   "cell_type": "markdown",
   "metadata": {},
   "source": [
    "Não faz sentido substituir valores faltantes do nosso target, DEP_DEL15. Isso pode enviesar o modelo. Vamos eliminar essas linhas"
   ]
  },
  {
   "cell_type": "code",
   "execution_count": 254,
   "metadata": {},
   "outputs": [],
   "source": [
    "df = df.dropna(subset=['ARR_DEL15'])"
   ]
  },
  {
   "cell_type": "code",
   "execution_count": 255,
   "metadata": {},
   "outputs": [
    {
     "data": {
      "text/plain": [
       "DAY_OF_MONTH             0\n",
       "DAY_OF_WEEK              0\n",
       "OP_UNIQUE_CARRIER        0\n",
       "OP_CARRIER_AIRLINE_ID    0\n",
       "OP_CARRIER               0\n",
       "ORIGIN                   0\n",
       "DEST                     0\n",
       "DEP_DEL15                0\n",
       "DEP_TIME_BLK             0\n",
       "ARR_DEL15                0\n",
       "CANCELLED                0\n",
       "DIVERTED                 0\n",
       "DISTANCE                 0\n",
       "dtype: int64"
      ]
     },
     "execution_count": 255,
     "metadata": {},
     "output_type": "execute_result"
    }
   ],
   "source": [
    "df.isnull().sum()\n",
    "# Removendo os nulos do nosso target, já conseguimos eliminar todos os nulos da base"
   ]
  },
  {
   "cell_type": "code",
   "execution_count": 256,
   "metadata": {},
   "outputs": [
    {
     "data": {
      "text/plain": [
       "DAY_OF_MONTH               31\n",
       "DAY_OF_WEEK                 7\n",
       "OP_UNIQUE_CARRIER          17\n",
       "OP_CARRIER_AIRLINE_ID      17\n",
       "OP_CARRIER                 17\n",
       "ORIGIN                    346\n",
       "DEST                      346\n",
       "DEP_DEL15                   2\n",
       "DEP_TIME_BLK               19\n",
       "ARR_DEL15                   2\n",
       "CANCELLED                   1\n",
       "DIVERTED                    1\n",
       "DISTANCE                 1451\n",
       "dtype: int64"
      ]
     },
     "execution_count": 256,
     "metadata": {},
     "output_type": "execute_result"
    }
   ],
   "source": [
    "df.nunique()"
   ]
  },
  {
   "cell_type": "markdown",
   "metadata": {},
   "source": [
    "# Seleção de Variáveis"
   ]
  },
  {
   "cell_type": "markdown",
   "metadata": {},
   "source": [
    "Para fazermos a seleção das variáveis iremos usar Chi2, RFE e Random Forest. A paritir dessas análises, tomaremos somente as colunas que forem escolhidas em pelo menos dois desses algoritmos."
   ]
  },
  {
   "cell_type": "code",
   "execution_count": 257,
   "metadata": {},
   "outputs": [],
   "source": [
    "from sklearn.preprocessing import LabelEncoder\n",
    "# Usamos LabelEncoder para tornar as variáveis categóticas em numéricas para posteriormente aplicar técnicas de Machine Learning"
   ]
  },
  {
   "cell_type": "code",
   "execution_count": 258,
   "metadata": {},
   "outputs": [],
   "source": [
    "label = LabelEncoder()"
   ]
  },
  {
   "cell_type": "code",
   "execution_count": 259,
   "metadata": {},
   "outputs": [],
   "source": [
    "df.OP_UNIQUE_CARRIER = label.fit_transform(df.OP_UNIQUE_CARRIER)\n",
    " \n",
    "df.OP_CARRIER_AIRLINE_ID = label.fit_transform(df.OP_CARRIER_AIRLINE_ID)\n",
    "\n",
    "df.OP_CARRIER = label.fit_transform(df.OP_CARRIER)\n",
    "\n",
    "df.ORIGIN = label.fit_transform(df.ORIGIN)\n",
    "\n",
    "df.DEST = label.fit_transform(df.DEST)\n",
    "\n",
    "df.DEP_TIME_BLK = label.fit_transform(df.DEP_TIME_BLK)"
   ]
  },
  {
   "cell_type": "code",
   "execution_count": 260,
   "metadata": {},
   "outputs": [],
   "source": [
    "X = df.drop(columns=['ARR_DEL15'])\n",
    "y = df.ARR_DEL15"
   ]
  },
  {
   "cell_type": "markdown",
   "metadata": {},
   "source": [
    "## Chi2"
   ]
  },
  {
   "cell_type": "code",
   "execution_count": 261,
   "metadata": {},
   "outputs": [],
   "source": [
    "from sklearn.feature_selection import SelectKBest, chi2\n",
    "from sklearn.preprocessing import MinMaxScaler"
   ]
  },
  {
   "cell_type": "code",
   "execution_count": 262,
   "metadata": {},
   "outputs": [],
   "source": [
    "X_norm = MinMaxScaler().fit_transform(X)"
   ]
  },
  {
   "cell_type": "code",
   "execution_count": 263,
   "metadata": {},
   "outputs": [
    {
     "name": "stdout",
     "output_type": "stream",
     "text": [
      "10 variáveis selecionadas:\n",
      "['DAY_OF_MONTH', 'DAY_OF_WEEK', 'OP_UNIQUE_CARRIER', 'OP_CARRIER_AIRLINE_ID', 'OP_CARRIER', 'ORIGIN', 'DEST', 'DEP_DEL15', 'DEP_TIME_BLK', 'DISTANCE']\n"
     ]
    }
   ],
   "source": [
    "chi2_selector = SelectKBest(chi2, k=10)\n",
    "chi2_selector.fit(X_norm, y)\n",
    "\n",
    "chi2_support = chi2_selector.get_support()\n",
    "\n",
    "chi2_feature = X.loc[: ,chi2_support].columns.tolist()\n",
    "print(str(len(chi2_feature)), 'variáveis selecionadas:')\n",
    "print(str(chi2_feature))"
   ]
  },
  {
   "cell_type": "markdown",
   "metadata": {},
   "source": [
    "## RFE"
   ]
  },
  {
   "cell_type": "code",
   "execution_count": 264,
   "metadata": {},
   "outputs": [],
   "source": [
    "from sklearn.feature_selection import RFE\n",
    "from sklearn.linear_model import LogisticRegression"
   ]
  },
  {
   "cell_type": "code",
   "execution_count": 265,
   "metadata": {},
   "outputs": [
    {
     "name": "stdout",
     "output_type": "stream",
     "text": [
      "6 variáveis selecionadas:\n",
      "['DAY_OF_WEEK', 'OP_UNIQUE_CARRIER', 'OP_CARRIER_AIRLINE_ID', 'OP_CARRIER', 'DEP_DEL15', 'DEP_TIME_BLK']\n"
     ]
    }
   ],
   "source": [
    "rfe_selector = RFE(estimator=LogisticRegression(), step=2)\n",
    "rfe_selector.fit(X, y)\n",
    "\n",
    "rfe_support = rfe_selector.get_support()\n",
    "\n",
    "rfe_feature = X.loc[: ,rfe_support].columns.tolist()\n",
    "print(str(len(rfe_feature)), 'variáveis selecionadas:')\n",
    "print(str(rfe_feature))"
   ]
  },
  {
   "cell_type": "markdown",
   "metadata": {},
   "source": [
    "## Random Forest"
   ]
  },
  {
   "cell_type": "code",
   "execution_count": 266,
   "metadata": {},
   "outputs": [],
   "source": [
    "from sklearn.ensemble import RandomForestClassifier\n",
    "from sklearn.feature_selection import SelectFromModel"
   ]
  },
  {
   "cell_type": "code",
   "execution_count": 267,
   "metadata": {},
   "outputs": [
    {
     "name": "stdout",
     "output_type": "stream",
     "text": [
      "5 variáveis selecionadas:\n",
      "['ORIGIN', 'DEST', 'DEP_DEL15', 'DEP_TIME_BLK', 'DISTANCE']\n"
     ]
    }
   ],
   "source": [
    "rf_selector = SelectFromModel(RandomForestClassifier(n_estimators=10, criterion='entropy'))\n",
    "rf_selector.fit(X, y)\n",
    "\n",
    "rf_support = rf_selector.get_support()\n",
    "\n",
    "rf_feature = X.loc[: ,rf_support].columns.tolist()\n",
    "print(str(len(rf_feature)), 'variáveis selecionadas:')\n",
    "print(str(rf_feature))"
   ]
  },
  {
   "cell_type": "code",
   "execution_count": 268,
   "metadata": {},
   "outputs": [
    {
     "data": {
      "text/html": [
       "<div>\n",
       "<style scoped>\n",
       "    .dataframe tbody tr th:only-of-type {\n",
       "        vertical-align: middle;\n",
       "    }\n",
       "\n",
       "    .dataframe tbody tr th {\n",
       "        vertical-align: top;\n",
       "    }\n",
       "\n",
       "    .dataframe thead th {\n",
       "        text-align: right;\n",
       "    }\n",
       "</style>\n",
       "<table border=\"1\" class=\"dataframe\">\n",
       "  <thead>\n",
       "    <tr style=\"text-align: right;\">\n",
       "      <th></th>\n",
       "      <th>Variáveis</th>\n",
       "      <th>chi2</th>\n",
       "      <th>RFE</th>\n",
       "      <th>Random Forest</th>\n",
       "      <th>Total</th>\n",
       "    </tr>\n",
       "  </thead>\n",
       "  <tbody>\n",
       "    <tr>\n",
       "      <th>8</th>\n",
       "      <td>DEP_TIME_BLK</td>\n",
       "      <td>True</td>\n",
       "      <td>True</td>\n",
       "      <td>True</td>\n",
       "      <td>3</td>\n",
       "    </tr>\n",
       "    <tr>\n",
       "      <th>7</th>\n",
       "      <td>DEP_DEL15</td>\n",
       "      <td>True</td>\n",
       "      <td>True</td>\n",
       "      <td>True</td>\n",
       "      <td>3</td>\n",
       "    </tr>\n",
       "    <tr>\n",
       "      <th>5</th>\n",
       "      <td>ORIGIN</td>\n",
       "      <td>True</td>\n",
       "      <td>False</td>\n",
       "      <td>True</td>\n",
       "      <td>2</td>\n",
       "    </tr>\n",
       "    <tr>\n",
       "      <th>2</th>\n",
       "      <td>OP_UNIQUE_CARRIER</td>\n",
       "      <td>True</td>\n",
       "      <td>True</td>\n",
       "      <td>False</td>\n",
       "      <td>2</td>\n",
       "    </tr>\n",
       "    <tr>\n",
       "      <th>3</th>\n",
       "      <td>OP_CARRIER_AIRLINE_ID</td>\n",
       "      <td>True</td>\n",
       "      <td>True</td>\n",
       "      <td>False</td>\n",
       "      <td>2</td>\n",
       "    </tr>\n",
       "    <tr>\n",
       "      <th>4</th>\n",
       "      <td>OP_CARRIER</td>\n",
       "      <td>True</td>\n",
       "      <td>True</td>\n",
       "      <td>False</td>\n",
       "      <td>2</td>\n",
       "    </tr>\n",
       "    <tr>\n",
       "      <th>11</th>\n",
       "      <td>DISTANCE</td>\n",
       "      <td>True</td>\n",
       "      <td>False</td>\n",
       "      <td>True</td>\n",
       "      <td>2</td>\n",
       "    </tr>\n",
       "    <tr>\n",
       "      <th>6</th>\n",
       "      <td>DEST</td>\n",
       "      <td>True</td>\n",
       "      <td>False</td>\n",
       "      <td>True</td>\n",
       "      <td>2</td>\n",
       "    </tr>\n",
       "    <tr>\n",
       "      <th>1</th>\n",
       "      <td>DAY_OF_WEEK</td>\n",
       "      <td>True</td>\n",
       "      <td>True</td>\n",
       "      <td>False</td>\n",
       "      <td>2</td>\n",
       "    </tr>\n",
       "    <tr>\n",
       "      <th>0</th>\n",
       "      <td>DAY_OF_MONTH</td>\n",
       "      <td>True</td>\n",
       "      <td>False</td>\n",
       "      <td>False</td>\n",
       "      <td>1</td>\n",
       "    </tr>\n",
       "    <tr>\n",
       "      <th>10</th>\n",
       "      <td>DIVERTED</td>\n",
       "      <td>False</td>\n",
       "      <td>False</td>\n",
       "      <td>False</td>\n",
       "      <td>0</td>\n",
       "    </tr>\n",
       "    <tr>\n",
       "      <th>9</th>\n",
       "      <td>CANCELLED</td>\n",
       "      <td>False</td>\n",
       "      <td>False</td>\n",
       "      <td>False</td>\n",
       "      <td>0</td>\n",
       "    </tr>\n",
       "  </tbody>\n",
       "</table>\n",
       "</div>"
      ],
      "text/plain": [
       "                Variáveis   chi2    RFE  Random Forest  Total\n",
       "8            DEP_TIME_BLK   True   True           True      3\n",
       "7               DEP_DEL15   True   True           True      3\n",
       "5                  ORIGIN   True  False           True      2\n",
       "2       OP_UNIQUE_CARRIER   True   True          False      2\n",
       "3   OP_CARRIER_AIRLINE_ID   True   True          False      2\n",
       "4              OP_CARRIER   True   True          False      2\n",
       "11               DISTANCE   True  False           True      2\n",
       "6                    DEST   True  False           True      2\n",
       "1             DAY_OF_WEEK   True   True          False      2\n",
       "0            DAY_OF_MONTH   True  False          False      1\n",
       "10               DIVERTED  False  False          False      0\n",
       "9               CANCELLED  False  False          False      0"
      ]
     },
     "execution_count": 268,
     "metadata": {},
     "output_type": "execute_result"
    }
   ],
   "source": [
    "feature_selection_df = pd.DataFrame({'Variáveis': X.columns,\n",
    "                                 'chi2': chi2_support,\n",
    "                                 'RFE': rfe_support,\n",
    "                                 'Random Forest': rf_support})\n",
    "\n",
    "feature_selection_df['Total'] = np.sum(feature_selection_df, axis=1)\n",
    "feature_selection_df = feature_selection_df.sort_values(['Total', 'Variáveis'], ascending=False)\n",
    "feature_selection_df.head(15)"
   ]
  },
  {
   "cell_type": "code",
   "execution_count": 269,
   "metadata": {},
   "outputs": [
    {
     "data": {
      "text/plain": [
       "9"
      ]
     },
     "execution_count": 269,
     "metadata": {},
     "output_type": "execute_result"
    }
   ],
   "source": [
    "# Tomaremos as colunas que aparecem 2 ou 3 vezes de acordo com os algoritmos acima\n",
    "my_features = feature_selection_df[(feature_selection_df.Total == 3) | (feature_selection_df.Total == 2)]['Variáveis'].to_list()\n",
    "len(my_features)"
   ]
  },
  {
   "cell_type": "code",
   "execution_count": 270,
   "metadata": {},
   "outputs": [
    {
     "name": "stdout",
     "output_type": "stream",
     "text": [
      "['DEP_TIME_BLK', 'DEP_DEL15', 'ORIGIN', 'OP_UNIQUE_CARRIER', 'OP_CARRIER_AIRLINE_ID', 'OP_CARRIER', 'DISTANCE', 'DEST', 'DAY_OF_WEEK']\n"
     ]
    }
   ],
   "source": [
    "print(my_features)"
   ]
  },
  {
   "cell_type": "code",
   "execution_count": 271,
   "metadata": {},
   "outputs": [],
   "source": [
    "expl = df[my_features]"
   ]
  },
  {
   "cell_type": "code",
   "execution_count": 272,
   "metadata": {},
   "outputs": [],
   "source": [
    "# Dividimos aleatoriamente as bases em treino e teste. Com a base de treino fazemos modelos e com as base de teste verificamos qual teve o melhor desempenho de acordo com a métrica demandada.\n",
    "from sklearn.model_selection import train_test_split"
   ]
  },
  {
   "cell_type": "code",
   "execution_count": 273,
   "metadata": {},
   "outputs": [],
   "source": [
    "X_train, X_test, y_train, y_test = train_test_split(expl, y, random_state=42)"
   ]
  },
  {
   "cell_type": "code",
   "execution_count": 274,
   "metadata": {},
   "outputs": [
    {
     "data": {
      "text/plain": [
       "((424472, 9), (141491, 9), (424472,), (141491,))"
      ]
     },
     "execution_count": 274,
     "metadata": {},
     "output_type": "execute_result"
    }
   ],
   "source": [
    "X_train.shape, X_test.shape, y_train.shape, y_test.shape"
   ]
  },
  {
   "cell_type": "markdown",
   "metadata": {},
   "source": [
    "# Análises"
   ]
  },
  {
   "cell_type": "markdown",
   "metadata": {},
   "source": [
    "Iremos usar 5 algoritmos diferentes:\n",
    "* Regressão Logística\n",
    "* Árvore de Decisão\n",
    "* Random Forest\n",
    "* Naive Bayes\n",
    "* GBT Classifier\n",
    "\n",
    "Tomaremos os dois melhores resultados usando a métrica Recall e então usaremos o GridSearch para ajustar os hiperparâmetros"
   ]
  },
  {
   "cell_type": "code",
   "execution_count": 275,
   "metadata": {},
   "outputs": [],
   "source": [
    "from sklearn.metrics import confusion_matrix, classification_report, accuracy_score, recall_score"
   ]
  },
  {
   "cell_type": "markdown",
   "metadata": {},
   "source": [
    "## Regressão Logística"
   ]
  },
  {
   "cell_type": "code",
   "execution_count": 276,
   "metadata": {},
   "outputs": [],
   "source": [
    "rl = LogisticRegression()"
   ]
  },
  {
   "cell_type": "code",
   "execution_count": 277,
   "metadata": {},
   "outputs": [],
   "source": [
    "modelo_rl = rl.fit(X_train, y_train)"
   ]
  },
  {
   "cell_type": "code",
   "execution_count": 278,
   "metadata": {},
   "outputs": [],
   "source": [
    "y_pred_rl_test = modelo_rl.predict(X_test)\n",
    "y_pred_rl_train = modelo_rl.predict(X_train)"
   ]
  },
  {
   "cell_type": "code",
   "execution_count": 279,
   "metadata": {},
   "outputs": [
    {
     "name": "stdout",
     "output_type": "stream",
     "text": [
      "              precision    recall  f1-score   support\n",
      "\n",
      "         0.0       0.94      0.96      0.95    115126\n",
      "         1.0       0.80      0.74      0.77     26365\n",
      "\n",
      "    accuracy                           0.92    141491\n",
      "   macro avg       0.87      0.85      0.86    141491\n",
      "weighted avg       0.91      0.92      0.91    141491\n",
      "\n",
      "[[110109   5017]\n",
      " [  6896  19469]]\n"
     ]
    }
   ],
   "source": [
    "print(classification_report(y_test, y_pred_rl_test))\n",
    "print(confusion_matrix(y_test, y_pred_rl_test))"
   ]
  },
  {
   "cell_type": "code",
   "execution_count": 280,
   "metadata": {},
   "outputs": [
    {
     "name": "stdout",
     "output_type": "stream",
     "text": [
      "0.92\n",
      "0.92\n"
     ]
    }
   ],
   "source": [
    "print(round(accuracy_score(y_test, y_pred_rl_test), 2))\n",
    "print(round(accuracy_score(y_train, y_pred_rl_train), 2))"
   ]
  },
  {
   "cell_type": "markdown",
   "metadata": {},
   "source": [
    "### Over e undersampling"
   ]
  },
  {
   "cell_type": "markdown",
   "metadata": {},
   "source": [
    "Vamos fazer over e undersampling no nosso target para verificar se as métricas ficam melhores. "
   ]
  },
  {
   "cell_type": "code",
   "execution_count": 281,
   "metadata": {},
   "outputs": [
    {
     "data": {
      "text/plain": [
       "(654154, 10)"
      ]
     },
     "execution_count": 281,
     "metadata": {},
     "output_type": "execute_result"
    }
   ],
   "source": [
    "from imblearn.combine import SMOTEENN\n",
    "\n",
    "smte = SMOTEENN(random_state=42)\n",
    "\n",
    "X2, y2 = smte.fit_resample(expl, y)\n",
    "\n",
    "df2 = pd.concat([X2, y2], axis=1)\n",
    "\n",
    "df2.shape"
   ]
  },
  {
   "cell_type": "code",
   "execution_count": 282,
   "metadata": {},
   "outputs": [
    {
     "data": {
      "text/plain": [
       "<matplotlib.axes._subplots.AxesSubplot at 0x1f7280faf60>"
      ]
     },
     "execution_count": 282,
     "metadata": {},
     "output_type": "execute_result"
    },
    {
     "data": {
      "image/png": "[encoded data removed]",
      "text/plain": [
       "<Figure size 432x288 with 1 Axes>"
      ]
     },
     "metadata": {},
     "output_type": "display_data"
    }
   ],
   "source": [
    "y2.value_counts().plot(kind='pie', autopct='%1.0f%%')"
   ]
  },
  {
   "cell_type": "code",
   "execution_count": 283,
   "metadata": {},
   "outputs": [],
   "source": [
    "X_train2, X_test2, y_train2, y_test2 = train_test_split(X2, y2, random_state=42)"
   ]
  },
  {
   "cell_type": "code",
   "execution_count": 146,
   "metadata": {},
   "outputs": [
    {
     "data": {
      "text/plain": [
       "((438633, 10), (146212, 10), (438633,), (146212,))"
      ]
     },
     "execution_count": 146,
     "metadata": {},
     "output_type": "execute_result"
    }
   ],
   "source": [
    "X_train2.shape, X_test2.shape, y_train2.shape, y_test2.shape"
   ]
  },
  {
   "cell_type": "markdown",
   "metadata": {},
   "source": [
    "### RL Balanceada"
   ]
  },
  {
   "cell_type": "code",
   "execution_count": 147,
   "metadata": {},
   "outputs": [],
   "source": [
    "modelo_rl2 = rl.fit(X_train2, y_train2)"
   ]
  },
  {
   "cell_type": "code",
   "execution_count": 148,
   "metadata": {},
   "outputs": [],
   "source": [
    "y_pred_rl2_test = modelo_rl2.predict(X_test)"
   ]
  },
  {
   "cell_type": "code",
   "execution_count": 149,
   "metadata": {},
   "outputs": [
    {
     "name": "stdout",
     "output_type": "stream",
     "text": [
      "              precision    recall  f1-score   support\n",
      "\n",
      "         0.0       0.94      0.88      0.91    115126\n",
      "         1.0       0.59      0.76      0.67     26365\n",
      "\n",
      "    accuracy                           0.86    141491\n",
      "   macro avg       0.77      0.82      0.79    141491\n",
      "weighted avg       0.88      0.86      0.86    141491\n",
      "\n",
      "[[101223  13903]\n",
      " [  6207  20158]]\n"
     ]
    }
   ],
   "source": [
    "print(classification_report(y_test, y_pred_rl2_test))\n",
    "print(confusion_matrix(y_test, y_pred_rl2_test))"
   ]
  },
  {
   "cell_type": "markdown",
   "metadata": {},
   "source": [
    "Para a regressão logística o weighted Recall ficou igual com o balanceamento da base, porém, mais uniforme para acertar zeros e uns."
   ]
  },
  {
   "cell_type": "markdown",
   "metadata": {},
   "source": [
    "## Decision Tree"
   ]
  },
  {
   "cell_type": "code",
   "execution_count": 150,
   "metadata": {},
   "outputs": [],
   "source": [
    "from sklearn.tree import DecisionTreeClassifier"
   ]
  },
  {
   "cell_type": "code",
   "execution_count": 151,
   "metadata": {},
   "outputs": [],
   "source": [
    "dt = DecisionTreeClassifier()"
   ]
  },
  {
   "cell_type": "code",
   "execution_count": 152,
   "metadata": {},
   "outputs": [],
   "source": [
    "modelo_dt = dt.fit(X_train, y_train)"
   ]
  },
  {
   "cell_type": "code",
   "execution_count": 153,
   "metadata": {},
   "outputs": [],
   "source": [
    "y_pred_dt_test = modelo_dt.predict(X_test)"
   ]
  },
  {
   "cell_type": "code",
   "execution_count": 154,
   "metadata": {},
   "outputs": [
    {
     "name": "stdout",
     "output_type": "stream",
     "text": [
      "              precision    recall  f1-score   support\n",
      "\n",
      "         0.0       0.92      0.91      0.92    115126\n",
      "         1.0       0.63      0.65      0.64     26365\n",
      "\n",
      "    accuracy                           0.87    141491\n",
      "   macro avg       0.78      0.78      0.78    141491\n",
      "weighted avg       0.87      0.87      0.87    141491\n",
      "\n",
      "[[105202   9924]\n",
      " [  9149  17216]]\n"
     ]
    }
   ],
   "source": [
    "print(classification_report(y_test, y_pred_dt_test))\n",
    "print(confusion_matrix(y_test, y_pred_dt_test))"
   ]
  },
  {
   "cell_type": "markdown",
   "metadata": {},
   "source": [
    "### DT Balanceado"
   ]
  },
  {
   "cell_type": "code",
   "execution_count": 155,
   "metadata": {},
   "outputs": [],
   "source": [
    "modelo_dt2 = dt.fit(X_train2, y_train2)"
   ]
  },
  {
   "cell_type": "code",
   "execution_count": 156,
   "metadata": {},
   "outputs": [],
   "source": [
    "y_pred_dt2_test = modelo_dt2.predict(X_test)"
   ]
  },
  {
   "cell_type": "code",
   "execution_count": 157,
   "metadata": {},
   "outputs": [
    {
     "name": "stdout",
     "output_type": "stream",
     "text": [
      "              precision    recall  f1-score   support\n",
      "\n",
      "         0.0       0.96      0.90      0.93    115126\n",
      "         1.0       0.66      0.85      0.74     26365\n",
      "\n",
      "    accuracy                           0.89    141491\n",
      "   macro avg       0.81      0.88      0.84    141491\n",
      "weighted avg       0.91      0.89      0.90    141491\n",
      "\n",
      "[[103704  11422]\n",
      " [  3947  22418]]\n"
     ]
    }
   ],
   "source": [
    "print(classification_report(y_test, y_pred_dt2_test))\n",
    "print(confusion_matrix(y_test, y_pred_dt2_test))"
   ]
  },
  {
   "cell_type": "markdown",
   "metadata": {},
   "source": [
    "Aqui já percebemos uma melhora no Recall usando a base balanceada"
   ]
  },
  {
   "cell_type": "markdown",
   "metadata": {},
   "source": [
    "# Random Forest"
   ]
  },
  {
   "cell_type": "code",
   "execution_count": 158,
   "metadata": {},
   "outputs": [],
   "source": [
    "rf = RandomForestClassifier()"
   ]
  },
  {
   "cell_type": "code",
   "execution_count": 159,
   "metadata": {},
   "outputs": [],
   "source": [
    "modelo_rf = rf.fit(X_train, y_train)"
   ]
  },
  {
   "cell_type": "code",
   "execution_count": 160,
   "metadata": {},
   "outputs": [],
   "source": [
    "y_pred_rf_test = modelo_rf.predict(X_test)"
   ]
  },
  {
   "cell_type": "code",
   "execution_count": 161,
   "metadata": {},
   "outputs": [
    {
     "name": "stdout",
     "output_type": "stream",
     "text": [
      "              precision    recall  f1-score   support\n",
      "\n",
      "         0.0       0.94      0.96      0.95    115126\n",
      "         1.0       0.80      0.72      0.76     26365\n",
      "\n",
      "    accuracy                           0.91    141491\n",
      "   macro avg       0.87      0.84      0.85    141491\n",
      "weighted avg       0.91      0.91      0.91    141491\n",
      "\n",
      "[[110410   4716]\n",
      " [  7363  19002]]\n"
     ]
    }
   ],
   "source": [
    "print(classification_report(y_test, y_pred_rf_test))\n",
    "print(confusion_matrix(y_test, y_pred_rf_test))"
   ]
  },
  {
   "cell_type": "markdown",
   "metadata": {},
   "source": [
    "### RF Balanceada"
   ]
  },
  {
   "cell_type": "code",
   "execution_count": 162,
   "metadata": {},
   "outputs": [
    {
     "name": "stdout",
     "output_type": "stream",
     "text": [
      "              precision    recall  f1-score   support\n",
      "\n",
      "         0.0       0.97      0.95      0.96    115126\n",
      "         1.0       0.79      0.86      0.83     26365\n",
      "\n",
      "    accuracy                           0.93    141491\n",
      "   macro avg       0.88      0.91      0.89    141491\n",
      "weighted avg       0.94      0.93      0.93    141491\n",
      "\n",
      "[[109254   5872]\n",
      " [  3622  22743]]\n"
     ]
    }
   ],
   "source": [
    "modelo_rf2 = rf.fit(X_train2, y_train2)\n",
    "\n",
    "y_pred_rf2_test = modelo_rf2.predict(X_test)\n",
    "\n",
    "print(classification_report(y_test, y_pred_rf2_test))\n",
    "print(confusion_matrix(y_test, y_pred_rf2_test))"
   ]
  },
  {
   "cell_type": "markdown",
   "metadata": {},
   "source": [
    "# Naive Bayes"
   ]
  },
  {
   "cell_type": "code",
   "execution_count": 163,
   "metadata": {},
   "outputs": [],
   "source": [
    "from sklearn.naive_bayes import GaussianNB"
   ]
  },
  {
   "cell_type": "code",
   "execution_count": 164,
   "metadata": {},
   "outputs": [
    {
     "name": "stdout",
     "output_type": "stream",
     "text": [
      "              precision    recall  f1-score   support\n",
      "\n",
      "         0.0       0.94      0.96      0.95    115126\n",
      "         1.0       0.80      0.74      0.77     26365\n",
      "\n",
      "    accuracy                           0.92    141491\n",
      "   macro avg       0.87      0.85      0.86    141491\n",
      "weighted avg       0.91      0.92      0.91    141491\n",
      "\n",
      "[[110101   5025]\n",
      " [  6869  19496]]\n"
     ]
    }
   ],
   "source": [
    "nb = GaussianNB()\n",
    "\n",
    "modelo_nb = nb.fit(X_train, y_train)\n",
    "\n",
    "y_pred_nb_test = modelo_nb.predict(X_test)\n",
    "\n",
    "print(classification_report(y_test, y_pred_nb_test))\n",
    "print(confusion_matrix(y_test, y_pred_nb_test))"
   ]
  },
  {
   "cell_type": "markdown",
   "metadata": {},
   "source": [
    "### NB Balanceada"
   ]
  },
  {
   "cell_type": "code",
   "execution_count": 165,
   "metadata": {},
   "outputs": [
    {
     "name": "stdout",
     "output_type": "stream",
     "text": [
      "              precision    recall  f1-score   support\n",
      "\n",
      "         0.0       0.94      0.96      0.95    115126\n",
      "         1.0       0.80      0.74      0.77     26365\n",
      "\n",
      "    accuracy                           0.92    141491\n",
      "   macro avg       0.87      0.85      0.86    141491\n",
      "weighted avg       0.91      0.92      0.91    141491\n",
      "\n",
      "[[110101   5025]\n",
      " [  6869  19496]]\n"
     ]
    }
   ],
   "source": [
    "modelo_nb2 = nb.fit(X_train2, y_train2)\n",
    "\n",
    "y_pred_nb2_test = modelo_nb2.predict(X_test)\n",
    "\n",
    "print(classification_report(y_test, y_pred_nb2_test))\n",
    "print(confusion_matrix(y_test, y_pred_nb2_test))"
   ]
  },
  {
   "cell_type": "markdown",
   "metadata": {},
   "source": [
    "# GBT Classifier"
   ]
  },
  {
   "cell_type": "code",
   "execution_count": 166,
   "metadata": {},
   "outputs": [],
   "source": [
    "from sklearn.ensemble import GradientBoostingClassifier"
   ]
  },
  {
   "cell_type": "code",
   "execution_count": 167,
   "metadata": {},
   "outputs": [
    {
     "name": "stdout",
     "output_type": "stream",
     "text": [
      "              precision    recall  f1-score   support\n",
      "\n",
      "         0.0       0.94      0.96      0.95    115126\n",
      "         1.0       0.80      0.74      0.77     26365\n",
      "\n",
      "    accuracy                           0.92    141491\n",
      "   macro avg       0.87      0.85      0.86    141491\n",
      "weighted avg       0.91      0.92      0.91    141491\n",
      "\n",
      "[[110108   5018]\n",
      " [  6872  19493]]\n"
     ]
    }
   ],
   "source": [
    "gbt = GradientBoostingClassifier()\n",
    "\n",
    "modelo_gbt = gbt.fit(X_train, y_train)\n",
    "\n",
    "y_pred_gbt_test = modelo_gbt.predict(X_test)\n",
    "\n",
    "print(classification_report(y_test, y_pred_gbt_test))\n",
    "print(confusion_matrix(y_test, y_pred_gbt_test))"
   ]
  },
  {
   "cell_type": "markdown",
   "metadata": {},
   "source": [
    "### GBT Balanceada"
   ]
  },
  {
   "cell_type": "code",
   "execution_count": 168,
   "metadata": {},
   "outputs": [
    {
     "name": "stdout",
     "output_type": "stream",
     "text": [
      "              precision    recall  f1-score   support\n",
      "\n",
      "         0.0       0.94      0.96      0.95    115126\n",
      "         1.0       0.79      0.74      0.77     26365\n",
      "\n",
      "    accuracy                           0.92    141491\n",
      "   macro avg       0.87      0.85      0.86    141491\n",
      "weighted avg       0.91      0.92      0.91    141491\n",
      "\n",
      "[[110095   5031]\n",
      " [  6866  19499]]\n"
     ]
    }
   ],
   "source": [
    "modelo_gbt2 = gbt.fit(X_train2, y_train2)\n",
    "\n",
    "y_pred_gbt2_test = modelo_gbt2.predict(X_test)\n",
    "\n",
    "print(classification_report(y_test, y_pred_gbt2_test))\n",
    "print(confusion_matrix(y_test, y_pred_gbt2_test))"
   ]
  },
  {
   "cell_type": "code",
   "execution_count": 169,
   "metadata": {},
   "outputs": [
    {
     "name": "stdout",
     "output_type": "stream",
     "text": [
      "  Algoritmos    Recall  Recall Balanceado\n",
      "0         RL  0.856076           0.857871\n",
      "1         DT  0.865200           0.891378\n",
      "2         RF  0.914631           0.932900\n",
      "3         NB  0.915938           0.915938\n",
      "4        GBT  0.915966           0.915917\n"
     ]
    }
   ],
   "source": [
    "recall = {'Algoritmos': ['RL','DT','RF','NB', 'GBT'],\n",
    "          'Recall': [recall_score(y_test, y_pred_rl_test, average='weighted'),\n",
    "                     recall_score(y_test, y_pred_dt_test, average='weighted'),\n",
    "                     recall_score(y_test, y_pred_rf_test, average='weighted'),\n",
    "                     recall_score(y_test, y_pred_nb_test, average='weighted'),\n",
    "                     recall_score(y_test, y_pred_gbt_test, average='weighted')],\n",
    "         'Recall Balanceado': [recall_score(y_test, y_pred_rl2_test, average='weighted'),\n",
    "                              recall_score(y_test, y_pred_dt2_test, average='weighted'),\n",
    "                              recall_score(y_test, y_pred_rf2_test, average='weighted'),\n",
    "                              recall_score(y_test, y_pred_nb2_test, average='weighted'),\n",
    "                              recall_score(y_test, y_pred_gbt2_test, average='weighted')]}\n",
    "\n",
    "df_rec = pd.DataFrame(recall, columns = ['Algoritmos', 'Recall', 'Recall Balanceado'])\n",
    "\n",
    "print (df_rec)"
   ]
  },
  {
   "cell_type": "markdown",
   "metadata": {},
   "source": [
    "Após testar os 5 algoritmos percebemos que o melhor Recall foi o do Random Forest com a base balanceada."
   ]
  },
  {
   "cell_type": "markdown",
   "metadata": {},
   "source": [
    "## GridSearch"
   ]
  },
  {
   "cell_type": "code",
   "execution_count": 78,
   "metadata": {},
   "outputs": [],
   "source": [
    "# Com o GridSearchCV podemos testar qual a melhor combinação de Hyperparâmetros para os respectivos algoritmos\n",
    "from sklearn.model_selection import GridSearchCV"
   ]
  },
  {
   "cell_type": "markdown",
   "metadata": {},
   "source": [
    "### GridSearch rf"
   ]
  },
  {
   "cell_type": "code",
   "execution_count": 79,
   "metadata": {},
   "outputs": [
    {
     "data": {
      "text/plain": [
       "GridSearchCV(cv=4, error_score=nan,\n",
       "             estimator=RandomForestClassifier(bootstrap=True, ccp_alpha=0.0,\n",
       "                                              class_weight=None,\n",
       "                                              criterion='gini', max_depth=None,\n",
       "                                              max_features='auto',\n",
       "                                              max_leaf_nodes=None,\n",
       "                                              max_samples=None,\n",
       "                                              min_impurity_decrease=0.0,\n",
       "                                              min_impurity_split=None,\n",
       "                                              min_samples_leaf=1,\n",
       "                                              min_samples_split=2,\n",
       "                                              min_weight_fraction_leaf=0.0,\n",
       "                                              n_estimators=100, n_jobs=None,\n",
       "                                              oob_score=False,\n",
       "                                              random_state=None, verbose=0,\n",
       "                                              warm_start=False),\n",
       "             iid='deprecated', n_jobs=None,\n",
       "             param_grid={'bootstrap': [True, False],\n",
       "                         'criterion': ['gini', 'entropy'],\n",
       "                         'n_estimators': [10, 50, 100, 200]},\n",
       "             pre_dispatch='2*n_jobs', refit=True, return_train_score=False,\n",
       "             scoring='recall', verbose=0)"
      ]
     },
     "execution_count": 79,
     "metadata": {},
     "output_type": "execute_result"
    }
   ],
   "source": [
    "param_grid_rf = {'n_estimators': [10, 50, 100, 200],\n",
    "                 'criterion': ['gini', 'entropy'],\n",
    "                 'bootstrap': [True, False]}\n",
    "\n",
    "grid_rf = GridSearchCV(estimator=modelo_rf2, param_grid=param_grid_rf, scoring='recall', cv=4)\n",
    "\n",
    "grid_rf.fit(X_train2, y_train2)"
   ]
  },
  {
   "cell_type": "code",
   "execution_count": 80,
   "metadata": {},
   "outputs": [
    {
     "name": "stdout",
     "output_type": "stream",
     "text": [
      "              precision    recall  f1-score   support\n",
      "\n",
      "         0.0       0.98      0.97      0.98    115126\n",
      "         1.0       0.87      0.93      0.90     26365\n",
      "\n",
      "    accuracy                           0.96    141491\n",
      "   macro avg       0.93      0.95      0.94    141491\n",
      "weighted avg       0.96      0.96      0.96    141491\n",
      "\n",
      "[[111395   3731]\n",
      " [  1925  24440]]\n"
     ]
    }
   ],
   "source": [
    "y_pred_grid_rf_test = grid_rf.predict(X_test)\n",
    "\n",
    "print(classification_report(y_test, y_pred_grid_rf_test))\n",
    "print(confusion_matrix(y_test, y_pred_grid_rf_test))"
   ]
  },
  {
   "cell_type": "code",
   "execution_count": 81,
   "metadata": {},
   "outputs": [
    {
     "data": {
      "text/plain": [
       "{'bootstrap': False, 'criterion': 'entropy', 'n_estimators': 200}"
      ]
     },
     "execution_count": 81,
     "metadata": {},
     "output_type": "execute_result"
    }
   ],
   "source": [
    "grid_rf.best_params_"
   ]
  },
  {
   "cell_type": "code",
   "execution_count": 101,
   "metadata": {},
   "outputs": [
    {
     "data": {
      "text/plain": [
       "RandomForestClassifier(bootstrap=False, ccp_alpha=0.0, class_weight=None,\n",
       "                       criterion='entropy', max_depth=None, max_features='auto',\n",
       "                       max_leaf_nodes=None, max_samples=None,\n",
       "                       min_impurity_decrease=0.0, min_impurity_split=None,\n",
       "                       min_samples_leaf=1, min_samples_split=2,\n",
       "                       min_weight_fraction_leaf=0.0, n_estimators=200,\n",
       "                       n_jobs=None, oob_score=False, random_state=None,\n",
       "                       verbose=0, warm_start=False)"
      ]
     },
     "execution_count": 101,
     "metadata": {},
     "output_type": "execute_result"
    }
   ],
   "source": [
    "grid_rf.best_estimator_"
   ]
  },
  {
   "cell_type": "code",
   "execution_count": 119,
   "metadata": {},
   "outputs": [],
   "source": [
    "final_rf = RandomForestClassifier(bootstrap=False, ccp_alpha=0.0, class_weight=None,\n",
    "                       criterion='entropy', max_depth=None, max_features='auto',\n",
    "                       max_leaf_nodes=None, max_samples=None,\n",
    "                       min_impurity_decrease=0.0, min_impurity_split=None,\n",
    "                       min_samples_leaf=1, min_samples_split=2,\n",
    "                       min_weight_fraction_leaf=0.0, n_estimators=200,\n",
    "                       n_jobs=None, oob_score=False, random_state=None,\n",
    "                       verbose=0, warm_start=False)\n",
    "                            \n",
    "modelo_final = final_rf.fit(X_train2, y_train2)\n",
    "                               \n",
    "# Estamos usando o modelo escolhido para treinar a base e depois puxar os pesos dos coeficientes.\n",
    "# O modelo do gridsearch não tem essa função"
   ]
  },
  {
   "cell_type": "code",
   "execution_count": 106,
   "metadata": {},
   "outputs": [
    {
     "data": {
      "text/html": [
       "<div>\n",
       "<style scoped>\n",
       "    .dataframe tbody tr th:only-of-type {\n",
       "        vertical-align: middle;\n",
       "    }\n",
       "\n",
       "    .dataframe tbody tr th {\n",
       "        vertical-align: top;\n",
       "    }\n",
       "\n",
       "    .dataframe thead th {\n",
       "        text-align: right;\n",
       "    }\n",
       "</style>\n",
       "<table border=\"1\" class=\"dataframe\">\n",
       "  <thead>\n",
       "    <tr style=\"text-align: right;\">\n",
       "      <th></th>\n",
       "      <th>Coefs</th>\n",
       "    </tr>\n",
       "  </thead>\n",
       "  <tbody>\n",
       "    <tr>\n",
       "      <th>DEP_DEL15</th>\n",
       "      <td>0.519251</td>\n",
       "    </tr>\n",
       "    <tr>\n",
       "      <th>OP_CARRIER_AIRLINE_ID</th>\n",
       "      <td>0.044336</td>\n",
       "    </tr>\n",
       "    <tr>\n",
       "      <th>OP_CARRIER</th>\n",
       "      <td>0.041903</td>\n",
       "    </tr>\n",
       "    <tr>\n",
       "      <th>DISTANCE</th>\n",
       "      <td>0.090521</td>\n",
       "    </tr>\n",
       "    <tr>\n",
       "      <th>DEP_TIME_BLK</th>\n",
       "      <td>0.039876</td>\n",
       "    </tr>\n",
       "    <tr>\n",
       "      <th>DEP_TIME</th>\n",
       "      <td>0.101195</td>\n",
       "    </tr>\n",
       "    <tr>\n",
       "      <th>DAY_OF_MONTH</th>\n",
       "      <td>0.040471</td>\n",
       "    </tr>\n",
       "    <tr>\n",
       "      <th>ARR_TIME</th>\n",
       "      <td>0.122446</td>\n",
       "    </tr>\n",
       "  </tbody>\n",
       "</table>\n",
       "</div>"
      ],
      "text/plain": [
       "                          Coefs\n",
       "DEP_DEL15              0.519251\n",
       "OP_CARRIER_AIRLINE_ID  0.044336\n",
       "OP_CARRIER             0.041903\n",
       "DISTANCE               0.090521\n",
       "DEP_TIME_BLK           0.039876\n",
       "DEP_TIME               0.101195\n",
       "DAY_OF_MONTH           0.040471\n",
       "ARR_TIME               0.122446"
      ]
     },
     "execution_count": 106,
     "metadata": {},
     "output_type": "execute_result"
    }
   ],
   "source": [
    "# Criamos um Dataframe com os pesos\n",
    "coef = pd.DataFrame(modelo_final.feature_importances_, X_train2.columns, columns=['Coefs'])\n",
    "coef"
   ]
  },
  {
   "cell_type": "code",
   "execution_count": 107,
   "metadata": {},
   "outputs": [
    {
     "data": {
      "text/plain": [
       "<matplotlib.axes._subplots.AxesSubplot at 0x1768bdaf550>"
      ]
     },
     "execution_count": 107,
     "metadata": {},
     "output_type": "execute_result"
    },
    {
     "data": {
      "image/png": "[encoded data removed]",
      "text/plain": [
       "<Figure size 432x288 with 1 Axes>"
      ]
     },
     "metadata": {
      "needs_background": "light"
     },
     "output_type": "display_data"
    }
   ],
   "source": [
    "coef.sort_values('Coefs', ascending=False).plot(kind='barh')"
   ]
  },
  {
   "cell_type": "markdown",
   "metadata": {},
   "source": [
    "Notamos que o DEP_DEL15 tem grande importância para determinar se o pouso terá atraso. Vimos isso quando fizemos a correlação entre as variáveis. Seria interessante saber, portanto, quais as causas para o atraso da decolagem. \n",
    "\n",
    "Alguns motivos possíveis para atraso:\n",
    "* Conexões podem causar atraso. Se um passageiro com conexão aterrisa atrasado o próximo voo dele também atrasará\n",
    "* Aeroportos com controle mais rígido podem checar bagagens de passageiros já embarcados. Esse passageiro terá de ser retiado da aeronave\n",
    "* O clima desvaforece a segurança tanto na decolagem como na aterrissagem. O mês de janeiro é um mês frio nos EUA e a neve pode interferir, principalmente nos estados mais ao norte. \n",
    "* Manutenções corretivas (aquelas feitas quando já há algo defeituoso) podem ser necessárias"
   ]
  },
  {
   "cell_type": "markdown",
   "metadata": {},
   "source": [
    "## Para finalizar vamos verificar se o modelo de 2019 é bom para 2020"
   ]
  },
  {
   "cell_type": "code",
   "execution_count": 111,
   "metadata": {},
   "outputs": [],
   "source": [
    "df20 = pd.read_csv('Jan_2020_ontime.csv')"
   ]
  },
  {
   "cell_type": "code",
   "execution_count": 113,
   "metadata": {},
   "outputs": [],
   "source": [
    "df20 = df20.dropna()"
   ]
  },
  {
   "cell_type": "code",
   "execution_count": 115,
   "metadata": {},
   "outputs": [],
   "source": [
    "X = df20[['DEP_TIME_BLK', 'DEP_DEL15', 'ORIGIN', 'OP_UNIQUE_CARRIER', 'OP_CARRIER_AIRLINE_ID',\n",
    "          'OP_CARRIER', 'DISTANCE', 'DEST', 'DAY_OF_WEEK', 'DAY_OF_MONTH']]\n",
    "y = df20['ARR_DEL15']"
   ]
  },
  {
   "cell_type": "code",
   "execution_count": 120,
   "metadata": {},
   "outputs": [
    {
     "name": "stdout",
     "output_type": "stream",
     "text": [
      "              precision    recall  f1-score   support\n",
      "\n",
      "         0.0       0.98      0.97      0.98    460741\n",
      "         1.0       0.87      0.93      0.90    105222\n",
      "\n",
      "    accuracy                           0.96    565963\n",
      "   macro avg       0.93      0.95      0.94    565963\n",
      "weighted avg       0.96      0.96      0.96    565963\n",
      "\n",
      "[[445823  14918]\n",
      " [  7538  97684]]\n"
     ]
    }
   ],
   "source": [
    "y_pred_final = modelo_final.predict(X)\n",
    "\n",
    "print(classification_report(y, y_pred_final))\n",
    "print(confusion_matrix(y, y_pred_final))"
   ]
  },
  {
   "cell_type": "code",
   "execution_count": 122,
   "metadata": {},
   "outputs": [
    {
     "name": "stdout",
     "output_type": "stream",
     "text": [
      "              precision    recall  f1-score   support\n",
      "\n",
      "         0.0       0.98      0.97      0.98    115126\n",
      "         1.0       0.87      0.93      0.90     26365\n",
      "\n",
      "    accuracy                           0.96    141491\n",
      "   macro avg       0.93      0.95      0.94    141491\n",
      "weighted avg       0.96      0.96      0.96    141491\n",
      "\n",
      "[[111395   3731]\n",
      " [  1925  24440]]\n"
     ]
    }
   ],
   "source": [
    "print(classification_report(y_test, y_pred_grid_rf_test))\n",
    "print(confusion_matrix(y_test, y_pred_grid_rf_test))"
   ]
  },
  {
   "cell_type": "code",
   "execution_count": 125,
   "metadata": {},
   "outputs": [
    {
     "data": {
      "text/plain": [
       "0.9283609891467564"
      ]
     },
     "execution_count": 125,
     "metadata": {},
     "output_type": "execute_result"
    }
   ],
   "source": [
    "# Recall modelo final\n",
    "97684 / (7538 + 97684)"
   ]
  },
  {
   "cell_type": "code",
   "execution_count": 126,
   "metadata": {},
   "outputs": [
    {
     "data": {
      "text/plain": [
       "0.9269865351792149"
      ]
     },
     "execution_count": 126,
     "metadata": {},
     "output_type": "execute_result"
    }
   ],
   "source": [
    "# Recall grid_rf\n",
    "24440 / (24440 + 1925)"
   ]
  },
  {
   "cell_type": "markdown",
   "metadata": {},
   "source": [
    "Comparando os dois resultados vemos que as métricas são iguais. Estão arredendodas e devem ter pequenas variaçãoes.\n",
    "\n",
    "Podemos então utilizar o modelo para prever eventos futuros."
   ]
  },
  {
   "cell_type": "code",
   "execution_count": null,
   "metadata": {},
   "outputs": [],
   "source": []
  }
 ],
 "metadata": {
  "kernelspec": {
   "display_name": "Python 3",
   "language": "python",
   "name": "python3"
  },
  "language_info": {
   "codemirror_mode": {
    "name": "ipython",
    "version": 3
   },
   "file_extension": ".py",
   "mimetype": "text/x-python",
   "name": "python",
   "nbconvert_exporter": "python",
   "pygments_lexer": "ipython3",
   "version": "3.7.3"
  }
 },
 "nbformat": 4,
 "nbformat_minor": 2
}
